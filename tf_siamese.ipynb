{
 "cells": [
  {
   "cell_type": "markdown",
   "id": "b1ade922-da4f-4107-9467-95a1a972a694",
   "metadata": {},
   "source": [
    "## https://www.kaggle.com/sauravjoshi23/text-classification-using-siamesenet-glove\n"
   ]
  },
  {
   "cell_type": "code",
   "execution_count": 21,
   "id": "1a426512",
   "metadata": {},
   "outputs": [],
   "source": [
    "import pandas as pd\n",
    "import numpy as np\n",
    "import random\n",
    "import warnings\n",
    "import time\n",
    "import datetime\n",
    "import re\n",
    "import string\n",
    "import itertools\n",
    "import pickle\n",
    "import joblib\n",
    "import nltk\n",
    "import csv\n",
    "from nltk.corpus import stopwords, wordnet\n",
    "stop = set(stopwords.words('english'))\n",
    "from wordcloud import WordCloud, STOPWORDS\n",
    "from nltk.stem import WordNetLemmatizer\n",
    "from nltk.tokenize import word_tokenize\n",
    "from nltk.probability import FreqDist\n",
    "from collections import Counter, defaultdict\n",
    "from keras.utils import np_utils\n",
    "\n",
    "import keras.backend as K\n",
    "import tensorflow as tf\n",
    "from tensorflow import keras\n",
    "from sklearn.metrics import classification_report\n",
    "from sklearn.model_selection import train_test_split\n",
    "from sklearn.metrics import roc_auc_score\n",
    "\n",
    "from tensorflow.keras.preprocessing.sequence import pad_sequences\n",
    "from tensorflow.keras.preprocessing.text import Tokenizer\n",
    "from tensorflow.keras.regularizers import l2\n",
    "from tensorflow.keras.models import Sequential\n",
    "from tensorflow.keras.optimizers import Adam\n",
    "from tensorflow.keras.layers import Conv2D, ZeroPadding2D, Activation, Input, concatenate,Embedding, LSTM\n",
    "from tensorflow.keras.models import Model\n",
    "from tensorflow.keras.layers import BatchNormalization\n",
    "from tensorflow.keras.layers import MaxPooling2D\n",
    "from tensorflow.keras.layers import Concatenate\n",
    "from tensorflow.keras.layers import Lambda, Flatten, Dense\n",
    "from tensorflow.keras.initializers import glorot_uniform\n",
    "from tensorflow.keras.layers import Input, Dense, Flatten, GlobalMaxPool2D, GlobalAvgPool2D, Concatenate, Multiply, Dropout, Subtract, Add, Conv2D\n",
    "\n",
    "from sklearn.manifold import TSNE\n",
    "import matplotlib.pyplot as plt\n",
    "import seaborn as sns\n",
    "%matplotlib inline\n",
    "\n",
    "import warnings\n",
    "warnings.filterwarnings('ignore')"
   ]
  },
  {
   "cell_type": "code",
   "execution_count": 22,
   "id": "260304ff",
   "metadata": {},
   "outputs": [],
   "source": [
    "train_data_file_m = '/data/parush/stance_mohammed/new_train.txt'\n",
    "test_data_file_m = '/data/parush/stance_mohammed/new_test.txt'\n",
    "TARGETS_m = [ 'Atheism','Climate Change is a Real Concern', 'Feminist Movement','Hillary Clinton', 'Legalization of Abortion', 'Donald Trump']\n",
    "pos_target = 'Donald Trump' #1 label\n",
    "neg_target = 'Atheism'      # 0 label\n",
    "\n"
   ]
  },
  {
   "cell_type": "code",
   "execution_count": null,
   "id": "fafa254a",
   "metadata": {},
   "outputs": [],
   "source": []
  },
  {
   "cell_type": "code",
   "execution_count": 23,
   "id": "585c2fb8",
   "metadata": {},
   "outputs": [],
   "source": [
    "def df_gen_mohammed(train_data_file_m,pos_target,pos_target_label,neg_target,neg_target_label ):\n",
    "    print('The model is learning {} vs {} '.format(pos_target,neg_target))\n",
    "    df = pd.DataFrame(columns=['text', 'target'])\n",
    "    with open(train_data_file_m, 'r') as trainfile:\n",
    "        for line in trainfile:\n",
    "            line = line.replace('#SemST', '').strip()\n",
    "            line = line.split('\\t')\n",
    "            if line[0].strip() != 'ID' and pos_target in line[1].strip():\n",
    "                tweet = line[2]\n",
    "                df.loc[len(df)] = [tweet,pos_target_label]\n",
    "            elif line[0].strip() != 'ID' and neg_target in line[1].strip():\n",
    "                tweet = line[2]\n",
    "                df.loc[len(df)] = [tweet,neg_target_label]\n",
    "    df = df.sample(frac = 1)\n",
    "    return df"
   ]
  },
  {
   "cell_type": "code",
   "execution_count": null,
   "id": "538dfb8b-f9c6-4f51-b87e-95b42146bb76",
   "metadata": {},
   "outputs": [],
   "source": []
  },
  {
   "cell_type": "code",
   "execution_count": 24,
   "id": "8a3afee1-9ac4-476e-8696-54552a7f5ea9",
   "metadata": {},
   "outputs": [
    {
     "name": "stdout",
     "output_type": "stream",
     "text": [
      "The model is learning Donald Trump vs Atheism \n"
     ]
    }
   ],
   "source": [
    "df = df_gen_mohammed(train_data_file_m,pos_target,1,neg_target,0 )"
   ]
  },
  {
   "cell_type": "code",
   "execution_count": 25,
   "id": "b2a4d500",
   "metadata": {},
   "outputs": [
    {
     "name": "stdout",
     "output_type": "stream",
     "text": [
      "Here is the class distribution \n",
      " 1    530\n",
      "0    513\n",
      "Name: target, dtype: int64\n"
     ]
    }
   ],
   "source": [
    "print(\"Here is the class distribution \\n\",df['target'].value_counts())"
   ]
  },
  {
   "cell_type": "markdown",
   "id": "38dfe75d",
   "metadata": {},
   "source": [
    "# Data Cleaning"
   ]
  },
  {
   "cell_type": "code",
   "execution_count": 26,
   "id": "fe37df96",
   "metadata": {},
   "outputs": [
    {
     "name": "stdout",
     "output_type": "stream",
     "text": [
      "Cleaning Data\n",
      "Cleaning Done\n"
     ]
    }
   ],
   "source": [
    "def remove_url(text):\n",
    "    url = re.compile(r'https?://\\S+|www\\.\\S+')\n",
    "    return url.sub(r'', text)\n",
    "\n",
    "def remove_emoji(text):\n",
    "    emoji_pattern = re.compile(\n",
    "        '['\n",
    "        u'\\U0001F600-\\U0001F64F'  # emoticons\n",
    "        u'\\U0001F300-\\U0001F5FF'  # symbols & pictographs\n",
    "        u'\\U0001F680-\\U0001F6FF'  # transport & map symbols\n",
    "        u'\\U0001F1E0-\\U0001F1FF'  # flags (iOS)\n",
    "        u'\\U00002702-\\U000027B0'\n",
    "        u'\\U000024C2-\\U0001F251'\n",
    "        ']+',\n",
    "        flags=re.UNICODE)\n",
    "    return emoji_pattern.sub(r'', text)\n",
    "\n",
    "def remove_html(text):\n",
    "    html = re.compile(r'<.*?>|&([a-z0-9]+|#[0-9]{1,6}|#x[0-9a-f]{1,6});')\n",
    "    return re.sub(html, '', text)\n",
    "\n",
    "def remove_punct(text):\n",
    "    table = str.maketrans('', '', string.punctuation)\n",
    "    return text.translate(table)\n",
    "\n",
    "df['clean_text'] = df['text'].apply(lambda x: remove_url(str(x)))\n",
    "df['clean_text'] = df['clean_text'].apply(lambda x: remove_emoji(str(x)))\n",
    "df['clean_text'] = df['clean_text'].apply(lambda x: remove_html(str(x)))\n",
    "df['clean_text'] = df['clean_text'].apply(lambda x: remove_punct(str(x)))\n",
    "df['clean_text'] = df['clean_text'].apply(word_tokenize)\n",
    "df['clean_text'] = df['clean_text'].apply(lambda x: [word.lower() for word in x])\n",
    "df['clean_text'] = df['clean_text'].apply(lambda x: [word for word in x if word not in stop])\n",
    "df['clean_text'] = df['clean_text'].apply(nltk.tag.pos_tag)\n",
    "\n",
    "def get_wordnet_pos(tag):\n",
    "    if tag.startswith('J'):\n",
    "        return wordnet.ADJ\n",
    "    elif tag.startswith('V'):\n",
    "        return wordnet.VERB\n",
    "    elif tag.startswith('N'):\n",
    "        return wordnet.NOUN\n",
    "    elif tag.startswith('R'):\n",
    "        return wordnet.ADV\n",
    "    else:\n",
    "        return wordnet.NOUN\n",
    "print(\"Cleaning Data\")    \n",
    "df['clean_text'] = df['clean_text'].apply(\n",
    "    lambda x: [(word, get_wordnet_pos(pos_tag)) for (word, pos_tag) in x])\n",
    "wnl = WordNetLemmatizer()\n",
    "df['clean_text'] = df['clean_text'].apply(\n",
    "    lambda x: [wnl.lemmatize(word, tag) for word, tag in x])\n",
    "df['clean_text'] = df['clean_text'].apply(\n",
    "    lambda x: [word for word in x if word not in stop])\n",
    "df['clean_text'] = [' '.join(map(str, l)) for l in df['clean_text']]\n",
    "print(\"Cleaning Done\")"
   ]
  },
  {
   "cell_type": "markdown",
   "id": "e90a6858",
   "metadata": {},
   "source": [
    "# Triple Loss"
   ]
  },
  {
   "cell_type": "code",
   "execution_count": 27,
   "id": "4ef15558",
   "metadata": {},
   "outputs": [],
   "source": [
    "positive_initial = list(df[df['target'] == 1]['clean_text'])\n",
    "negative_initial = list(df[df['target'] == 0]['clean_text'])\n",
    "\n",
    "# Taking 1000 samples from the entire data\n",
    "pos = positive_initial[:]\n",
    "neg = negative_initial[:]\n",
    "\n",
    "# Creating pairs of data for siamese training => labels for identity loss and class for disaster or non disaster\n",
    "df2 = pd.DataFrame(columns=['Anchor', 'Positive', 'Negative', 'label', 'class'])\n",
    "\n",
    "for data in pos:\n",
    "    a = data\n",
    "    p = random.choice(pos)\n",
    "    n = random.choice(neg)\n",
    "    df2.loc[len(df2)] = [a, p, n, 1, 1]\n",
    "\n",
    "\n",
    "for data in neg:\n",
    "    a = data\n",
    "    p = random.choice(neg)\n",
    "    n = random.choice(pos)\n",
    "    df2.loc[len(df2)] = [a, p, n, 1, 0]"
   ]
  },
  {
   "cell_type": "code",
   "execution_count": 28,
   "id": "b8acea3a",
   "metadata": {},
   "outputs": [
    {
     "name": "stdout",
     "output_type": "stream",
     "text": [
      "The new DF with anchor, positive, negative, label, class is created. The shape is :  (1043, 5)\n"
     ]
    }
   ],
   "source": [
    "print(\"The new DF with anchor, positive, negative, label, class is created. The shape is : \", df2.shape)"
   ]
  },
  {
   "cell_type": "code",
   "execution_count": null,
   "id": "5006ce55",
   "metadata": {},
   "outputs": [],
   "source": []
  },
  {
   "cell_type": "code",
   "execution_count": 29,
   "id": "ba4f373c",
   "metadata": {},
   "outputs": [],
   "source": [
    "X, X_test, y, y_test = train_test_split(df2[['Anchor', 'Positive', 'Negative']], df2[['label', 'class']], test_size=0.2, random_state=0)\n",
    "X_train, X_val, y_train, y_val = train_test_split(X[['Anchor', 'Positive', 'Negative']], y[['label', 'class']], test_size=0.2, random_state=0)\n"
   ]
  },
  {
   "cell_type": "code",
   "execution_count": 30,
   "id": "24410b4d",
   "metadata": {
    "scrolled": true
   },
   "outputs": [
    {
     "name": "stdout",
     "output_type": "stream",
     "text": [
      "The X_train = (667, 3), X_val = (167, 3), X_test = (209, 3), y_train = (667, 2), y_val = (167, 2), y_test = (209, 2)\n"
     ]
    }
   ],
   "source": [
    "print(\"The X_train = {}, X_val = {}, X_test = {}, y_train = {}, y_val = {}, y_test = {}\".format(X_train.shape, X_val.shape, X_test.shape, y_train.shape, y_val.shape, y_test.shape))"
   ]
  },
  {
   "cell_type": "code",
   "execution_count": null,
   "id": "0497d9ac",
   "metadata": {},
   "outputs": [],
   "source": []
  },
  {
   "cell_type": "code",
   "execution_count": 31,
   "id": "b0b8fe05",
   "metadata": {},
   "outputs": [],
   "source": [
    "X_train['text'] = X_train[['Anchor', 'Positive', 'Negative']].apply(lambda x: str(x[0])+\" \"+str(x[1])+\" \"+str(x[2]), axis=1)"
   ]
  },
  {
   "cell_type": "markdown",
   "id": "2b3eadfd",
   "metadata": {},
   "source": [
    "# Tokenizer"
   ]
  },
  {
   "cell_type": "code",
   "execution_count": 32,
   "id": "4f1f8ee3",
   "metadata": {},
   "outputs": [
    {
     "name": "stdout",
     "output_type": "stream",
     "text": [
      "Starting to Tokenize and Padding\n"
     ]
    }
   ],
   "source": [
    "print(\"Starting to Tokenize and Padding\")\n",
    "t = Tokenizer()\n",
    "t.fit_on_texts(X_train['text'].values)\n",
    "\n",
    "X_train['Anchor'] = X_train['Anchor'].astype(str)\n",
    "X_train['Positive'] = X_train['Positive'].astype(str)\n",
    "X_train['Negative'] = X_train['Negative'].astype(str)\n",
    "X_val['Anchor'] = X_val['Anchor'].astype(str)\n",
    "X_val['Positive'] = X_val['Positive'].astype(str)\n",
    "X_val['Negative'] = X_val['Negative'].astype(str)\n",
    "X_test['Anchor'] = X_test['Anchor'].astype(str)\n",
    "X_test['Positive'] = X_test['Positive'].astype(str)\n",
    "X_test['Negative'] = X_test['Negative'].astype(str)\n",
    "\n",
    "train_q1_seq = t.texts_to_sequences(X_train['Anchor'].values)\n",
    "train_q2_seq = t.texts_to_sequences(X_train['Positive'].values)\n",
    "train_q3_seq = t.texts_to_sequences(X_train['Negative'].values)\n",
    "val_q1_seq = t.texts_to_sequences(X_val['Anchor'].values)\n",
    "val_q2_seq = t.texts_to_sequences(X_val['Positive'].values)\n",
    "val_q3_seq = t.texts_to_sequences(X_val['Negative'].values)\n",
    "test_q1_seq = t.texts_to_sequences(X_test['Anchor'].values)\n",
    "test_q2_seq = t.texts_to_sequences(X_test['Positive'].values)\n",
    "test_q3_seq = t.texts_to_sequences(X_test['Negative'].values)\n",
    "\n",
    "max_len = 200\n",
    "train_q1_seq = pad_sequences(train_q1_seq, maxlen=max_len, padding='post')\n",
    "train_q2_seq = pad_sequences(train_q2_seq, maxlen=max_len, padding='post')\n",
    "train_q3_seq = pad_sequences(train_q3_seq, maxlen=max_len, padding='post')\n",
    "val_q1_seq = pad_sequences(val_q1_seq, maxlen=max_len, padding='post')\n",
    "val_q2_seq = pad_sequences(val_q2_seq, maxlen=max_len, padding='post')\n",
    "val_q3_seq = pad_sequences(val_q3_seq, maxlen=max_len, padding='post')\n",
    "test_q1_seq = pad_sequences(test_q1_seq, maxlen=max_len, padding='post')\n",
    "test_q2_seq = pad_sequences(test_q2_seq, maxlen=max_len, padding='post')\n",
    "test_q3_seq = pad_sequences(test_q3_seq, maxlen=max_len, padding='post')"
   ]
  },
  {
   "cell_type": "code",
   "execution_count": 33,
   "id": "f72b7097",
   "metadata": {},
   "outputs": [
    {
     "name": "stdout",
     "output_type": "stream",
     "text": [
      "Loading Embedding and making embedding_matrix\n",
      "Found 400000 word vectors.\n"
     ]
    }
   ],
   "source": [
    "print(\"Loading Embedding and making embedding_matrix\")\n",
    "embeddings_index = {}\n",
    "f = open('/data/parush/embeddings/wikipedia/glove.6B.300d.txt')\n",
    "for line in f:\n",
    "    values = line.split()\n",
    "    word = values[0]\n",
    "    coefs = np.asarray(values[1:], dtype='float32')\n",
    "    embeddings_index[word] = coefs\n",
    "f.close()\n",
    "\n",
    "print('Found %s word vectors.' % len(embeddings_index))"
   ]
  },
  {
   "cell_type": "code",
   "execution_count": null,
   "id": "713e99c5-5d28-43f7-9a44-fa3460c3bb73",
   "metadata": {},
   "outputs": [],
   "source": []
  },
  {
   "cell_type": "code",
   "execution_count": 34,
   "id": "d3263e8d",
   "metadata": {},
   "outputs": [
    {
     "name": "stdout",
     "output_type": "stream",
     "text": [
      "Loaded 400000 word vectors.\n"
     ]
    }
   ],
   "source": [
    "not_present_list = []\n",
    "vocab_size = len(t.word_index) + 1\n",
    "print('Loaded %s word vectors.' % len(embeddings_index))\n",
    "embedding_matrix = np.zeros((vocab_size, len(embeddings_index['no'])))\n",
    "for word, i in t.word_index.items():\n",
    "    if word in embeddings_index.keys():\n",
    "        \n",
    "        embedding_vector = embeddings_index.get(word)\n",
    "    else:\n",
    "        embedding_vector = None\n",
    "        not_present_list.append(word)\n",
    "    if embedding_vector is not None:\n",
    "        embedding_matrix[i] = embedding_vector\n",
    "    else:\n",
    "        embedding_matrix[i] = np.zeros(300)"
   ]
  },
  {
   "cell_type": "code",
   "execution_count": 35,
   "id": "3a0555a9",
   "metadata": {},
   "outputs": [
    {
     "name": "stdout",
     "output_type": "stream",
     "text": [
      "Embedding matrix shape (3483, 300)\n"
     ]
    }
   ],
   "source": [
    "print(\"Embedding matrix shape\",embedding_matrix.shape)"
   ]
  },
  {
   "cell_type": "markdown",
   "id": "f9d8355f",
   "metadata": {},
   "source": [
    "# Siamese Model"
   ]
  },
  {
   "cell_type": "code",
   "execution_count": 36,
   "id": "d248dcca",
   "metadata": {},
   "outputs": [
    {
     "name": "stdout",
     "output_type": "stream",
     "text": [
      "Creating Model and Loss Function\n"
     ]
    }
   ],
   "source": [
    "print(\"Creating Model and Loss Function\")\n",
    "def identity_loss(y_true, y_pred):\n",
    "    return K.mean(y_pred)\n",
    "\n",
    "def triplet_loss(x, alpha = 0.2):\n",
    "    # Triplet Loss function.\n",
    "    anchor,positive,negative = x\n",
    "    # distance between the anchor and the positive\n",
    "    pos_dist = K.sum(K.square(anchor-positive),axis=1)\n",
    "    # distance between the anchor and the negative\n",
    "    neg_dist = K.sum(K.square(anchor-negative),axis=1)\n",
    "    # compute loss\n",
    "    basic_loss = pos_dist-neg_dist+alpha\n",
    "    loss = K.maximum(basic_loss,0.0)\n",
    "    return loss"
   ]
  },
  {
   "cell_type": "code",
   "execution_count": 37,
   "id": "293fe586",
   "metadata": {},
   "outputs": [],
   "source": [
    "def embedding_model():\n",
    "    network = Sequential()\n",
    "    network.add(Embedding(name=\"synopsis_embedd\",input_dim =len(t.word_index)+1, \n",
    "                       output_dim=len(embeddings_index['no']),weights=[embedding_matrix], \n",
    "                       input_length=train_q1_seq.shape[1],trainable=False))\n",
    "    network.add(LSTM(64,return_sequences=True, activation=\"relu\",dropout=0.3))\n",
    "    network.add(Flatten())\n",
    "    network.add(Dense(128, activation='relu',\n",
    "                  kernel_regularizer=l2(1e-3),\n",
    "                  kernel_initializer='he_uniform'))\n",
    "    network.add(Dropout(0.5))\n",
    "    network.add(Dense(2, activation=None,\n",
    "                  kernel_regularizer=l2(1e-3),\n",
    "                  kernel_initializer='he_uniform'))\n",
    "    #Force the encoding to live on the d-dimentional hypershpere\n",
    "    # network.add(Lambda(lambda x: K.l2_normalize(x,axis=-1)))\n",
    "    return network\n",
    "\n",
    "\n",
    "def build_network(base_model):\n",
    "    input_1 = Input(shape=(train_q1_seq.shape[1],))\n",
    "    input_2 = Input(shape=(train_q2_seq.shape[1],))\n",
    "    input_3 = Input(shape=(train_q3_seq.shape[1],))\n",
    "    \n",
    "    A = base_model(input_1)\n",
    "    P = base_model(input_2)\n",
    "    N = base_model(input_3)\n",
    "\n",
    "    loss = Lambda(triplet_loss)([A, P, N])\n",
    "    model = Model(inputs = [input_1, input_2, input_3], outputs = loss)\n",
    "    model.compile(loss = identity_loss, optimizer = Adam(0.001))\n",
    "    return model"
   ]
  },
  {
   "cell_type": "code",
   "execution_count": 38,
   "id": "c56b2f01",
   "metadata": {},
   "outputs": [
    {
     "name": "stdout",
     "output_type": "stream",
     "text": [
      "WARNING:tensorflow:Layer lstm_1 will not use cuDNN kernels since it doesn't meet the criteria. It will use a generic GPU kernel as fallback when running on GPU.\n",
      "Model: \"model_1\"\n",
      "__________________________________________________________________________________________________\n",
      "Layer (type)                    Output Shape         Param #     Connected to                     \n",
      "==================================================================================================\n",
      "input_4 (InputLayer)            [(None, 200)]        0                                            \n",
      "__________________________________________________________________________________________________\n",
      "input_5 (InputLayer)            [(None, 200)]        0                                            \n",
      "__________________________________________________________________________________________________\n",
      "input_6 (InputLayer)            [(None, 200)]        0                                            \n",
      "__________________________________________________________________________________________________\n",
      "sequential_1 (Sequential)       (None, 2)            2777126     input_4[0][0]                    \n",
      "                                                                 input_5[0][0]                    \n",
      "                                                                 input_6[0][0]                    \n",
      "__________________________________________________________________________________________________\n",
      "lambda_1 (Lambda)               (None,)              0           sequential_1[0][0]               \n",
      "                                                                 sequential_1[1][0]               \n",
      "                                                                 sequential_1[2][0]               \n",
      "==================================================================================================\n",
      "Total params: 2,777,126\n",
      "Trainable params: 1,732,226\n",
      "Non-trainable params: 1,044,900\n",
      "__________________________________________________________________________________________________\n"
     ]
    }
   ],
   "source": [
    "base_model = embedding_model()\n",
    "model = build_network(base_model)\n",
    "model.summary()"
   ]
  },
  {
   "cell_type": "code",
   "execution_count": 39,
   "id": "9988ba7f",
   "metadata": {},
   "outputs": [],
   "source": [
    "y_train_label = np.asarray(y_train['label']).astype('float32')\n",
    "y_val_label = np.asarray(y_val['label']).astype('float32')\n",
    "y_test_label = np.asarray(y_test['label']).astype('float32')\n",
    "\n",
    "y_train_class = np.asarray(y_train['class']).astype('float32')\n",
    "y_val_class = np.asarray(y_val['class']).astype('float32')\n",
    "y_test_class = np.asarray(y_test['class']).astype('float32')"
   ]
  },
  {
   "cell_type": "code",
   "execution_count": 40,
   "id": "ffe45e64",
   "metadata": {},
   "outputs": [
    {
     "name": "stdout",
     "output_type": "stream",
     "text": [
      "Learning from training data and validating from validation data\n",
      "Epoch 1/50\n",
      "11/11 [==============================] - 10s 630ms/step - loss: 0.3714 - val_loss: 0.2669\n",
      "Epoch 2/50\n",
      "11/11 [==============================] - 6s 573ms/step - loss: 0.2307 - val_loss: 0.1888\n",
      "Epoch 3/50\n",
      "11/11 [==============================] - 6s 594ms/step - loss: 0.1763 - val_loss: 0.1553\n",
      "Epoch 4/50\n",
      "11/11 [==============================] - 6s 598ms/step - loss: 0.1489 - val_loss: 0.1482\n",
      "Epoch 5/50\n",
      "11/11 [==============================] - 6s 577ms/step - loss: 0.1238 - val_loss: 0.1312\n",
      "Epoch 6/50\n",
      "11/11 [==============================] - 6s 589ms/step - loss: 0.1057 - val_loss: 0.1217\n",
      "Epoch 7/50\n",
      "11/11 [==============================] - 6s 562ms/step - loss: 0.0959 - val_loss: 0.1207\n",
      "Epoch 8/50\n",
      "11/11 [==============================] - 6s 590ms/step - loss: 0.0781 - val_loss: 0.1174\n",
      "Epoch 9/50\n",
      "11/11 [==============================] - 6s 596ms/step - loss: 0.0719 - val_loss: 0.1165\n",
      "Epoch 10/50\n",
      "11/11 [==============================] - 6s 591ms/step - loss: 0.0584 - val_loss: 0.1146\n",
      "Epoch 11/50\n",
      "11/11 [==============================] - 6s 564ms/step - loss: 0.0559 - val_loss: 0.1168\n",
      "Epoch 12/50\n",
      "11/11 [==============================] - 6s 591ms/step - loss: 0.0517 - val_loss: 0.1084\n",
      "Epoch 13/50\n",
      "11/11 [==============================] - 6s 586ms/step - loss: 0.0489 - val_loss: 0.1042\n",
      "Epoch 14/50\n",
      "11/11 [==============================] - 6s 577ms/step - loss: 0.0476 - val_loss: 0.1024\n",
      "Epoch 15/50\n",
      "11/11 [==============================] - 6s 583ms/step - loss: 0.0398 - val_loss: 0.1010\n",
      "Epoch 16/50\n",
      "11/11 [==============================] - 6s 574ms/step - loss: 0.0402 - val_loss: 0.1056\n",
      "Epoch 17/50\n",
      "11/11 [==============================] - 6s 569ms/step - loss: 0.0471 - val_loss: 0.0928\n",
      "Epoch 18/50\n",
      "11/11 [==============================] - 6s 575ms/step - loss: 0.0359 - val_loss: 0.0934\n",
      "Epoch 19/50\n",
      "11/11 [==============================] - 6s 590ms/step - loss: 0.0320 - val_loss: 0.1063\n",
      "Epoch 20/50\n",
      "11/11 [==============================] - 6s 553ms/step - loss: 0.0334 - val_loss: 0.1099\n",
      "Epoch 21/50\n",
      "11/11 [==============================] - 6s 581ms/step - loss: 0.0262 - val_loss: 0.1074\n",
      "Epoch 22/50\n",
      "11/11 [==============================] - 6s 580ms/step - loss: 0.0338 - val_loss: 0.1082\n",
      "Epoch 23/50\n",
      "11/11 [==============================] - 6s 584ms/step - loss: 0.0267 - val_loss: 0.1184\n",
      "Epoch 24/50\n",
      "11/11 [==============================] - 6s 571ms/step - loss: 0.0223 - val_loss: 0.1226\n",
      "Epoch 25/50\n",
      "11/11 [==============================] - 6s 564ms/step - loss: 0.0258 - val_loss: 0.1212\n",
      "Epoch 26/50\n",
      "11/11 [==============================] - 7s 611ms/step - loss: 0.0332 - val_loss: 0.1231\n",
      "Epoch 27/50\n",
      "11/11 [==============================] - 6s 553ms/step - loss: 0.0250 - val_loss: 0.1372\n",
      "Epoch 28/50\n",
      "11/11 [==============================] - 6s 589ms/step - loss: 0.0267 - val_loss: 0.1456\n",
      "Epoch 29/50\n",
      "11/11 [==============================] - 6s 578ms/step - loss: 0.0341 - val_loss: 0.1258\n",
      "Epoch 30/50\n",
      "11/11 [==============================] - 6s 597ms/step - loss: 0.0278 - val_loss: 0.1196\n",
      "Epoch 31/50\n",
      "11/11 [==============================] - 6s 590ms/step - loss: 0.0297 - val_loss: 0.1141\n",
      "Epoch 32/50\n",
      "11/11 [==============================] - 6s 580ms/step - loss: 0.0239 - val_loss: 0.1174\n",
      "Epoch 33/50\n",
      "11/11 [==============================] - 7s 610ms/step - loss: 0.0280 - val_loss: 0.1219\n",
      "Epoch 34/50\n",
      "11/11 [==============================] - 6s 597ms/step - loss: 0.0232 - val_loss: 0.1292\n",
      "Epoch 35/50\n",
      "11/11 [==============================] - 6s 585ms/step - loss: 0.0223 - val_loss: 0.1220\n",
      "Epoch 36/50\n",
      "11/11 [==============================] - 7s 607ms/step - loss: 0.0235 - val_loss: 0.1109\n",
      "Epoch 37/50\n",
      "11/11 [==============================] - 7s 592ms/step - loss: 0.0253 - val_loss: 0.1071\n",
      "Epoch 38/50\n",
      "11/11 [==============================] - 7s 602ms/step - loss: 0.0219 - val_loss: 0.1097\n",
      "Epoch 39/50\n",
      "11/11 [==============================] - 7s 604ms/step - loss: 0.0204 - val_loss: 0.1209\n",
      "Epoch 40/50\n",
      "11/11 [==============================] - 7s 600ms/step - loss: 0.0244 - val_loss: 0.1135\n",
      "Epoch 41/50\n",
      "11/11 [==============================] - 7s 607ms/step - loss: 0.0179 - val_loss: 0.1107\n",
      "Epoch 42/50\n",
      "11/11 [==============================] - 6s 589ms/step - loss: 0.0184 - val_loss: 0.1204\n",
      "Epoch 43/50\n",
      "11/11 [==============================] - 6s 596ms/step - loss: 0.0231 - val_loss: 0.1229\n",
      "Epoch 44/50\n",
      "11/11 [==============================] - 6s 585ms/step - loss: 0.0206 - val_loss: 0.1193\n",
      "Epoch 45/50\n",
      "11/11 [==============================] - 7s 593ms/step - loss: 0.0177 - val_loss: 0.1209\n",
      "Epoch 46/50\n",
      "11/11 [==============================] - 6s 596ms/step - loss: 0.0159 - val_loss: 0.1267\n",
      "Epoch 47/50\n",
      "11/11 [==============================] - 6s 596ms/step - loss: 0.0180 - val_loss: 0.1330\n",
      "Epoch 48/50\n",
      "11/11 [==============================] - 7s 594ms/step - loss: 0.0203 - val_loss: 0.1471\n",
      "Epoch 49/50\n",
      "11/11 [==============================] - 6s 582ms/step - loss: 0.0188 - val_loss: 0.1574\n",
      "Epoch 50/50\n",
      "11/11 [==============================] - 7s 597ms/step - loss: 0.0177 - val_loss: 0.1542\n"
     ]
    }
   ],
   "source": [
    "print('Learning from training data and validating from validation data')\n",
    "history = model.fit([train_q1_seq,train_q2_seq, train_q3_seq],y_train_label.reshape(-1,1), epochs = 50, \n",
    "          batch_size=64,validation_data=([val_q1_seq, val_q2_seq, val_q3_seq],y_val_label.reshape(-1,1)))"
   ]
  },
  {
   "cell_type": "code",
   "execution_count": 41,
   "id": "8f587744",
   "metadata": {},
   "outputs": [
    {
     "data": {
      "image/png": "[encoded data removed]",
      "text/plain": [
       "<Figure size 432x288 with 1 Axes>"
      ]
     },
     "metadata": {
      "needs_background": "light"
     },
     "output_type": "display_data"
    }
   ],
   "source": [
    "\n",
    "plt.plot(history.history['loss'])\n",
    "plt.plot(history.history['val_loss'])\n",
    "plt.title('Training and Validation Losses',size = 12)\n",
    "plt.ylabel('loss')\n",
    "plt.xlabel('epoch')\n",
    "plt.legend(['train', 'val'], loc='upper right')\n",
    "plt.show()"
   ]
  },
  {
   "cell_type": "code",
   "execution_count": 42,
   "id": "9926a334",
   "metadata": {},
   "outputs": [],
   "source": [
    "# model_json = model.to_json()\n",
    "# with open(\"siamesemodel-triplet-loss.json\", \"w\") as json_file:\n",
    "#     json_file.write(model_json)\n",
    "# #serialize weights to HDF5\n",
    "# model.save_weights(\"siamesemodel-triplet-loss.h5\")\n",
    "# print(\"Saved model to disk\")"
   ]
  },
  {
   "cell_type": "code",
   "execution_count": 43,
   "id": "50ed38fe",
   "metadata": {},
   "outputs": [],
   "source": [
    "\n",
    "X_train_eval = base_model.predict(train_q1_seq)\n",
    "X_test_eval = base_model.predict(test_q1_seq)\n",
    "# The above embedding outputs will be used to predict. \n",
    "\n",
    "# TSNE - dimensionality reduction for data visualization\n",
    "tsne = TSNE()\n",
    "train_tsne_embeds = tsne.fit_transform(X_train_eval)"
   ]
  },
  {
   "cell_type": "code",
   "execution_count": 44,
   "id": "754a9577",
   "metadata": {},
   "outputs": [
    {
     "data": {
      "image/png": "[encoded data removed]",
      "text/plain": [
       "<Figure size 576x576 with 1 Axes>"
      ]
     },
     "metadata": {
      "needs_background": "light"
     },
     "output_type": "display_data"
    }
   ],
   "source": [
    "def scatter(x, labels, subtitle=None):\n",
    "    # Create a scatter plot of all the \n",
    "    # the embeddings of the model.\n",
    "    # We choose a color palette with seaborn.\n",
    "    palette = np.array(sns.color_palette(\"hls\", 2))\n",
    "    # We create a scatter plot.\n",
    "    f = plt.figure(figsize=(8, 8))\n",
    "    ax = plt.subplot(aspect='equal')\n",
    "    sc = ax.scatter(x[:,0], x[:,1], lw=0,alpha = 0.5, s=40,\n",
    "                    c=palette[labels.astype(np.int)] )\n",
    "    plt.xlim(-25, 25)\n",
    "    plt.ylim(-25, 25)\n",
    "    ax.axis('off')\n",
    "    ax.axis('tight')\n",
    "\n",
    "scatter(train_tsne_embeds, y_train_class)"
   ]
  },
  {
   "cell_type": "code",
   "execution_count": null,
   "id": "5bdd7564-88f1-44b6-8aec-b2f7c2c8bf2f",
   "metadata": {},
   "outputs": [],
   "source": []
  },
  {
   "cell_type": "code",
   "execution_count": 45,
   "id": "39efcd6c",
   "metadata": {},
   "outputs": [
    {
     "name": "stdout",
     "output_type": "stream",
     "text": [
      "Epoch 1/100\n",
      "21/21 [==============================] - 0s 7ms/step - loss: 0.3568 - accuracy: 0.9880 - val_loss: 0.4742 - val_accuracy: 0.8804\n",
      "Epoch 2/100\n",
      "21/21 [==============================] - 0s 3ms/step - loss: 0.3475 - accuracy: 0.9880 - val_loss: 0.4699 - val_accuracy: 0.8804\n",
      "Epoch 3/100\n",
      "21/21 [==============================] - 0s 3ms/step - loss: 0.3387 - accuracy: 0.9895 - val_loss: 0.4658 - val_accuracy: 0.8852\n",
      "Epoch 4/100\n",
      "21/21 [==============================] - 0s 3ms/step - loss: 0.3305 - accuracy: 0.9910 - val_loss: 0.4619 - val_accuracy: 0.8852\n",
      "Epoch 5/100\n",
      "21/21 [==============================] - 0s 3ms/step - loss: 0.3226 - accuracy: 0.9910 - val_loss: 0.4583 - val_accuracy: 0.8804\n",
      "Epoch 6/100\n",
      "21/21 [==============================] - 0s 3ms/step - loss: 0.3151 - accuracy: 0.9910 - val_loss: 0.4550 - val_accuracy: 0.8852\n",
      "Epoch 7/100\n",
      "21/21 [==============================] - 0s 3ms/step - loss: 0.3079 - accuracy: 0.9910 - val_loss: 0.4517 - val_accuracy: 0.8756\n",
      "Epoch 8/100\n",
      "21/21 [==============================] - 0s 3ms/step - loss: 0.3010 - accuracy: 0.9895 - val_loss: 0.4487 - val_accuracy: 0.8756\n",
      "Epoch 9/100\n",
      "21/21 [==============================] - 0s 3ms/step - loss: 0.2945 - accuracy: 0.9895 - val_loss: 0.4457 - val_accuracy: 0.8756\n",
      "Epoch 10/100\n",
      "21/21 [==============================] - 0s 3ms/step - loss: 0.2882 - accuracy: 0.9895 - val_loss: 0.4429 - val_accuracy: 0.8756\n",
      "Epoch 11/100\n",
      "21/21 [==============================] - 0s 3ms/step - loss: 0.2822 - accuracy: 0.9895 - val_loss: 0.4402 - val_accuracy: 0.8756\n",
      "Epoch 12/100\n",
      "21/21 [==============================] - 0s 3ms/step - loss: 0.2765 - accuracy: 0.9895 - val_loss: 0.4378 - val_accuracy: 0.8756\n",
      "Epoch 13/100\n",
      "21/21 [==============================] - 0s 3ms/step - loss: 0.2708 - accuracy: 0.9895 - val_loss: 0.4353 - val_accuracy: 0.8756\n",
      "Epoch 14/100\n",
      "21/21 [==============================] - 0s 3ms/step - loss: 0.2655 - accuracy: 0.9895 - val_loss: 0.4330 - val_accuracy: 0.8708\n",
      "Epoch 15/100\n",
      "21/21 [==============================] - 0s 3ms/step - loss: 0.2604 - accuracy: 0.9895 - val_loss: 0.4309 - val_accuracy: 0.8708\n",
      "Epoch 16/100\n",
      "21/21 [==============================] - 0s 3ms/step - loss: 0.2555 - accuracy: 0.9895 - val_loss: 0.4288 - val_accuracy: 0.8708\n",
      "Epoch 17/100\n",
      "21/21 [==============================] - 0s 3ms/step - loss: 0.2507 - accuracy: 0.9895 - val_loss: 0.4271 - val_accuracy: 0.8708\n",
      "Epoch 18/100\n",
      "21/21 [==============================] - 0s 3ms/step - loss: 0.2461 - accuracy: 0.9895 - val_loss: 0.4252 - val_accuracy: 0.8708\n",
      "Epoch 19/100\n",
      "21/21 [==============================] - 0s 3ms/step - loss: 0.2417 - accuracy: 0.9895 - val_loss: 0.4235 - val_accuracy: 0.8708\n",
      "Epoch 20/100\n",
      "21/21 [==============================] - 0s 3ms/step - loss: 0.2374 - accuracy: 0.9895 - val_loss: 0.4219 - val_accuracy: 0.8708\n",
      "Epoch 21/100\n",
      "21/21 [==============================] - 0s 3ms/step - loss: 0.2333 - accuracy: 0.9895 - val_loss: 0.4202 - val_accuracy: 0.8708\n",
      "Epoch 22/100\n",
      "21/21 [==============================] - 0s 3ms/step - loss: 0.2293 - accuracy: 0.9895 - val_loss: 0.4187 - val_accuracy: 0.8708\n",
      "Epoch 23/100\n",
      "21/21 [==============================] - 0s 3ms/step - loss: 0.2255 - accuracy: 0.9895 - val_loss: 0.4174 - val_accuracy: 0.8708\n",
      "Epoch 24/100\n",
      "21/21 [==============================] - 0s 3ms/step - loss: 0.2218 - accuracy: 0.9895 - val_loss: 0.4159 - val_accuracy: 0.8708\n",
      "Epoch 25/100\n",
      "21/21 [==============================] - 0s 3ms/step - loss: 0.2182 - accuracy: 0.9895 - val_loss: 0.4148 - val_accuracy: 0.8708\n",
      "Epoch 26/100\n",
      "21/21 [==============================] - 0s 3ms/step - loss: 0.2147 - accuracy: 0.9895 - val_loss: 0.4135 - val_accuracy: 0.8708\n",
      "Epoch 27/100\n",
      "21/21 [==============================] - 0s 3ms/step - loss: 0.2114 - accuracy: 0.9895 - val_loss: 0.4125 - val_accuracy: 0.8708\n",
      "Epoch 28/100\n",
      "21/21 [==============================] - 0s 3ms/step - loss: 0.2081 - accuracy: 0.9895 - val_loss: 0.4115 - val_accuracy: 0.8708\n",
      "Epoch 29/100\n",
      "21/21 [==============================] - 0s 3ms/step - loss: 0.2050 - accuracy: 0.9895 - val_loss: 0.4106 - val_accuracy: 0.8708\n",
      "Epoch 30/100\n",
      "21/21 [==============================] - 0s 3ms/step - loss: 0.2019 - accuracy: 0.9895 - val_loss: 0.4096 - val_accuracy: 0.8708\n",
      "Epoch 31/100\n",
      "21/21 [==============================] - 0s 3ms/step - loss: 0.1990 - accuracy: 0.9910 - val_loss: 0.4087 - val_accuracy: 0.8708\n",
      "Epoch 32/100\n",
      "21/21 [==============================] - 0s 3ms/step - loss: 0.1961 - accuracy: 0.9910 - val_loss: 0.4078 - val_accuracy: 0.8708\n",
      "Epoch 33/100\n",
      "21/21 [==============================] - 0s 3ms/step - loss: 0.1934 - accuracy: 0.9910 - val_loss: 0.4071 - val_accuracy: 0.8708\n",
      "Epoch 34/100\n",
      "21/21 [==============================] - 0s 3ms/step - loss: 0.1907 - accuracy: 0.9910 - val_loss: 0.4063 - val_accuracy: 0.8708\n",
      "Epoch 35/100\n",
      "21/21 [==============================] - 0s 3ms/step - loss: 0.1881 - accuracy: 0.9910 - val_loss: 0.4057 - val_accuracy: 0.8708\n",
      "Epoch 36/100\n",
      "21/21 [==============================] - 0s 3ms/step - loss: 0.1855 - accuracy: 0.9910 - val_loss: 0.4052 - val_accuracy: 0.8708\n",
      "Epoch 37/100\n",
      "21/21 [==============================] - 0s 3ms/step - loss: 0.1831 - accuracy: 0.9910 - val_loss: 0.4045 - val_accuracy: 0.8708\n",
      "Epoch 38/100\n",
      "21/21 [==============================] - 0s 3ms/step - loss: 0.1807 - accuracy: 0.9910 - val_loss: 0.4040 - val_accuracy: 0.8708\n",
      "Epoch 39/100\n",
      "21/21 [==============================] - 0s 3ms/step - loss: 0.1784 - accuracy: 0.9910 - val_loss: 0.4034 - val_accuracy: 0.8708\n",
      "Epoch 40/100\n",
      "21/21 [==============================] - 0s 3ms/step - loss: 0.1762 - accuracy: 0.9910 - val_loss: 0.4030 - val_accuracy: 0.8708\n",
      "Epoch 41/100\n",
      "21/21 [==============================] - 0s 3ms/step - loss: 0.1740 - accuracy: 0.9910 - val_loss: 0.4026 - val_accuracy: 0.8708\n",
      "Epoch 42/100\n",
      "21/21 [==============================] - 0s 3ms/step - loss: 0.1718 - accuracy: 0.9910 - val_loss: 0.4023 - val_accuracy: 0.8708\n",
      "Epoch 43/100\n",
      "21/21 [==============================] - 0s 3ms/step - loss: 0.1698 - accuracy: 0.9910 - val_loss: 0.4019 - val_accuracy: 0.8708\n",
      "Epoch 44/100\n",
      "21/21 [==============================] - 0s 3ms/step - loss: 0.1678 - accuracy: 0.9910 - val_loss: 0.4017 - val_accuracy: 0.8708\n",
      "Epoch 45/100\n",
      "21/21 [==============================] - 0s 3ms/step - loss: 0.1658 - accuracy: 0.9910 - val_loss: 0.4014 - val_accuracy: 0.8708\n",
      "Epoch 46/100\n",
      "21/21 [==============================] - 0s 3ms/step - loss: 0.1640 - accuracy: 0.9910 - val_loss: 0.4011 - val_accuracy: 0.8708\n",
      "Epoch 47/100\n",
      "21/21 [==============================] - 0s 3ms/step - loss: 0.1621 - accuracy: 0.9910 - val_loss: 0.4009 - val_accuracy: 0.8708\n",
      "Epoch 48/100\n",
      "21/21 [==============================] - 0s 3ms/step - loss: 0.1603 - accuracy: 0.9910 - val_loss: 0.4008 - val_accuracy: 0.8708\n",
      "Epoch 49/100\n",
      "21/21 [==============================] - 0s 3ms/step - loss: 0.1586 - accuracy: 0.9910 - val_loss: 0.4005 - val_accuracy: 0.8708\n",
      "Epoch 50/100\n",
      "21/21 [==============================] - 0s 3ms/step - loss: 0.1569 - accuracy: 0.9910 - val_loss: 0.4004 - val_accuracy: 0.8708\n",
      "Epoch 51/100\n",
      "21/21 [==============================] - 0s 3ms/step - loss: 0.1552 - accuracy: 0.9910 - val_loss: 0.4002 - val_accuracy: 0.8708\n",
      "Epoch 52/100\n",
      "21/21 [==============================] - 0s 3ms/step - loss: 0.1536 - accuracy: 0.9910 - val_loss: 0.4002 - val_accuracy: 0.8708\n",
      "Epoch 53/100\n",
      "21/21 [==============================] - 0s 3ms/step - loss: 0.1520 - accuracy: 0.9910 - val_loss: 0.4001 - val_accuracy: 0.8708\n",
      "Epoch 54/100\n",
      "21/21 [==============================] - 0s 3ms/step - loss: 0.1505 - accuracy: 0.9910 - val_loss: 0.4001 - val_accuracy: 0.8708\n",
      "Epoch 55/100\n",
      "21/21 [==============================] - 0s 3ms/step - loss: 0.1490 - accuracy: 0.9910 - val_loss: 0.4001 - val_accuracy: 0.8708\n",
      "Epoch 56/100\n",
      "21/21 [==============================] - 0s 3ms/step - loss: 0.1475 - accuracy: 0.9910 - val_loss: 0.4001 - val_accuracy: 0.8708\n",
      "Epoch 57/100\n",
      "21/21 [==============================] - 0s 3ms/step - loss: 0.1461 - accuracy: 0.9910 - val_loss: 0.4000 - val_accuracy: 0.8708\n",
      "Epoch 58/100\n",
      "21/21 [==============================] - 0s 3ms/step - loss: 0.1447 - accuracy: 0.9910 - val_loss: 0.4002 - val_accuracy: 0.8708\n",
      "Epoch 59/100\n",
      "21/21 [==============================] - 0s 3ms/step - loss: 0.1434 - accuracy: 0.9910 - val_loss: 0.4002 - val_accuracy: 0.8708\n",
      "Epoch 60/100\n",
      "21/21 [==============================] - 0s 3ms/step - loss: 0.1421 - accuracy: 0.9910 - val_loss: 0.4002 - val_accuracy: 0.8708\n",
      "Epoch 61/100\n",
      "21/21 [==============================] - 0s 3ms/step - loss: 0.1408 - accuracy: 0.9910 - val_loss: 0.4004 - val_accuracy: 0.8708\n",
      "Epoch 62/100\n",
      "21/21 [==============================] - 0s 3ms/step - loss: 0.1395 - accuracy: 0.9910 - val_loss: 0.4005 - val_accuracy: 0.8708\n",
      "Epoch 63/100\n",
      "21/21 [==============================] - 0s 3ms/step - loss: 0.1383 - accuracy: 0.9910 - val_loss: 0.4005 - val_accuracy: 0.8708\n",
      "Epoch 64/100\n",
      "21/21 [==============================] - 0s 3ms/step - loss: 0.1371 - accuracy: 0.9910 - val_loss: 0.4007 - val_accuracy: 0.8708\n",
      "Epoch 65/100\n",
      "21/21 [==============================] - 0s 3ms/step - loss: 0.1359 - accuracy: 0.9910 - val_loss: 0.4009 - val_accuracy: 0.8708\n",
      "Epoch 66/100\n",
      "21/21 [==============================] - 0s 3ms/step - loss: 0.1348 - accuracy: 0.9910 - val_loss: 0.4011 - val_accuracy: 0.8708\n",
      "Epoch 67/100\n",
      "21/21 [==============================] - 0s 3ms/step - loss: 0.1337 - accuracy: 0.9910 - val_loss: 0.4012 - val_accuracy: 0.8708\n",
      "Epoch 68/100\n",
      "21/21 [==============================] - 0s 3ms/step - loss: 0.1326 - accuracy: 0.9910 - val_loss: 0.4014 - val_accuracy: 0.8708\n",
      "Epoch 69/100\n",
      "21/21 [==============================] - 0s 3ms/step - loss: 0.1316 - accuracy: 0.9910 - val_loss: 0.4016 - val_accuracy: 0.8708\n",
      "Epoch 70/100\n",
      "21/21 [==============================] - 0s 3ms/step - loss: 0.1305 - accuracy: 0.9910 - val_loss: 0.4018 - val_accuracy: 0.8708\n",
      "Epoch 71/100\n",
      "21/21 [==============================] - 0s 3ms/step - loss: 0.1295 - accuracy: 0.9910 - val_loss: 0.4021 - val_accuracy: 0.8708\n",
      "Epoch 72/100\n",
      "21/21 [==============================] - 0s 3ms/step - loss: 0.1285 - accuracy: 0.9910 - val_loss: 0.4023 - val_accuracy: 0.8708\n",
      "Epoch 73/100\n",
      "21/21 [==============================] - 0s 3ms/step - loss: 0.1275 - accuracy: 0.9910 - val_loss: 0.4026 - val_accuracy: 0.8708\n",
      "Epoch 74/100\n",
      "21/21 [==============================] - 0s 3ms/step - loss: 0.1266 - accuracy: 0.9910 - val_loss: 0.4029 - val_accuracy: 0.8708\n",
      "Epoch 75/100\n",
      "21/21 [==============================] - 0s 3ms/step - loss: 0.1256 - accuracy: 0.9910 - val_loss: 0.4031 - val_accuracy: 0.8708\n",
      "Epoch 76/100\n",
      "21/21 [==============================] - 0s 3ms/step - loss: 0.1248 - accuracy: 0.9910 - val_loss: 0.4035 - val_accuracy: 0.8708\n",
      "Epoch 77/100\n",
      "21/21 [==============================] - 0s 3ms/step - loss: 0.1239 - accuracy: 0.9910 - val_loss: 0.4037 - val_accuracy: 0.8708\n",
      "Epoch 78/100\n",
      "21/21 [==============================] - 0s 3ms/step - loss: 0.1230 - accuracy: 0.9910 - val_loss: 0.4041 - val_accuracy: 0.8708\n",
      "Epoch 79/100\n",
      "21/21 [==============================] - 0s 3ms/step - loss: 0.1221 - accuracy: 0.9910 - val_loss: 0.4043 - val_accuracy: 0.8708\n",
      "Epoch 80/100\n",
      "21/21 [==============================] - 0s 3ms/step - loss: 0.1213 - accuracy: 0.9910 - val_loss: 0.4046 - val_accuracy: 0.8708\n",
      "Epoch 81/100\n",
      "21/21 [==============================] - 0s 3ms/step - loss: 0.1205 - accuracy: 0.9910 - val_loss: 0.4050 - val_accuracy: 0.8708\n",
      "Epoch 82/100\n",
      "21/21 [==============================] - 0s 3ms/step - loss: 0.1197 - accuracy: 0.9910 - val_loss: 0.4053 - val_accuracy: 0.8708\n",
      "Epoch 83/100\n",
      "21/21 [==============================] - 0s 3ms/step - loss: 0.1189 - accuracy: 0.9910 - val_loss: 0.4057 - val_accuracy: 0.8708\n",
      "Epoch 84/100\n",
      "21/21 [==============================] - 0s 3ms/step - loss: 0.1182 - accuracy: 0.9910 - val_loss: 0.4060 - val_accuracy: 0.8708\n",
      "Epoch 85/100\n",
      "21/21 [==============================] - 0s 3ms/step - loss: 0.1174 - accuracy: 0.9910 - val_loss: 0.4064 - val_accuracy: 0.8708\n",
      "Epoch 86/100\n",
      "21/21 [==============================] - 0s 3ms/step - loss: 0.1166 - accuracy: 0.9910 - val_loss: 0.4068 - val_accuracy: 0.8708\n",
      "Epoch 87/100\n",
      "21/21 [==============================] - 0s 3ms/step - loss: 0.1159 - accuracy: 0.9910 - val_loss: 0.4072 - val_accuracy: 0.8708\n",
      "Epoch 88/100\n",
      "21/21 [==============================] - 0s 3ms/step - loss: 0.1153 - accuracy: 0.9910 - val_loss: 0.4076 - val_accuracy: 0.8756\n",
      "Epoch 89/100\n",
      "21/21 [==============================] - 0s 3ms/step - loss: 0.1146 - accuracy: 0.9910 - val_loss: 0.4080 - val_accuracy: 0.8708\n",
      "Epoch 90/100\n",
      "21/21 [==============================] - 0s 3ms/step - loss: 0.1139 - accuracy: 0.9910 - val_loss: 0.4084 - val_accuracy: 0.8756\n",
      "Epoch 91/100\n",
      "21/21 [==============================] - 0s 3ms/step - loss: 0.1132 - accuracy: 0.9910 - val_loss: 0.4087 - val_accuracy: 0.8756\n",
      "Epoch 92/100\n",
      "21/21 [==============================] - 0s 3ms/step - loss: 0.1126 - accuracy: 0.9910 - val_loss: 0.4092 - val_accuracy: 0.8756\n",
      "Epoch 93/100\n",
      "21/21 [==============================] - 0s 3ms/step - loss: 0.1119 - accuracy: 0.9910 - val_loss: 0.4096 - val_accuracy: 0.8756\n",
      "Epoch 94/100\n",
      "21/21 [==============================] - 0s 3ms/step - loss: 0.1113 - accuracy: 0.9910 - val_loss: 0.4100 - val_accuracy: 0.8756\n",
      "Epoch 95/100\n",
      "21/21 [==============================] - 0s 3ms/step - loss: 0.1107 - accuracy: 0.9910 - val_loss: 0.4104 - val_accuracy: 0.8756\n",
      "Epoch 96/100\n",
      "21/21 [==============================] - 0s 3ms/step - loss: 0.1101 - accuracy: 0.9910 - val_loss: 0.4108 - val_accuracy: 0.8756\n",
      "Epoch 97/100\n",
      "21/21 [==============================] - 0s 3ms/step - loss: 0.1095 - accuracy: 0.9910 - val_loss: 0.4112 - val_accuracy: 0.8756\n",
      "Epoch 98/100\n",
      "21/21 [==============================] - 0s 3ms/step - loss: 0.1090 - accuracy: 0.9910 - val_loss: 0.4118 - val_accuracy: 0.8756\n",
      "Epoch 99/100\n",
      "21/21 [==============================] - 0s 3ms/step - loss: 0.1084 - accuracy: 0.9910 - val_loss: 0.4121 - val_accuracy: 0.8756\n",
      "Epoch 100/100\n",
      "21/21 [==============================] - 0s 3ms/step - loss: 0.1079 - accuracy: 0.9910 - val_loss: 0.4126 - val_accuracy: 0.8756\n"
     ]
    },
    {
     "data": {
      "text/plain": [
       "<keras.callbacks.History at 0x7f2438f1d910>"
      ]
     },
     "execution_count": 45,
     "metadata": {},
     "output_type": "execute_result"
    }
   ],
   "source": [
    "# classifier that computes the class of a specific embedding for prediction purposes\n",
    "classifier_input = Input(shape=(2,))\n",
    "classifier_output = Dense(2, activation='softmax')(classifier_input)\n",
    "classifier_model = Model(classifier_input, classifier_output)\n",
    "\n",
    "# onehot encoding vectors to 2 classes\n",
    "Y_train_onehot = np_utils.to_categorical(y_train_class, 2)\n",
    "Y_test_onehot = np_utils.to_categorical(y_test_class, 2)\n",
    "\n",
    "classifier_model.compile(optimizer='adam',loss='categorical_crossentropy',metrics=['accuracy'])\n",
    "classifier_model.fit(X_train_eval,Y_train_onehot, validation_data=(X_test_eval, Y_test_onehot),epochs=100)"
   ]
  },
  {
   "cell_type": "code",
   "execution_count": 46,
   "id": "aa8dafaf",
   "metadata": {},
   "outputs": [
    {
     "name": "stdout",
     "output_type": "stream",
     "text": [
      "Classification report on validation data \n",
      "               precision    recall  f1-score   support\n",
      "\n",
      "           0     0.8938    0.8783    0.8860       115\n",
      "           1     0.8542    0.8723    0.8632        94\n",
      "\n",
      "    accuracy                         0.8756       209\n",
      "   macro avg     0.8740    0.8753    0.8746       209\n",
      "weighted avg     0.8760    0.8756    0.8757       209\n",
      "\n"
     ]
    }
   ],
   "source": [
    "\n",
    "input = X_test_eval\n",
    "y_pred = classifier_model.predict(input)\n",
    "y_pred=np.argmax(y_pred, axis=1)\n",
    "y_test = np.argmax(Y_test_onehot,axis = 1)\n",
    "print(\"Classification report on validation data \\n\",classification_report(y_test, y_pred, digits=4))\n",
    "\n"
   ]
  },
  {
   "cell_type": "code",
   "execution_count": 47,
   "id": "2156e31f",
   "metadata": {},
   "outputs": [
    {
     "name": "stdout",
     "output_type": "stream",
     "text": [
      "Formating test file for Donald Trump vs Atheism \n",
      "Testing on Donald Trump as label 1 and\n",
      "Testing on Atheism as label 0 and\n"
     ]
    }
   ],
   "source": [
    "print(\"Formating test file for {} vs {} \".format(pos_target,neg_target))\n",
    "df_test = pd.DataFrame(columns=['text', 'label', 'stance'])\n",
    "label = 1\n",
    "for target in [pos_target,neg_target]:\n",
    "    print('Testing on {} as label {} and'.format(target,label))\n",
    "    with open(test_data_file_m, 'r') as testfile:\n",
    "        for line in testfile:\n",
    "            line = line.replace('#SemST', '').strip()\n",
    "            line = line.split('\\t')\n",
    "            if line[0].strip() != 'ID' and target in line[1].strip():\n",
    "                tweet = line[2]\n",
    "                df_test.loc[len(df_test)] = [str(tweet),label, line[3]]\n",
    "    label = 0\n",
    "df_test['clean_text'] = df_test['text'].apply(lambda x: remove_url(str(x)))\n",
    "df_test['clean_text'] = df_test['clean_text'].apply(lambda x: remove_emoji(str(x)))\n",
    "df_test['clean_text'] = df_test['clean_text'].apply(lambda x: remove_html(str(x)))\n",
    "df_test['clean_text'] = df_test['clean_text'].apply(lambda x: remove_punct(str(x)))\n",
    "df_test['clean_text'] = df_test['clean_text'].apply(word_tokenize)\n",
    "df_test['clean_text'] = df_test['clean_text'].apply(lambda x: [word.lower() for word in x])\n",
    "df_test['clean_text'] = df_test['clean_text'].apply(lambda x: [word for word in x if word not in stop])\n",
    "df_test['clean_text'] = df_test['clean_text'].apply(nltk.tag.pos_tag)\n",
    "\n",
    "def get_wordnet_pos(tag):\n",
    "    if tag.startswith('J'):\n",
    "        return wordnet.ADJ\n",
    "    elif tag.startswith('V'):\n",
    "        return wordnet.VERB\n",
    "    elif tag.startswith('N'):\n",
    "        return wordnet.NOUN\n",
    "    elif tag.startswith('R'):\n",
    "        return wordnet.ADV\n",
    "    else:\n",
    "        return wordnet.NOUN\n",
    "    \n",
    "df_test['clean_text'] = df_test['clean_text'].apply(\n",
    "    lambda x: [(word, get_wordnet_pos(pos_tag)) for (word, pos_tag) in x])\n",
    "wnl = WordNetLemmatizer()\n",
    "df_test['clean_text'] = df_test['clean_text'].apply(\n",
    "    lambda x: [wnl.lemmatize(word, tag) for word, tag in x])\n",
    "df_test['clean_text'] = df_test['clean_text'].apply(\n",
    "    lambda x: [word for word in x if word not in stop])\n",
    "df_test['clean_text'] = [' '.join(map(str, l)) for l in df_test['clean_text']]"
   ]
  },
  {
   "cell_type": "code",
   "execution_count": 48,
   "id": "2614ac42",
   "metadata": {},
   "outputs": [
    {
     "name": "stdout",
     "output_type": "stream",
     "text": [
      "\n",
      "Classification report on Test data \n",
      "               precision    recall  f1-score   support\n",
      "\n",
      "           0     0.8957    0.8591    0.8770       220\n",
      "           1     0.8333    0.8757    0.8540       177\n",
      "\n",
      "    accuracy                         0.8665       397\n",
      "   macro avg     0.8645    0.8674    0.8655       397\n",
      "weighted avg     0.8679    0.8665    0.8668       397\n",
      "\n"
     ]
    }
   ],
   "source": [
    "df_test['clean_text'] = df_test['clean_text'].astype(str)\n",
    "y_q1_seq = t.texts_to_sequences(df_test['clean_text'].values)\n",
    "\n",
    "\n",
    "y_q1_seq = pad_sequences(y_q1_seq, maxlen=max_len, padding='post')\n",
    "y_test_eval = base_model.predict(y_q1_seq)\n",
    "\n",
    "input_2 = y_test_eval\n",
    "y_pred_2 = classifier_model.predict(input_2)\n",
    "\n",
    "y2_test_class = np.asarray(df_test['label']).astype('float32')\n",
    "y2_test_onehot = np_utils.to_categorical(y2_test_class, 2)\n",
    "\n",
    "y_pred_2=np.argmax(y_pred_2, axis=1)\n",
    "y_test_2 = np.argmax(y2_test_onehot,axis = 1)\n",
    "print(\"\")\n",
    "print(\"Classification report on Test data \\n\",classification_report(y_test_2, y_pred_2, digits=4))"
   ]
  },
  {
   "cell_type": "code",
   "execution_count": null,
   "id": "f352a8f0",
   "metadata": {},
   "outputs": [],
   "source": []
  },
  {
   "cell_type": "code",
   "execution_count": null,
   "id": "b2d63e44",
   "metadata": {},
   "outputs": [],
   "source": []
  },
  {
   "cell_type": "code",
   "execution_count": null,
   "id": "1b2e8c43",
   "metadata": {},
   "outputs": [],
   "source": []
  },
  {
   "cell_type": "code",
   "execution_count": null,
   "id": "f288c20d-1cac-4160-aa4e-fbb7f8b42c1f",
   "metadata": {},
   "outputs": [],
   "source": []
  },
  {
   "cell_type": "code",
   "execution_count": null,
   "id": "6bac4379",
   "metadata": {},
   "outputs": [],
   "source": []
  },
  {
   "cell_type": "code",
   "execution_count": null,
   "id": "d9d31daf-26df-46ea-8bb8-ce70182afbd8",
   "metadata": {},
   "outputs": [],
   "source": []
  },
  {
   "cell_type": "code",
   "execution_count": null,
   "id": "d02a5278",
   "metadata": {},
   "outputs": [],
   "source": []
  },
  {
   "cell_type": "code",
   "execution_count": null,
   "id": "ad824d7d",
   "metadata": {},
   "outputs": [],
   "source": []
  },
  {
   "cell_type": "code",
   "execution_count": null,
   "id": "b13766df",
   "metadata": {},
   "outputs": [],
   "source": []
  },
  {
   "cell_type": "markdown",
   "id": "68204cb4",
   "metadata": {},
   "source": [
    "# predicting above model on other target and getting that data"
   ]
  },
  {
   "cell_type": "code",
   "execution_count": 49,
   "id": "09df8135-d10d-47ea-8dc7-a8bdedcce653",
   "metadata": {},
   "outputs": [],
   "source": [
    "TARGETS_m = [ 'Atheism','Climate Change is a Real Concern', 'Feminist Movement','Hillary Clinton', 'Legalization of Abortion', 'Donald Trump']"
   ]
  },
  {
   "cell_type": "code",
   "execution_count": 50,
   "id": "970a9ec7",
   "metadata": {},
   "outputs": [],
   "source": [
    "test_on = 'Hillary Clinton'"
   ]
  },
  {
   "cell_type": "code",
   "execution_count": 51,
   "id": "25522757",
   "metadata": {},
   "outputs": [],
   "source": [
    "df_oth = pd.DataFrame(columns=['text', 'label', 'stance'])"
   ]
  },
  {
   "cell_type": "code",
   "execution_count": 52,
   "id": "4ee49ba6",
   "metadata": {},
   "outputs": [],
   "source": [
    " with open(train_data_file_m, 'r') as testfile:\n",
    "        for line in testfile:\n",
    "            \n",
    "            line = line.replace('#SemST', '').strip()\n",
    "            line = line.split('\\t')\n",
    "            \n",
    "            if line[0].strip() != 'ID' and test_on in line[1].strip():\n",
    "                tweet = line[2]\n",
    "                #print(tweet)\n",
    "                df_oth.loc[len(df_oth)] = [str(tweet),'NA',line[3]]\n",
    "                "
   ]
  },
  {
   "cell_type": "code",
   "execution_count": null,
   "id": "4a65a0e0",
   "metadata": {},
   "outputs": [],
   "source": []
  },
  {
   "cell_type": "code",
   "execution_count": 53,
   "id": "bef43359",
   "metadata": {},
   "outputs": [],
   "source": [
    "df_oth['clean_text'] = df_oth['text'].apply(lambda x: remove_url(str(x)))\n",
    "df_oth['clean_text'] = df_oth['clean_text'].apply(lambda x: remove_emoji(str(x)))\n",
    "df_oth['clean_text'] = df_oth['clean_text'].apply(lambda x: remove_html(str(x)))\n",
    "df_oth['clean_text'] = df_oth['clean_text'].apply(lambda x: remove_punct(str(x)))\n",
    "df_oth['clean_text'] = df_oth['clean_text'].apply(word_tokenize)\n",
    "df_oth['clean_text'] = df_oth['clean_text'].apply(lambda x: [word.lower() for word in x])\n",
    "df_oth['clean_text'] = df_oth['clean_text'].apply(lambda x: [word for word in x if word not in stop])\n",
    "df_oth['clean_text'] = df_oth['clean_text'].apply(nltk.tag.pos_tag)\n",
    "\n",
    "def get_wordnet_pos(tag):\n",
    "    if tag.startswith('J'):\n",
    "        return wordnet.ADJ\n",
    "    elif tag.startswith('V'):\n",
    "        return wordnet.VERB\n",
    "    elif tag.startswith('N'):\n",
    "        return wordnet.NOUN\n",
    "    elif tag.startswith('R'):\n",
    "        return wordnet.ADV\n",
    "    else:\n",
    "        return wordnet.NOUN\n",
    "    \n",
    "df_oth['clean_text'] = df_oth['clean_text'].apply(\n",
    "    lambda x: [(word, get_wordnet_pos(pos_tag)) for (word, pos_tag) in x])\n",
    "wnl = WordNetLemmatizer()\n",
    "df_oth['clean_text'] = df_oth['clean_text'].apply(\n",
    "    lambda x: [wnl.lemmatize(word, tag) for word, tag in x])\n",
    "df_oth['clean_text'] = df_oth['clean_text'].apply(\n",
    "    lambda x: [word for word in x if word not in stop])\n",
    "df_oth['clean_text'] = [' '.join(map(str, l)) for l in df_oth['clean_text']]"
   ]
  },
  {
   "cell_type": "code",
   "execution_count": 54,
   "id": "a37f8ca7",
   "metadata": {},
   "outputs": [
    {
     "data": {
      "text/plain": [
       "'AGAINST'"
      ]
     },
     "execution_count": 54,
     "metadata": {},
     "output_type": "execute_result"
    }
   ],
   "source": [
    "df_oth['stance'][5]"
   ]
  },
  {
   "cell_type": "code",
   "execution_count": 55,
   "id": "d23d2b5a",
   "metadata": {},
   "outputs": [],
   "source": [
    "df_oth['clean_text'] = df_oth['clean_text'].astype(str)\n",
    "oth_q1_seq = t.texts_to_sequences(df_oth['clean_text'].values)"
   ]
  },
  {
   "cell_type": "code",
   "execution_count": 56,
   "id": "52b17e7d",
   "metadata": {},
   "outputs": [],
   "source": [
    "oth_q1_seq = pad_sequences(oth_q1_seq, maxlen=max_len, padding='post')\n",
    "oth_test_eval = base_model.predict(oth_q1_seq)"
   ]
  },
  {
   "cell_type": "code",
   "execution_count": 57,
   "id": "8513bbe8",
   "metadata": {},
   "outputs": [],
   "source": [
    "input_3 = oth_test_eval\n",
    "oth_pred_3 = classifier_model.predict(input_3)\n"
   ]
  },
  {
   "cell_type": "code",
   "execution_count": 58,
   "id": "91c15ac2-5048-433b-8c88-ff2114bc37b9",
   "metadata": {},
   "outputs": [
    {
     "data": {
      "text/plain": [
       "array([[0.29488093, 0.705119  ],\n",
       "       [0.11479663, 0.8852033 ],\n",
       "       [0.09600843, 0.9039916 ],\n",
       "       ...,\n",
       "       [0.6151274 , 0.38487265],\n",
       "       [0.47174916, 0.5282509 ],\n",
       "       [0.04328242, 0.9567176 ]], dtype=float32)"
      ]
     },
     "execution_count": 58,
     "metadata": {},
     "output_type": "execute_result"
    }
   ],
   "source": [
    "oth_pred_3"
   ]
  },
  {
   "cell_type": "code",
   "execution_count": null,
   "id": "077bf2b9-4bf9-45fb-8acc-3716642e2130",
   "metadata": {},
   "outputs": [],
   "source": []
  },
  {
   "cell_type": "code",
   "execution_count": null,
   "id": "302bb6a5-9230-41bb-8f38-d59f1ac15aaf",
   "metadata": {},
   "outputs": [],
   "source": []
  },
  {
   "cell_type": "code",
   "execution_count": 59,
   "id": "934c5b48",
   "metadata": {},
   "outputs": [
    {
     "data": {
      "text/plain": [
       "array([1, 1, 1, 1, 1, 1, 1, 1, 1, 1, 1, 1, 1, 1, 0, 1, 1, 1, 0, 1, 1, 1,\n",
       "       1, 1, 1, 1, 1, 1, 1, 1, 1, 0, 1, 0, 1, 1, 0, 1, 1, 1, 1, 1, 1, 1,\n",
       "       1, 0, 1, 0, 1, 1, 1, 1, 1, 1, 1, 0, 1, 0, 1, 1, 1, 1, 1, 0, 1, 1,\n",
       "       1, 1, 1, 1, 1, 1, 1, 1, 1, 1, 1, 1, 1, 1, 1, 1, 1, 1, 0, 1, 1, 1,\n",
       "       1, 1, 0, 1, 1, 1, 1, 0, 1, 1, 1, 1, 1, 0, 1, 1, 1, 0, 1, 1, 1, 1,\n",
       "       1, 1, 1, 1, 1, 1, 1, 1, 1, 0, 1, 1, 1, 1, 1, 0, 1, 1, 1, 1, 1, 1,\n",
       "       1, 1, 1, 1, 1, 1, 1, 1, 1, 1, 1, 1, 0, 0, 1, 1, 1, 1, 0, 1, 1, 1,\n",
       "       1, 1, 1, 1, 0, 1, 1, 1, 1, 1, 1, 1, 1, 1, 1, 1, 1, 0, 1, 0, 0, 1,\n",
       "       1, 1, 1, 1, 1, 1, 1, 1, 1, 0, 1, 1, 1, 1, 1, 1, 1, 1, 1, 1, 1, 1,\n",
       "       1, 1, 1, 1, 1, 1, 1, 1, 1, 0, 1, 1, 1, 1, 1, 1, 1, 1, 1, 1, 1, 0,\n",
       "       1, 0, 1, 1, 1, 1, 1, 1, 1, 1, 1, 1, 1, 1, 1, 0, 1, 0, 1, 1, 1, 1,\n",
       "       1, 0, 1, 0, 0, 1, 1, 1, 1, 1, 1, 1, 1, 1, 1, 1, 1, 1, 1, 0, 1, 1,\n",
       "       1, 0, 1, 1, 0, 1, 1, 1, 1, 1, 1, 1, 1, 1, 1, 1, 1, 1, 1, 1, 1, 1,\n",
       "       1, 1, 1, 1, 1, 1, 1, 1, 1, 1, 1, 1, 1, 1, 1, 0, 1, 1, 1, 1, 1, 1,\n",
       "       1, 1, 1, 0, 1, 1, 1, 0, 1, 0, 1, 1, 1, 1, 0, 1, 1, 0, 1, 0, 0, 0,\n",
       "       1, 0, 1, 1, 1, 1, 1, 1, 0, 1, 0, 0, 1, 1, 1, 1, 0, 1, 1, 1, 1, 1,\n",
       "       1, 1, 1, 1, 1, 1, 0, 0, 1, 0, 1, 1, 1, 1, 1, 1, 1, 1, 1, 1, 1, 1,\n",
       "       1, 1, 1, 0, 1, 0, 1, 1, 0, 1, 1, 1, 1, 1, 1, 1, 1, 1, 1, 1, 0, 1,\n",
       "       1, 1, 1, 0, 0, 1, 0, 1, 1, 1, 1, 1, 1, 1, 1, 0, 1, 1, 1, 0, 1, 1,\n",
       "       1, 1, 1, 1, 1, 1, 1, 1, 1, 0, 1, 1, 1, 1, 1, 1, 0, 1, 1, 1, 1, 0,\n",
       "       1, 1, 1, 1, 1, 1, 1, 1, 1, 1, 1, 0, 1, 1, 0, 1, 1, 1, 1, 1, 1, 1,\n",
       "       1, 1, 0, 1, 1, 1, 1, 1, 1, 1, 1, 1, 1, 1, 1, 1, 0, 1, 0, 1, 1, 1,\n",
       "       0, 1, 1, 1, 1, 1, 1, 1, 1, 1, 0, 0, 1, 1, 1, 0, 1, 1, 0, 1, 1, 1,\n",
       "       1, 1, 0, 1, 1, 1, 1, 1, 1, 1, 1, 0, 1, 1, 1, 1, 1, 1, 1, 1, 1, 1,\n",
       "       1, 1, 0, 1, 1, 1, 1, 1, 1, 1, 1, 1, 1, 1, 1, 1, 0, 0, 1, 1, 1, 1,\n",
       "       1, 1, 1, 1, 1, 1, 1, 1, 1, 1, 1, 1, 1, 1, 1, 1, 1, 1, 1, 0, 1, 1,\n",
       "       0, 1, 0, 1, 1, 1, 0, 1, 1, 1, 1, 1, 1, 1, 1, 1, 1, 1, 0, 1, 1, 1,\n",
       "       1, 1, 1, 1, 0, 1, 1, 1, 1, 1, 1, 1, 1, 1, 0, 1, 1, 0, 1, 1, 1, 1,\n",
       "       1, 1, 0, 1, 1, 1, 1, 1, 1, 1, 1, 1, 1, 1, 0, 1, 1, 1, 1, 1, 1, 1,\n",
       "       1, 1, 1, 1, 1, 1, 1, 1, 1, 1, 1, 0, 1, 1, 1, 1, 1, 1, 1, 1, 1, 1,\n",
       "       1, 1, 1, 1, 1, 1, 1, 0, 1, 1, 1, 1, 1, 1, 1, 1, 1, 0, 1, 0, 1, 1,\n",
       "       1, 1, 0, 0, 0, 1, 1])"
      ]
     },
     "execution_count": 59,
     "metadata": {},
     "output_type": "execute_result"
    }
   ],
   "source": [
    "oth_pred_4=np.argmax(oth_pred_3, axis=1)\n",
    "oth_pred_4"
   ]
  },
  {
   "cell_type": "code",
   "execution_count": 60,
   "id": "249959d0-cb8a-4010-b92a-aa8f56d93096",
   "metadata": {},
   "outputs": [
    {
     "data": {
      "text/plain": [
       "array([0.29488093, 0.705119  ], dtype=float32)"
      ]
     },
     "execution_count": 60,
     "metadata": {},
     "output_type": "execute_result"
    }
   ],
   "source": [
    "oth_pred_3[0]"
   ]
  },
  {
   "cell_type": "code",
   "execution_count": 61,
   "id": "a76e5fe5",
   "metadata": {},
   "outputs": [
    {
     "data": {
      "text/plain": [
       "{0: 97, 1: 592}"
      ]
     },
     "execution_count": 61,
     "metadata": {},
     "output_type": "execute_result"
    }
   ],
   "source": [
    "unique,count = np.unique(oth_pred_4,return_counts=True)\n",
    "dict(zip(unique, count))"
   ]
  },
  {
   "cell_type": "markdown",
   "id": "b7913f01-aed4-4c9e-8f34-9092a4580d4d",
   "metadata": {
    "tags": []
   },
   "source": [
    "# Change the file name "
   ]
  },
  {
   "cell_type": "code",
   "execution_count": null,
   "id": "94ed4734-8aaa-4225-b6b6-b6126ae52fb0",
   "metadata": {},
   "outputs": [],
   "source": [
    "\n",
    "    \n",
    "        \n",
    "            "
   ]
  },
  {
   "cell_type": "code",
   "execution_count": 66,
   "id": "f86ce53f",
   "metadata": {},
   "outputs": [],
   "source": [
    "th = 0.50\n",
    "df_rich_data= pd.DataFrame(columns = ['Tweet','Stance'])\n",
    "file_name = 'rich_data/dt_ath_hc/' + pos_target + '_' + neg_target + '_' +test_on + str(th) +'.txt'\n",
    "with open(file_name,'w') as f:\n",
    "    for i in range(len(oth_pred_3)):\n",
    "            if oth_pred_4[i] == 1:\n",
    "                if oth_pred_3[i][1] >= th:\n",
    "                    f.write(df_oth['text'][i] + \"\\t\" +df_oth['stance'][i])\n",
    "                    f.write('\\n')"
   ]
  },
  {
   "cell_type": "code",
   "execution_count": 46,
   "id": "9577c8d9",
   "metadata": {},
   "outputs": [
    {
     "data": {
      "text/plain": [
       "92"
      ]
     },
     "execution_count": 46,
     "metadata": {},
     "output_type": "execute_result"
    }
   ],
   "source": [
    "c = 0\n",
    "with open(file_name,'r') as f:\n",
    "    for i in f:\n",
    "        c += 1\n",
    "c"
   ]
  },
  {
   "cell_type": "code",
   "execution_count": 67,
   "id": "10e20262-9020-47a1-8f15-5209bf7522de",
   "metadata": {},
   "outputs": [
    {
     "name": "stdout",
     "output_type": "stream",
     "text": [
      "rich_data/dt_ath_hc/Donald Trump_Atheism_Hillary Clinton0.5.txt\n"
     ]
    }
   ],
   "source": [
    "print(file_name)"
   ]
  },
  {
   "cell_type": "code",
   "execution_count": 71,
   "id": "58a212d2",
   "metadata": {},
   "outputs": [],
   "source": [
    "# with open('rich_data.txt','w') as f:\n",
    "#     for tweet in rich_data:\n",
    "#         f.write(tweet)\n",
    "#         f.write('\\n')"
   ]
  },
  {
   "cell_type": "code",
   "execution_count": 94,
   "id": "522621f5",
   "metadata": {},
   "outputs": [],
   "source": [
    "df_rich_data.to_csv('rich_data.csv',sep='\\t')\n"
   ]
  },
  {
   "cell_type": "code",
   "execution_count": null,
   "id": "23dc36b7",
   "metadata": {},
   "outputs": [],
   "source": []
  }
 ],
 "metadata": {
  "kernelspec": {
   "display_name": "nlpKernel",
   "language": "python",
   "name": "nlpkernel"
  },
  "language_info": {
   "codemirror_mode": {
    "name": "ipython",
    "version": 3
   },
   "file_extension": ".py",
   "mimetype": "text/x-python",
   "name": "python",
   "nbconvert_exporter": "python",
   "pygments_lexer": "ipython3",
   "version": "3.9.6"
  }
 },
 "nbformat": 4,
 "nbformat_minor": 5
}
