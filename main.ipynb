{
 "cells": [
  {
   "cell_type": "code",
   "execution_count": 157,
   "id": "32fcbf04-0a75-4bbb-856b-dcbf447aa533",
   "metadata": {},
   "outputs": [],
   "source": [
    "import pandas as pd\n",
    "import json\n",
    "import numpy as np\n",
    "import glob\n",
    "import os\n",
    "from collections import defaultdict"
   ]
  },
  {
   "cell_type": "code",
   "execution_count": 158,
   "id": "1a3bd750-48ad-464f-8b8e-f386d1830d72",
   "metadata": {},
   "outputs": [],
   "source": [
    "path = '/home/p/parush/rich_data'"
   ]
  },
  {
   "cell_type": "code",
   "execution_count": 159,
   "id": "866c3b07",
   "metadata": {},
   "outputs": [],
   "source": [
    "folders = {'fem_ath_abr':653,\n",
    " 'abr_ath_fem':664,\n",
    " 'hc_ath_dt':530,\n",
    " 'dt_ath_hc':689,\n",
    " 'hlt_pol_ent':11141,\n",
    " 'ent_pol_hlt':22101}"
   ]
  },
  {
   "cell_type": "code",
   "execution_count": 160,
   "id": "a1416103-952f-4eb7-9680-c1937a879e57",
   "metadata": {},
   "outputs": [
    {
     "name": "stdout",
     "output_type": "stream",
     "text": [
      "653\n",
      "664\n",
      "530\n",
      "689\n",
      "11141\n",
      "22101\n"
     ]
    }
   ],
   "source": [
    "for i in folders:\n",
    "    print(folders[i])"
   ]
  },
  {
   "cell_type": "code",
   "execution_count": 161,
   "id": "7a398075-b5f5-4101-9d01-fd24a1aa09c7",
   "metadata": {},
   "outputs": [],
   "source": [
    "# train_file = '/data/parush/stance_mohammed/new_train.txt'\n",
    "# test_file = '/data/parush/stance_mohammed/new_test.txt'\n",
    "# TARGETS_m = [ 'Atheism','Climate Change is a Real Concern', 'Feminist Movement','Hillary Clinton', 'Legalization of Abortion', 'Donald Trump']\n",
    "# count = defaultdict(int)\n",
    "# for target in TARGETS_m:\n",
    "#     with open(train_file, 'r') as trainfile:\n",
    "#         for line in trainfile: \n",
    "#             line = line.replace('#SemST', '').strip()\n",
    "#             line = line.split('\\t')\n",
    "#             if line[0].strip() != 'ID' and target in line[1].strip():\n",
    "#                 count[target] += 1\n"
   ]
  },
  {
   "cell_type": "code",
   "execution_count": 162,
   "id": "271c8551-085a-47c6-8ce6-9a1034e1beb7",
   "metadata": {},
   "outputs": [],
   "source": [
    "# count"
   ]
  },
  {
   "cell_type": "code",
   "execution_count": 163,
   "id": "219c6644",
   "metadata": {},
   "outputs": [
    {
     "name": "stdout",
     "output_type": "stream",
     "text": [
      "In folder  fem_ath_abr\n",
      "There are 392 examples in /home/p/parush/rich_data/fem_ath_abr/Feminist Movement_Atheism_Legalization of Abortion0.5.txt\n",
      "There are 332 examples in /home/p/parush/rich_data/fem_ath_abr/Feminist Movement_Atheism_Legalization of Abortion0.6.txt\n",
      "There are 239 examples in /home/p/parush/rich_data/fem_ath_abr/Feminist Movement_Atheism_Legalization of Abortion0.7.txt\n",
      "There are 141 examples in /home/p/parush/rich_data/fem_ath_abr/Feminist Movement_Atheism_Legalization of Abortion0.8.txt\n",
      "There are 36 examples in /home/p/parush/rich_data/fem_ath_abr/Feminist Movement_Atheism_Legalization of Abortion0.9.txt\n",
      "In folder  abr_ath_fem\n",
      "There are 109 examples in /home/p/parush/rich_data/abr_ath_fem/Legalization of Abortion_Atheism_Feminist Movement0.9.txt\n",
      "There are 269 examples in /home/p/parush/rich_data/abr_ath_fem/Legalization of Abortion_Atheism_Feminist Movement0.8.txt\n",
      "There are 392 examples in /home/p/parush/rich_data/abr_ath_fem/Legalization of Abortion_Atheism_Feminist Movement0.7.txt\n",
      "There are 473 examples in /home/p/parush/rich_data/abr_ath_fem/Legalization of Abortion_Atheism_Feminist Movement0.6.txt\n",
      "There are 533 examples in /home/p/parush/rich_data/abr_ath_fem/Legalization of Abortion_Atheism_Feminist Movement0.5.txt\n",
      "In folder  hc_ath_dt\n",
      "There are 441 examples in /home/p/parush/rich_data/hc_ath_dt/Hillary Clinton_Atheism_Donald Trump0.5.txt\n",
      "There are 402 examples in /home/p/parush/rich_data/hc_ath_dt/Hillary Clinton_Atheism_Donald Trump0.6.txt\n",
      "There are 325 examples in /home/p/parush/rich_data/hc_ath_dt/Hillary Clinton_Atheism_Donald Trump0.7.txt\n",
      "There are 252 examples in /home/p/parush/rich_data/hc_ath_dt/Hillary Clinton_Atheism_Donald Trump0.8.txt\n",
      "There are 92 examples in /home/p/parush/rich_data/hc_ath_dt/Hillary Clinton_Atheism_Donald Trump0.9.txt\n",
      "In folder  dt_ath_hc\n",
      "There are 248 examples in /home/p/parush/rich_data/dt_ath_hc/Donald Trump_Atheism_Hillary Clinton0.9.txt\n",
      "There are 374 examples in /home/p/parush/rich_data/dt_ath_hc/Donald Trump_Atheism_Hillary Clinton0.8.txt\n",
      "There are 470 examples in /home/p/parush/rich_data/dt_ath_hc/Donald Trump_Atheism_Hillary Clinton0.7.txt\n",
      "There are 525 examples in /home/p/parush/rich_data/dt_ath_hc/Donald Trump_Atheism_Hillary Clinton0.6.txt\n",
      "There are 592 examples in /home/p/parush/rich_data/dt_ath_hc/Donald Trump_Atheism_Hillary Clinton0.5.txt\n",
      "In folder  hlt_pol_ent\n",
      "There are 5586 examples in /home/p/parush/rich_data/hlt_pol_ent/hlt_pol_ent0.5.json\n",
      "There are 5371 examples in /home/p/parush/rich_data/hlt_pol_ent/hlt_pol_ent0.6.json\n",
      "There are 5142 examples in /home/p/parush/rich_data/hlt_pol_ent/hlt_pol_ent0.7.json\n",
      "There are 4857 examples in /home/p/parush/rich_data/hlt_pol_ent/hlt_pol_ent0.8.json\n",
      "There are 4307 examples in /home/p/parush/rich_data/hlt_pol_ent/hlt_pol_ent0.9.json\n",
      "In folder  ent_pol_hlt\n",
      "There are 16456 examples in /home/p/parush/rich_data/ent_pol_hlt/ent_pol_hlt0.5.json\n",
      "There are 16006 examples in /home/p/parush/rich_data/ent_pol_hlt/ent_pol_hlt0.6.json\n",
      "There are 15402 examples in /home/p/parush/rich_data/ent_pol_hlt/ent_pol_hlt0.7.json\n",
      "There are 14440 examples in /home/p/parush/rich_data/ent_pol_hlt/ent_pol_hlt0.8.json\n",
      "There are 11554 examples in /home/p/parush/rich_data/ent_pol_hlt/ent_pol_hlt0.9.json\n"
     ]
    }
   ],
   "source": [
    "c = 0\n",
    "for folder in folders:\n",
    "    files = os.listdir(path + '/' + folder)\n",
    "    print(\"In folder \", folder)\n",
    "    for file in files:\n",
    "        file_ = path + '/' + folder + '/' + file\n",
    "        if file_.endswith('.txt'):\n",
    "            c = 0\n",
    "            with open(file_, 'r') as f:\n",
    "                for line in f:\n",
    "                    c += 1\n",
    "            #print(\"There are {} examples in {}\".format((c / folders[folder])*100,2), file_)\n",
    "            print(\"There are {} examples in {}\".format(c, file_))\n",
    "        else:\n",
    "             with open(file_, 'r') as f:\n",
    "                c = 0\n",
    "                data = json.load(f)\n",
    "                for line in data:\n",
    "                    c += 1\n",
    "                #print(\"There are {} examples in {}\".format((c / folders[folder])*100,2), file_)\n",
    "                print(\"There are {} examples in {}\".format(c, file_))\n",
    "            \n",
    "\n",
    "        \n",
    "#         if file_.endswith('.txt'):\n",
    "#             with open()\n",
    "#             break"
   ]
  },
  {
   "cell_type": "code",
   "execution_count": 178,
   "id": "3e10f7a3-c811-4b4c-8faf-445f4db9783c",
   "metadata": {},
   "outputs": [
    {
     "name": "stdout",
     "output_type": "stream",
     "text": [
      "59.62966989165489\n"
     ]
    }
   ],
   "source": [
    "data = 11141\n",
    "augmented = 16456\n",
    "\n",
    "print((augmented / (data + augmented))*100)"
   ]
  },
  {
   "cell_type": "markdown",
   "id": "58fc9f80-bf43-4a98-81b3-570800a5a034",
   "metadata": {},
   "source": [
    "# import json\n",
    "import numpy as np\n",
    "import pandas as pd\n",
    "from sklearn.model_selection import train_test_split\n",
    "import csv"
   ]
  },
  {
   "cell_type": "code",
   "execution_count": 145,
   "id": "93016cbb-2196-4d33-abcf-d148af49bb04",
   "metadata": {},
   "outputs": [],
   "source": [
    "df_hlt_train = pd.read_csv(\"/data/parush/wtwt/healthcare_train.txt\", sep='\\t')\n",
    "df_hlt_test = pd.read_csv(\"/data/parush/wtwt/healthcare_test.txt\", sep='\\t')\n",
    "df_ent_train = pd.read_csv(\"/data/parush/wtwt/entertainment_train.txt\", sep='\\t')\n",
    "df_ent_test = pd.read_csv(\"/data/parush/wtwt/entertainment_test.txt\", sep='\\t')"
   ]
  },
  {
   "cell_type": "code",
   "execution_count": 146,
   "id": "14855cb3-f641-4e75-93ac-7688899e13d7",
   "metadata": {},
   "outputs": [],
   "source": [
    "# df = pd.DataFrame(data)\n",
    "# print(len(df))\n",
    "# df = df.drop(columns = 'tweet_id')\n",
    "# df = df.rename(columns={\"merger\": \"target\"})\n",
    "# df['domain'] = np.where(df['target']== 'FOXA_DIS', 'entertainment', 'healthcare')\n",
    "# df_health = df[df['domain'] == 'healthcare']\n",
    "# df_ent = df[df['domain'] == 'entertainment']"
   ]
  },
  {
   "cell_type": "code",
   "execution_count": 147,
   "id": "d5369650-840a-45da-8d34-a417fce924ee",
   "metadata": {},
   "outputs": [
    {
     "data": {
      "text/plain": [
       "3714"
      ]
     },
     "execution_count": 147,
     "metadata": {},
     "output_type": "execute_result"
    }
   ],
   "source": [
    "#df_ent_test = df_ent_test[df_ent_test['stance'] == 'unrelated']\n",
    "len(df_ent_test)"
   ]
  },
  {
   "cell_type": "code",
   "execution_count": 110,
   "id": "d1272db9-8211-48e0-b5fd-1cf12170db68",
   "metadata": {},
   "outputs": [
    {
     "data": {
      "text/plain": [
       "array(['comment', 'refute', 'support', 'unrelated'], dtype=object)"
      ]
     },
     "execution_count": 110,
     "metadata": {},
     "output_type": "execute_result"
    }
   ],
   "source": [
    "np.unique(df_hlt_train['stance'])"
   ]
  },
  {
   "cell_type": "code",
   "execution_count": null,
   "id": "3e2fea41-6bb4-4a0c-ae5a-228277a3b845",
   "metadata": {},
   "outputs": [],
   "source": []
  }
 ],
 "metadata": {
  "kernelspec": {
   "display_name": "nlpKernel",
   "language": "python",
   "name": "nlpkernel"
  },
  "language_info": {
   "codemirror_mode": {
    "name": "ipython",
    "version": 3
   },
   "file_extension": ".py",
   "mimetype": "text/x-python",
   "name": "python",
   "nbconvert_exporter": "python",
   "pygments_lexer": "ipython3",
   "version": "3.9.6"
  }
 },
 "nbformat": 4,
 "nbformat_minor": 5
}
