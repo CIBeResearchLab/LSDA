{
 "cells": [
  {
   "cell_type": "markdown",
   "id": "b1ade922-da4f-4107-9467-95a1a972a694",
   "metadata": {},
   "source": [
    "## https://www.kaggle.com/sauravjoshi23/text-classification-using-siamesenet-glove\n"
   ]
  },
  {
   "cell_type": "markdown",
   "id": "9427d2ba-1815-4f9d-8f9a-1a95b468332e",
   "metadata": {},
   "source": [
    "# Check every comment in this notebook and understand it. You will have to uncomment according to need."
   ]
  },
  {
   "cell_type": "code",
   "execution_count": 142,
   "id": "1a426512",
   "metadata": {},
   "outputs": [],
   "source": [
    "import pandas as pd\n",
    "import numpy as np\n",
    "import random\n",
    "import warnings\n",
    "import time\n",
    "import datetime\n",
    "import re\n",
    "import string\n",
    "import itertools\n",
    "import pickle\n",
    "import joblib\n",
    "import nltk\n",
    "import csv\n",
    "from nltk.corpus import stopwords, wordnet\n",
    "stop = set(stopwords.words('english'))\n",
    "from wordcloud import WordCloud, STOPWORDS\n",
    "from nltk.stem import WordNetLemmatizer\n",
    "from nltk.tokenize import word_tokenize\n",
    "from nltk.probability import FreqDist\n",
    "from collections import Counter, defaultdict\n",
    "from keras.utils import np_utils\n",
    "\n",
    "import keras.backend as K\n",
    "import tensorflow as tf\n",
    "from tensorflow import keras\n",
    "from sklearn.metrics import classification_report\n",
    "from sklearn.model_selection import train_test_split\n",
    "from sklearn.metrics import roc_auc_score\n",
    "\n",
    "from tensorflow.keras.preprocessing.sequence import pad_sequences\n",
    "from tensorflow.keras.preprocessing.text import Tokenizer\n",
    "from tensorflow.keras.regularizers import l2\n",
    "from tensorflow.keras.models import Sequential\n",
    "from tensorflow.keras.optimizers import Adam\n",
    "from tensorflow.keras.layers import Conv2D, ZeroPadding2D, Activation, Input, concatenate,Embedding, LSTM\n",
    "from tensorflow.keras.models import Model\n",
    "from tensorflow.keras.layers import BatchNormalization\n",
    "from tensorflow.keras.layers import MaxPooling2D\n",
    "from tensorflow.keras.layers import Concatenate\n",
    "from tensorflow.keras.layers import Lambda, Flatten, Dense\n",
    "from tensorflow.keras.initializers import glorot_uniform\n",
    "from tensorflow.keras.layers import Input, Dense, Flatten, GlobalMaxPool2D, GlobalAvgPool2D, Concatenate, Multiply, Dropout, Subtract, Add, Conv2D\n",
    "\n",
    "from sklearn.manifold import TSNE\n",
    "import matplotlib.pyplot as plt\n",
    "import seaborn as sns\n",
    "%matplotlib inline\n",
    "\n",
    "import warnings\n",
    "warnings.filterwarnings('ignore')"
   ]
  },
  {
   "cell_type": "code",
   "execution_count": 143,
   "id": "260304ff",
   "metadata": {},
   "outputs": [],
   "source": [
    "train_data_file_m = '/data/parush/stance_mohammed/new_train.txt'\n",
    "test_data_file_m = '/data/parush/stance_mohammed/new_test.txt'\n",
    "TARGETS_m = [ 'Atheism','Climate Change is a Real Concern', 'Feminist Movement','Hillary Clinton', 'Legalization of Abortion', 'Donald Trump']\n",
    "\n",
    "\n"
   ]
  },
  {
   "cell_type": "code",
   "execution_count": null,
   "id": "fafa254a",
   "metadata": {},
   "outputs": [],
   "source": []
  },
  {
   "cell_type": "code",
   "execution_count": 144,
   "id": "585c2fb8",
   "metadata": {},
   "outputs": [],
   "source": [
    "def df_gen_mohammed(train_data_file_m,pos_target_label,neg_target_label ):\n",
    "    \n",
    "    df = pd.DataFrame(columns=['text', 'target'])\n",
    "    with open(train_data_file_m, 'r') as trainfile:\n",
    "        for line in trainfile:\n",
    "            line = line.replace('#SemST', '').strip()\n",
    "            line = line.split('\\t')\n",
    "            if line[0].strip() != 'ID' and \"Donald Trump\" in line[1].strip():\n",
    "                tweet = line[2]\n",
    "                df.loc[len(df)] = [tweet,pos_target_label]\n",
    "            elif line[0].strip() != 'ID' and 'Hillary Clinton' in line[1].strip():\n",
    "                tweet = line[2]\n",
    "                df.loc[len(df)] = [tweet,neg_target_label]\n",
    "    df = df.sample(frac = 1)\n",
    "    return df"
   ]
  },
  {
   "cell_type": "code",
   "execution_count": null,
   "id": "538dfb8b-f9c6-4f51-b87e-95b42146bb76",
   "metadata": {},
   "outputs": [],
   "source": []
  },
  {
   "cell_type": "code",
   "execution_count": 145,
   "id": "8a3afee1-9ac4-476e-8696-54552a7f5ea9",
   "metadata": {},
   "outputs": [],
   "source": [
    "df_politics = df_gen_mohammed(train_data_file_m,0,0 )"
   ]
  },
  {
   "cell_type": "code",
   "execution_count": 146,
   "id": "c974c139-281e-4b14-8412-5ecd77412268",
   "metadata": {},
   "outputs": [
    {
     "data": {
      "text/plain": [
       "1219"
      ]
     },
     "execution_count": 146,
     "metadata": {},
     "output_type": "execute_result"
    }
   ],
   "source": [
    "len(df_politics)"
   ]
  },
  {
   "cell_type": "code",
   "execution_count": 147,
   "id": "c729a273-06df-40cc-95eb-969ec3c6b6de",
   "metadata": {},
   "outputs": [],
   "source": [
    "df_hlt_train = pd.read_csv(\"/data/parush/wtwt/healthcare_train.txt\", sep='\\t')\n",
    "df_hlt_test = pd.read_csv(\"/data/parush/wtwt/healthcare_test.txt\", sep='\\t')\n",
    "df_ent_train = pd.read_csv(\"/data/parush/wtwt/entertainment_train.txt\", sep='\\t')\n",
    "df_ent_test = pd.read_csv(\"/data/parush/wtwt/entertainment_test.txt\", sep='\\t')"
   ]
  },
  {
   "cell_type": "code",
   "execution_count": 148,
   "id": "921abe80-1158-41b2-b683-50ff56470105",
   "metadata": {},
   "outputs": [
    {
     "data": {
      "text/plain": [
       "array(['AET_HUM', 'ANTM_CI', 'CI_ESRX', 'CVS_AET'], dtype=object)"
      ]
     },
     "execution_count": 148,
     "metadata": {},
     "output_type": "execute_result"
    }
   ],
   "source": [
    "np.unique(df_hlt_train['target'])"
   ]
  },
  {
   "cell_type": "code",
   "execution_count": 149,
   "id": "b2a4d500",
   "metadata": {},
   "outputs": [
    {
     "data": {
      "text/html": [
       "<div>\n",
       "<style scoped>\n",
       "    .dataframe tbody tr th:only-of-type {\n",
       "        vertical-align: middle;\n",
       "    }\n",
       "\n",
       "    .dataframe tbody tr th {\n",
       "        vertical-align: top;\n",
       "    }\n",
       "\n",
       "    .dataframe thead th {\n",
       "        text-align: right;\n",
       "    }\n",
       "</style>\n",
       "<table border=\"1\" class=\"dataframe\">\n",
       "  <thead>\n",
       "    <tr style=\"text-align: right;\">\n",
       "      <th></th>\n",
       "      <th>text</th>\n",
       "      <th>target</th>\n",
       "    </tr>\n",
       "  </thead>\n",
       "  <tbody>\n",
       "    <tr>\n",
       "      <th>0</th>\n",
       "      <td>Essential reading from @jasondashbailey on all...</td>\n",
       "      <td>1</td>\n",
       "    </tr>\n",
       "    <tr>\n",
       "      <th>1</th>\n",
       "      <td>Foxtel and Fox Sports Australia have plans to ...</td>\n",
       "      <td>1</td>\n",
       "    </tr>\n",
       "    <tr>\n",
       "      <th>2</th>\n",
       "      <td>@sabya2km @AnimalDesatado @Keda_92 @ManaByte T...</td>\n",
       "      <td>1</td>\n",
       "    </tr>\n",
       "    <tr>\n",
       "      <th>3</th>\n",
       "      <td>All the Disney classics should be on Netflix b...</td>\n",
       "      <td>1</td>\n",
       "    </tr>\n",
       "    <tr>\n",
       "      <th>4</th>\n",
       "      <td>@LostMittenCP @CPRewritten @rainbertt Better t...</td>\n",
       "      <td>1</td>\n",
       "    </tr>\n",
       "    <tr>\n",
       "      <th>...</th>\n",
       "      <td>...</td>\n",
       "      <td>...</td>\n",
       "    </tr>\n",
       "    <tr>\n",
       "      <th>1195</th>\n",
       "      <td>ALL DEM BET CYPHERS WAS PHONY DEY LET WEIRD NI...</td>\n",
       "      <td>1</td>\n",
       "    </tr>\n",
       "    <tr>\n",
       "      <th>1196</th>\n",
       "      <td>@JoshuaYehl Will the Kitty Pryde Solo Film Be ...</td>\n",
       "      <td>1</td>\n",
       "    </tr>\n",
       "    <tr>\n",
       "      <th>1197</th>\n",
       "      <td>FOX AND DISNEY (and thereby Marvel) IS REAL! M...</td>\n",
       "      <td>1</td>\n",
       "    </tr>\n",
       "    <tr>\n",
       "      <th>1198</th>\n",
       "      <td>It’s everyday bro with that Disney/Fox merger ...</td>\n",
       "      <td>1</td>\n",
       "    </tr>\n",
       "    <tr>\n",
       "      <th>1199</th>\n",
       "      <td>I liked a @YouTube video https://t.co/e0bCUybo...</td>\n",
       "      <td>1</td>\n",
       "    </tr>\n",
       "  </tbody>\n",
       "</table>\n",
       "<p>1200 rows × 2 columns</p>\n",
       "</div>"
      ],
      "text/plain": [
       "                                                   text  target\n",
       "0     Essential reading from @jasondashbailey on all...       1\n",
       "1     Foxtel and Fox Sports Australia have plans to ...       1\n",
       "2     @sabya2km @AnimalDesatado @Keda_92 @ManaByte T...       1\n",
       "3     All the Disney classics should be on Netflix b...       1\n",
       "4     @LostMittenCP @CPRewritten @rainbertt Better t...       1\n",
       "...                                                 ...     ...\n",
       "1195  ALL DEM BET CYPHERS WAS PHONY DEY LET WEIRD NI...       1\n",
       "1196  @JoshuaYehl Will the Kitty Pryde Solo Film Be ...       1\n",
       "1197  FOX AND DISNEY (and thereby Marvel) IS REAL! M...       1\n",
       "1198  It’s everyday bro with that Disney/Fox merger ...       1\n",
       "1199  I liked a @YouTube video https://t.co/e0bCUybo...       1\n",
       "\n",
       "[1200 rows x 2 columns]"
      ]
     },
     "execution_count": 149,
     "metadata": {},
     "output_type": "execute_result"
    }
   ],
   "source": [
    "df_enter = pd.DataFrame()\n",
    "df_a = df_ent_train[df_ent_train['target'] == 'FOXA_DIS'][:1200]\n",
    "df_enter = df_enter.append(df_a, ignore_index=True)\n",
    "\n",
    "df_enter_new = pd.DataFrame(columns=['text', 'target'])\n",
    "df_enter_new['text'] = df_enter['tweet']\n",
    "df_enter_new['target'] = 1\n",
    "df_enter_new"
   ]
  },
  {
   "cell_type": "code",
   "execution_count": 150,
   "id": "e2e136cd-d28c-49ec-ac34-d64ae8877acc",
   "metadata": {},
   "outputs": [],
   "source": [
    "# df_health = pd.DataFrame()\n",
    "# df_a = df_hlt_train[df_hlt_train['target'] == 'AET_HUM'][:300]\n",
    "# df_b = df_hlt_train[df_hlt_train['target'] == 'ANTM_CI'][:300]\n",
    "# df_c = df_hlt_train[df_hlt_train['target'] == 'CI_ESRX'][:300]\n",
    "# df_d = df_hlt_train[df_hlt_train['target'] == 'CVS_AET'][:300]\n",
    "# df_health = df_health.append(df_a, ignore_index=True)\n",
    "# df_health = df_health.append(df_b, ignore_index=True)\n",
    "# df_health = df_health.append(df_c, ignore_index=True)\n",
    "# df_health = df_health.append(df_d, ignore_index=True)\n",
    "# df_health_new = pd.DataFrame(columns=['text', 'target'])\n",
    "# df_health_new['text'] = df_health['tweet']\n",
    "# df_health_new['target'] = 1\n",
    "# df_health_new"
   ]
  },
  {
   "cell_type": "code",
   "execution_count": 151,
   "id": "8425e495-2ee0-4073-8d85-3d8014dabece",
   "metadata": {},
   "outputs": [
    {
     "data": {
      "text/html": [
       "<div>\n",
       "<style scoped>\n",
       "    .dataframe tbody tr th:only-of-type {\n",
       "        vertical-align: middle;\n",
       "    }\n",
       "\n",
       "    .dataframe tbody tr th {\n",
       "        vertical-align: top;\n",
       "    }\n",
       "\n",
       "    .dataframe thead th {\n",
       "        text-align: right;\n",
       "    }\n",
       "</style>\n",
       "<table border=\"1\" class=\"dataframe\">\n",
       "  <thead>\n",
       "    <tr style=\"text-align: right;\">\n",
       "      <th></th>\n",
       "      <th>text</th>\n",
       "      <th>target</th>\n",
       "    </tr>\n",
       "  </thead>\n",
       "  <tbody>\n",
       "    <tr>\n",
       "      <th>0</th>\n",
       "      <td>It's what's best for business and presidential...</td>\n",
       "      <td>0</td>\n",
       "    </tr>\n",
       "    <tr>\n",
       "      <th>1</th>\n",
       "      <td>Another #Hillary supporter committed to caucus...</td>\n",
       "      <td>0</td>\n",
       "    </tr>\n",
       "    <tr>\n",
       "      <th>2</th>\n",
       "      <td>@politico   YAWNzzzzzzzzzzzzzz could keep the ...</td>\n",
       "      <td>0</td>\n",
       "    </tr>\n",
       "    <tr>\n",
       "      <th>3</th>\n",
       "      <td>Isis celebrates Islam with 3 terror attacks ov...</td>\n",
       "      <td>0</td>\n",
       "    </tr>\n",
       "    <tr>\n",
       "      <th>4</th>\n",
       "      <td>Was asked by @HillaryClinton to help with her ...</td>\n",
       "      <td>0</td>\n",
       "    </tr>\n",
       "    <tr>\n",
       "      <th>...</th>\n",
       "      <td>...</td>\n",
       "      <td>...</td>\n",
       "    </tr>\n",
       "    <tr>\n",
       "      <th>2414</th>\n",
       "      <td>ALL DEM BET CYPHERS WAS PHONY DEY LET WEIRD NI...</td>\n",
       "      <td>1</td>\n",
       "    </tr>\n",
       "    <tr>\n",
       "      <th>2415</th>\n",
       "      <td>@JoshuaYehl Will the Kitty Pryde Solo Film Be ...</td>\n",
       "      <td>1</td>\n",
       "    </tr>\n",
       "    <tr>\n",
       "      <th>2416</th>\n",
       "      <td>FOX AND DISNEY (and thereby Marvel) IS REAL! M...</td>\n",
       "      <td>1</td>\n",
       "    </tr>\n",
       "    <tr>\n",
       "      <th>2417</th>\n",
       "      <td>It’s everyday bro with that Disney/Fox merger ...</td>\n",
       "      <td>1</td>\n",
       "    </tr>\n",
       "    <tr>\n",
       "      <th>2418</th>\n",
       "      <td>I liked a @YouTube video https://t.co/e0bCUybo...</td>\n",
       "      <td>1</td>\n",
       "    </tr>\n",
       "  </tbody>\n",
       "</table>\n",
       "<p>2419 rows × 2 columns</p>\n",
       "</div>"
      ],
      "text/plain": [
       "                                                   text target\n",
       "0     It's what's best for business and presidential...      0\n",
       "1     Another #Hillary supporter committed to caucus...      0\n",
       "2     @politico   YAWNzzzzzzzzzzzzzz could keep the ...      0\n",
       "3     Isis celebrates Islam with 3 terror attacks ov...      0\n",
       "4     Was asked by @HillaryClinton to help with her ...      0\n",
       "...                                                 ...    ...\n",
       "2414  ALL DEM BET CYPHERS WAS PHONY DEY LET WEIRD NI...      1\n",
       "2415  @JoshuaYehl Will the Kitty Pryde Solo Film Be ...      1\n",
       "2416  FOX AND DISNEY (and thereby Marvel) IS REAL! M...      1\n",
       "2417  It’s everyday bro with that Disney/Fox merger ...      1\n",
       "2418  I liked a @YouTube video https://t.co/e0bCUybo...      1\n",
       "\n",
       "[2419 rows x 2 columns]"
      ]
     },
     "execution_count": 151,
     "metadata": {},
     "output_type": "execute_result"
    }
   ],
   "source": [
    "df = df_politics\n",
    "#df = df.append(df_health_new, ignore_index=True)\n",
    "df = df.append(df_enter_new, ignore_index=True)\n",
    "df"
   ]
  },
  {
   "cell_type": "markdown",
   "id": "38dfe75d",
   "metadata": {},
   "source": [
    "# Data Cleaning"
   ]
  },
  {
   "cell_type": "code",
   "execution_count": 152,
   "id": "fe37df96",
   "metadata": {},
   "outputs": [
    {
     "name": "stdout",
     "output_type": "stream",
     "text": [
      "Cleaning Data\n",
      "Cleaning Done\n"
     ]
    }
   ],
   "source": [
    "def remove_url(text):\n",
    "    url = re.compile(r'https?://\\S+|www\\.\\S+')\n",
    "    return url.sub(r'', text)\n",
    "\n",
    "def remove_emoji(text):\n",
    "    emoji_pattern = re.compile(\n",
    "        '['\n",
    "        u'\\U0001F600-\\U0001F64F'  # emoticons\n",
    "        u'\\U0001F300-\\U0001F5FF'  # symbols & pictographs\n",
    "        u'\\U0001F680-\\U0001F6FF'  # transport & map symbols\n",
    "        u'\\U0001F1E0-\\U0001F1FF'  # flags (iOS)\n",
    "        u'\\U00002702-\\U000027B0'\n",
    "        u'\\U000024C2-\\U0001F251'\n",
    "        ']+',\n",
    "        flags=re.UNICODE)\n",
    "    return emoji_pattern.sub(r'', text)\n",
    "\n",
    "def remove_html(text):\n",
    "    html = re.compile(r'<.*?>|&([a-z0-9]+|#[0-9]{1,6}|#x[0-9a-f]{1,6});')\n",
    "    return re.sub(html, '', text)\n",
    "\n",
    "def remove_punct(text):\n",
    "    table = str.maketrans('', '', string.punctuation)\n",
    "    return text.translate(table)\n",
    "\n",
    "df['clean_text'] = df['text'].apply(lambda x: remove_url(str(x)))\n",
    "df['clean_text'] = df['clean_text'].apply(lambda x: remove_emoji(str(x)))\n",
    "df['clean_text'] = df['clean_text'].apply(lambda x: remove_html(str(x)))\n",
    "df['clean_text'] = df['clean_text'].apply(lambda x: remove_punct(str(x)))\n",
    "df['clean_text'] = df['clean_text'].apply(word_tokenize)\n",
    "df['clean_text'] = df['clean_text'].apply(lambda x: [word.lower() for word in x])\n",
    "df['clean_text'] = df['clean_text'].apply(lambda x: [word for word in x if word not in stop])\n",
    "df['clean_text'] = df['clean_text'].apply(nltk.tag.pos_tag)\n",
    "\n",
    "def get_wordnet_pos(tag):\n",
    "    if tag.startswith('J'):\n",
    "        return wordnet.ADJ\n",
    "    elif tag.startswith('V'):\n",
    "        return wordnet.VERB\n",
    "    elif tag.startswith('N'):\n",
    "        return wordnet.NOUN\n",
    "    elif tag.startswith('R'):\n",
    "        return wordnet.ADV\n",
    "    else:\n",
    "        return wordnet.NOUN\n",
    "print(\"Cleaning Data\")    \n",
    "df['clean_text'] = df['clean_text'].apply(\n",
    "    lambda x: [(word, get_wordnet_pos(pos_tag)) for (word, pos_tag) in x])\n",
    "wnl = WordNetLemmatizer()\n",
    "df['clean_text'] = df['clean_text'].apply(\n",
    "    lambda x: [wnl.lemmatize(word, tag) for word, tag in x])\n",
    "df['clean_text'] = df['clean_text'].apply(\n",
    "    lambda x: [word for word in x if word not in stop])\n",
    "df['clean_text'] = [' '.join(map(str, l)) for l in df['clean_text']]\n",
    "print(\"Cleaning Done\")"
   ]
  },
  {
   "cell_type": "markdown",
   "id": "e90a6858",
   "metadata": {},
   "source": [
    "# Triple Loss"
   ]
  },
  {
   "cell_type": "code",
   "execution_count": 153,
   "id": "4ef15558",
   "metadata": {},
   "outputs": [],
   "source": [
    "positive_initial = list(df[df['target'] == 1]['clean_text'])\n",
    "negative_initial = list(df[df['target'] == 0]['clean_text'])\n",
    "\n",
    "# Taking 1000 samples from the entire data\n",
    "pos = positive_initial[:]\n",
    "neg = negative_initial[:]\n",
    "\n",
    "# Creating pairs of data for siamese training => labels for identity loss and class for disaster or non disaster\n",
    "df2 = pd.DataFrame(columns=['Anchor', 'Positive', 'Negative', 'label', 'class'])\n",
    "\n",
    "for data in pos:\n",
    "    a = data\n",
    "    p = random.choice(pos)\n",
    "    n = random.choice(neg)\n",
    "    df2.loc[len(df2)] = [a, p, n, 1, 1]\n",
    "\n",
    "\n",
    "for data in neg:\n",
    "    a = data\n",
    "    p = random.choice(neg)\n",
    "    n = random.choice(pos)\n",
    "    df2.loc[len(df2)] = [a, p, n, 1, 0]"
   ]
  },
  {
   "cell_type": "code",
   "execution_count": 154,
   "id": "b8acea3a",
   "metadata": {},
   "outputs": [
    {
     "name": "stdout",
     "output_type": "stream",
     "text": [
      "The new DF with anchor, positive, negative, label, class is created. The shape is :  (2419, 5)\n"
     ]
    }
   ],
   "source": [
    "print(\"The new DF with anchor, positive, negative, label, class is created. The shape is : \", df2.shape)"
   ]
  },
  {
   "cell_type": "code",
   "execution_count": null,
   "id": "5006ce55",
   "metadata": {},
   "outputs": [],
   "source": []
  },
  {
   "cell_type": "code",
   "execution_count": 155,
   "id": "ba4f373c",
   "metadata": {},
   "outputs": [],
   "source": [
    "X, X_test, y, y_test = train_test_split(df2[['Anchor', 'Positive', 'Negative']], df2[['label', 'class']], test_size=0.2, random_state=0)\n",
    "X_train, X_val, y_train, y_val = train_test_split(X[['Anchor', 'Positive', 'Negative']], y[['label', 'class']], test_size=0.2, random_state=0)\n"
   ]
  },
  {
   "cell_type": "code",
   "execution_count": 156,
   "id": "24410b4d",
   "metadata": {
    "scrolled": true
   },
   "outputs": [
    {
     "name": "stdout",
     "output_type": "stream",
     "text": [
      "The X_train = (1548, 3), X_val = (387, 3), X_test = (484, 3), y_train = (1548, 2), y_val = (387, 2), y_test = (484, 2)\n"
     ]
    }
   ],
   "source": [
    "print(\"The X_train = {}, X_val = {}, X_test = {}, y_train = {}, y_val = {}, y_test = {}\".format(X_train.shape, X_val.shape, X_test.shape, y_train.shape, y_val.shape, y_test.shape))"
   ]
  },
  {
   "cell_type": "code",
   "execution_count": null,
   "id": "0497d9ac",
   "metadata": {},
   "outputs": [],
   "source": []
  },
  {
   "cell_type": "code",
   "execution_count": 157,
   "id": "b0b8fe05",
   "metadata": {},
   "outputs": [],
   "source": [
    "X_train['text'] = X_train[['Anchor', 'Positive', 'Negative']].apply(lambda x: str(x[0])+\" \"+str(x[1])+\" \"+str(x[2]), axis=1)"
   ]
  },
  {
   "cell_type": "markdown",
   "id": "2b3eadfd",
   "metadata": {},
   "source": [
    "# Tokenizer"
   ]
  },
  {
   "cell_type": "code",
   "execution_count": 158,
   "id": "4f1f8ee3",
   "metadata": {},
   "outputs": [
    {
     "name": "stdout",
     "output_type": "stream",
     "text": [
      "Starting to Tokenize and Padding\n"
     ]
    }
   ],
   "source": [
    "print(\"Starting to Tokenize and Padding\")\n",
    "t = Tokenizer()\n",
    "t.fit_on_texts(X_train['text'].values)\n",
    "\n",
    "X_train['Anchor'] = X_train['Anchor'].astype(str)\n",
    "X_train['Positive'] = X_train['Positive'].astype(str)\n",
    "X_train['Negative'] = X_train['Negative'].astype(str)\n",
    "X_val['Anchor'] = X_val['Anchor'].astype(str)\n",
    "X_val['Positive'] = X_val['Positive'].astype(str)\n",
    "X_val['Negative'] = X_val['Negative'].astype(str)\n",
    "X_test['Anchor'] = X_test['Anchor'].astype(str)\n",
    "X_test['Positive'] = X_test['Positive'].astype(str)\n",
    "X_test['Negative'] = X_test['Negative'].astype(str)\n",
    "\n",
    "train_q1_seq = t.texts_to_sequences(X_train['Anchor'].values)\n",
    "train_q2_seq = t.texts_to_sequences(X_train['Positive'].values)\n",
    "train_q3_seq = t.texts_to_sequences(X_train['Negative'].values)\n",
    "val_q1_seq = t.texts_to_sequences(X_val['Anchor'].values)\n",
    "val_q2_seq = t.texts_to_sequences(X_val['Positive'].values)\n",
    "val_q3_seq = t.texts_to_sequences(X_val['Negative'].values)\n",
    "test_q1_seq = t.texts_to_sequences(X_test['Anchor'].values)\n",
    "test_q2_seq = t.texts_to_sequences(X_test['Positive'].values)\n",
    "test_q3_seq = t.texts_to_sequences(X_test['Negative'].values)\n",
    "\n",
    "max_len = 200\n",
    "train_q1_seq = pad_sequences(train_q1_seq, maxlen=max_len, padding='post')\n",
    "train_q2_seq = pad_sequences(train_q2_seq, maxlen=max_len, padding='post')\n",
    "train_q3_seq = pad_sequences(train_q3_seq, maxlen=max_len, padding='post')\n",
    "val_q1_seq = pad_sequences(val_q1_seq, maxlen=max_len, padding='post')\n",
    "val_q2_seq = pad_sequences(val_q2_seq, maxlen=max_len, padding='post')\n",
    "val_q3_seq = pad_sequences(val_q3_seq, maxlen=max_len, padding='post')\n",
    "test_q1_seq = pad_sequences(test_q1_seq, maxlen=max_len, padding='post')\n",
    "test_q2_seq = pad_sequences(test_q2_seq, maxlen=max_len, padding='post')\n",
    "test_q3_seq = pad_sequences(test_q3_seq, maxlen=max_len, padding='post')"
   ]
  },
  {
   "cell_type": "code",
   "execution_count": 159,
   "id": "f72b7097",
   "metadata": {},
   "outputs": [
    {
     "name": "stdout",
     "output_type": "stream",
     "text": [
      "Loading Embedding and making embedding_matrix\n",
      "Found 400000 word vectors.\n"
     ]
    }
   ],
   "source": [
    "print(\"Loading Embedding and making embedding_matrix\")\n",
    "embeddings_index = {}\n",
    "f = open('/data/parush/embeddings/wikipedia/glove.6B.300d.txt')\n",
    "for line in f:\n",
    "    values = line.split()\n",
    "    word = values[0]\n",
    "    coefs = np.asarray(values[1:], dtype='float32')\n",
    "    embeddings_index[word] = coefs\n",
    "f.close()\n",
    "\n",
    "print('Found %s word vectors.' % len(embeddings_index))"
   ]
  },
  {
   "cell_type": "code",
   "execution_count": null,
   "id": "713e99c5-5d28-43f7-9a44-fa3460c3bb73",
   "metadata": {},
   "outputs": [],
   "source": []
  },
  {
   "cell_type": "code",
   "execution_count": 160,
   "id": "d3263e8d",
   "metadata": {},
   "outputs": [
    {
     "name": "stdout",
     "output_type": "stream",
     "text": [
      "Loaded 400000 word vectors.\n"
     ]
    }
   ],
   "source": [
    "not_present_list = []\n",
    "vocab_size = len(t.word_index) + 1\n",
    "print('Loaded %s word vectors.' % len(embeddings_index))\n",
    "embedding_matrix = np.zeros((vocab_size, len(embeddings_index['no'])))\n",
    "for word, i in t.word_index.items():\n",
    "    if word in embeddings_index.keys():\n",
    "        \n",
    "        embedding_vector = embeddings_index.get(word)\n",
    "    else:\n",
    "        embedding_vector = None\n",
    "        not_present_list.append(word)\n",
    "    if embedding_vector is not None:\n",
    "        embedding_matrix[i] = embedding_vector\n",
    "    else:\n",
    "        embedding_matrix[i] = np.zeros(300)"
   ]
  },
  {
   "cell_type": "code",
   "execution_count": 161,
   "id": "3a0555a9",
   "metadata": {},
   "outputs": [
    {
     "name": "stdout",
     "output_type": "stream",
     "text": [
      "Embedding matrix shape (6344, 300)\n"
     ]
    }
   ],
   "source": [
    "print(\"Embedding matrix shape\",embedding_matrix.shape)"
   ]
  },
  {
   "cell_type": "markdown",
   "id": "f9d8355f",
   "metadata": {},
   "source": [
    "# Siamese Model"
   ]
  },
  {
   "cell_type": "code",
   "execution_count": 162,
   "id": "d248dcca",
   "metadata": {},
   "outputs": [
    {
     "name": "stdout",
     "output_type": "stream",
     "text": [
      "Creating Model and Loss Function\n"
     ]
    }
   ],
   "source": [
    "print(\"Creating Model and Loss Function\")\n",
    "def identity_loss(y_true, y_pred):\n",
    "    return K.mean(y_pred)\n",
    "\n",
    "def triplet_loss(x, alpha = 0.2):\n",
    "    # Triplet Loss function.\n",
    "    anchor,positive,negative = x\n",
    "    # distance between the anchor and the positive\n",
    "    pos_dist = K.sum(K.square(anchor-positive),axis=1)\n",
    "    # distance between the anchor and the negative\n",
    "    neg_dist = K.sum(K.square(anchor-negative),axis=1)\n",
    "    # compute loss\n",
    "    basic_loss = pos_dist-neg_dist+alpha\n",
    "    loss = K.maximum(basic_loss,0.0)\n",
    "    return loss"
   ]
  },
  {
   "cell_type": "code",
   "execution_count": 163,
   "id": "293fe586",
   "metadata": {},
   "outputs": [],
   "source": [
    "def embedding_model():\n",
    "    network = Sequential()\n",
    "    network.add(Embedding(name=\"synopsis_embedd\",input_dim =len(t.word_index)+1, \n",
    "                       output_dim=len(embeddings_index['no']),weights=[embedding_matrix], \n",
    "                       input_length=train_q1_seq.shape[1],trainable=False))\n",
    "    network.add(LSTM(64,return_sequences=True, activation=\"relu\",dropout=0.3))\n",
    "    network.add(Flatten())\n",
    "    network.add(Dense(128, activation='relu',\n",
    "                  kernel_regularizer=l2(1e-3),\n",
    "                  kernel_initializer='he_uniform'))\n",
    "    network.add(Dropout(0.5))\n",
    "    network.add(Dense(2, activation=None,\n",
    "                  kernel_regularizer=l2(1e-3),\n",
    "                  kernel_initializer='he_uniform'))\n",
    "    #Force the encoding to live on the d-dimentional hypershpere\n",
    "    # network.add(Lambda(lambda x: K.l2_normalize(x,axis=-1)))\n",
    "    return network\n",
    "\n",
    "\n",
    "def build_network(base_model):\n",
    "    input_1 = Input(shape=(train_q1_seq.shape[1],))\n",
    "    input_2 = Input(shape=(train_q2_seq.shape[1],))\n",
    "    input_3 = Input(shape=(train_q3_seq.shape[1],))\n",
    "    \n",
    "    A = base_model(input_1)\n",
    "    P = base_model(input_2)\n",
    "    N = base_model(input_3)\n",
    "\n",
    "    loss = Lambda(triplet_loss)([A, P, N])\n",
    "    model = Model(inputs = [input_1, input_2, input_3], outputs = loss)\n",
    "    model.compile(loss = identity_loss, optimizer = Adam(0.001))\n",
    "    return model"
   ]
  },
  {
   "cell_type": "code",
   "execution_count": 164,
   "id": "c56b2f01",
   "metadata": {},
   "outputs": [
    {
     "name": "stdout",
     "output_type": "stream",
     "text": [
      "WARNING:tensorflow:Layer lstm_2 will not use cuDNN kernels since it doesn't meet the criteria. It will use a generic GPU kernel as fallback when running on GPU.\n",
      "Model: \"model_4\"\n",
      "__________________________________________________________________________________________________\n",
      "Layer (type)                    Output Shape         Param #     Connected to                     \n",
      "==================================================================================================\n",
      "input_9 (InputLayer)            [(None, 200)]        0                                            \n",
      "__________________________________________________________________________________________________\n",
      "input_10 (InputLayer)           [(None, 200)]        0                                            \n",
      "__________________________________________________________________________________________________\n",
      "input_11 (InputLayer)           [(None, 200)]        0                                            \n",
      "__________________________________________________________________________________________________\n",
      "sequential_2 (Sequential)       (None, 2)            3635426     input_9[0][0]                    \n",
      "                                                                 input_10[0][0]                   \n",
      "                                                                 input_11[0][0]                   \n",
      "__________________________________________________________________________________________________\n",
      "lambda_2 (Lambda)               (None,)              0           sequential_2[0][0]               \n",
      "                                                                 sequential_2[1][0]               \n",
      "                                                                 sequential_2[2][0]               \n",
      "==================================================================================================\n",
      "Total params: 3,635,426\n",
      "Trainable params: 1,732,226\n",
      "Non-trainable params: 1,903,200\n",
      "__________________________________________________________________________________________________\n"
     ]
    }
   ],
   "source": [
    "base_model = embedding_model()\n",
    "model = build_network(base_model)\n",
    "model.summary()"
   ]
  },
  {
   "cell_type": "code",
   "execution_count": 165,
   "id": "9988ba7f",
   "metadata": {},
   "outputs": [],
   "source": [
    "y_train_label = np.asarray(y_train['label']).astype('float32')\n",
    "y_val_label = np.asarray(y_val['label']).astype('float32')\n",
    "y_test_label = np.asarray(y_test['label']).astype('float32')\n",
    "\n",
    "y_train_class = np.asarray(y_train['class']).astype('float32')\n",
    "y_val_class = np.asarray(y_val['class']).astype('float32')\n",
    "y_test_class = np.asarray(y_test['class']).astype('float32')"
   ]
  },
  {
   "cell_type": "code",
   "execution_count": 166,
   "id": "ffe45e64",
   "metadata": {},
   "outputs": [
    {
     "name": "stdout",
     "output_type": "stream",
     "text": [
      "Learning from training data and validating from validation data\n",
      "Epoch 1/50\n",
      "25/25 [==============================] - 17s 588ms/step - loss: 0.2315 - val_loss: 0.0889\n",
      "Epoch 2/50\n",
      "25/25 [==============================] - 15s 593ms/step - loss: 0.0798 - val_loss: 0.0486\n",
      "Epoch 3/50\n",
      "25/25 [==============================] - 14s 569ms/step - loss: 0.0524 - val_loss: 0.0355\n",
      "Epoch 4/50\n",
      "25/25 [==============================] - 14s 555ms/step - loss: 0.0414 - val_loss: 0.0303\n",
      "Epoch 5/50\n",
      "25/25 [==============================] - 14s 578ms/step - loss: 0.0305 - val_loss: 0.0262\n",
      "Epoch 6/50\n",
      "25/25 [==============================] - 15s 582ms/step - loss: 0.0326 - val_loss: 0.0236\n",
      "Epoch 7/50\n",
      "25/25 [==============================] - 14s 569ms/step - loss: 0.0297 - val_loss: 0.0240\n",
      "Epoch 8/50\n",
      "25/25 [==============================] - 14s 578ms/step - loss: 0.0239 - val_loss: 0.0250\n",
      "Epoch 9/50\n",
      "25/25 [==============================] - 15s 587ms/step - loss: 0.0238 - val_loss: 0.0247\n",
      "Epoch 10/50\n",
      "25/25 [==============================] - 14s 571ms/step - loss: 0.0242 - val_loss: 0.0220\n",
      "Epoch 11/50\n",
      "25/25 [==============================] - 14s 580ms/step - loss: 0.0219 - val_loss: 0.0207\n",
      "Epoch 12/50\n",
      "25/25 [==============================] - 15s 602ms/step - loss: 0.0208 - val_loss: 0.0194\n",
      "Epoch 13/50\n",
      "25/25 [==============================] - 14s 573ms/step - loss: 0.0174 - val_loss: 0.0194\n",
      "Epoch 14/50\n",
      "25/25 [==============================] - 14s 575ms/step - loss: 0.0168 - val_loss: 0.0175\n",
      "Epoch 15/50\n",
      "25/25 [==============================] - 14s 555ms/step - loss: 0.0152 - val_loss: 0.0158\n",
      "Epoch 16/50\n",
      "25/25 [==============================] - 15s 585ms/step - loss: 0.0143 - val_loss: 0.0140\n",
      "Epoch 17/50\n",
      "25/25 [==============================] - 14s 566ms/step - loss: 0.0171 - val_loss: 0.0143\n",
      "Epoch 18/50\n",
      "25/25 [==============================] - 15s 580ms/step - loss: 0.0154 - val_loss: 0.0153\n",
      "Epoch 19/50\n",
      "25/25 [==============================] - 14s 578ms/step - loss: 0.0136 - val_loss: 0.0113\n",
      "Epoch 20/50\n",
      "25/25 [==============================] - 15s 583ms/step - loss: 0.0128 - val_loss: 0.0110\n",
      "Epoch 21/50\n",
      "25/25 [==============================] - 14s 574ms/step - loss: 0.0140 - val_loss: 0.0103\n",
      "Epoch 22/50\n",
      "25/25 [==============================] - 15s 592ms/step - loss: 0.0116 - val_loss: 0.0085\n",
      "Epoch 23/50\n",
      "25/25 [==============================] - 14s 568ms/step - loss: 0.0098 - val_loss: 0.0087\n",
      "Epoch 24/50\n",
      "25/25 [==============================] - 15s 588ms/step - loss: 0.0100 - val_loss: 0.0096\n",
      "Epoch 25/50\n",
      "25/25 [==============================] - 14s 577ms/step - loss: 0.0092 - val_loss: 0.0100\n",
      "Epoch 26/50\n",
      "25/25 [==============================] - 14s 573ms/step - loss: 0.0113 - val_loss: 0.0128\n",
      "Epoch 27/50\n",
      "25/25 [==============================] - 14s 569ms/step - loss: 0.0113 - val_loss: 0.0115\n",
      "Epoch 28/50\n",
      "25/25 [==============================] - 14s 567ms/step - loss: 0.0129 - val_loss: 0.0093\n",
      "Epoch 29/50\n",
      "25/25 [==============================] - 14s 558ms/step - loss: 0.0110 - val_loss: 0.0117\n",
      "Epoch 30/50\n",
      "25/25 [==============================] - 14s 560ms/step - loss: 0.0122 - val_loss: 0.0089\n",
      "Epoch 31/50\n",
      "25/25 [==============================] - 14s 556ms/step - loss: 0.0103 - val_loss: 0.0075\n",
      "Epoch 32/50\n",
      "25/25 [==============================] - 14s 553ms/step - loss: 0.0101 - val_loss: 0.0069\n",
      "Epoch 33/50\n",
      "25/25 [==============================] - 15s 579ms/step - loss: 0.0090 - val_loss: 0.0075\n",
      "Epoch 34/50\n",
      "25/25 [==============================] - 14s 561ms/step - loss: 0.0119 - val_loss: 0.0083\n",
      "Epoch 35/50\n",
      "25/25 [==============================] - 15s 585ms/step - loss: 0.0124 - val_loss: 0.0097\n",
      "Epoch 36/50\n",
      "25/25 [==============================] - 14s 572ms/step - loss: 0.0097 - val_loss: 0.0082\n",
      "Epoch 37/50\n",
      "25/25 [==============================] - 14s 561ms/step - loss: 0.0096 - val_loss: 0.0076\n",
      "Epoch 38/50\n",
      "25/25 [==============================] - 15s 588ms/step - loss: 0.0072 - val_loss: 0.0058\n",
      "Epoch 39/50\n",
      "25/25 [==============================] - 15s 584ms/step - loss: 0.0067 - val_loss: 0.0059\n",
      "Epoch 40/50\n",
      "25/25 [==============================] - 14s 559ms/step - loss: 0.0079 - val_loss: 0.0067\n",
      "Epoch 41/50\n",
      "25/25 [==============================] - 14s 572ms/step - loss: 0.0082 - val_loss: 0.0071\n",
      "Epoch 42/50\n",
      "25/25 [==============================] - 14s 554ms/step - loss: 0.0076 - val_loss: 0.0095\n",
      "Epoch 43/50\n",
      "25/25 [==============================] - 14s 568ms/step - loss: 0.0076 - val_loss: 0.0077\n",
      "Epoch 44/50\n",
      "25/25 [==============================] - 14s 567ms/step - loss: 0.0068 - val_loss: 0.0070\n",
      "Epoch 45/50\n",
      "25/25 [==============================] - 14s 579ms/step - loss: 0.0079 - val_loss: 0.0070\n",
      "Epoch 46/50\n",
      "25/25 [==============================] - 14s 555ms/step - loss: 0.0066 - val_loss: 0.0066\n",
      "Epoch 47/50\n",
      "25/25 [==============================] - 14s 569ms/step - loss: 0.0072 - val_loss: 0.0072\n",
      "Epoch 48/50\n",
      "25/25 [==============================] - 14s 557ms/step - loss: 0.0064 - val_loss: 0.0057\n",
      "Epoch 49/50\n",
      "25/25 [==============================] - 15s 596ms/step - loss: 0.0077 - val_loss: 0.0058\n",
      "Epoch 50/50\n",
      "25/25 [==============================] - 14s 578ms/step - loss: 0.0078 - val_loss: 0.0060\n"
     ]
    }
   ],
   "source": [
    "print('Learning from training data and validating from validation data')\n",
    "history = model.fit([train_q1_seq,train_q2_seq, train_q3_seq],y_train_label.reshape(-1,1), epochs = 50, \n",
    "          batch_size=64,validation_data=([val_q1_seq, val_q2_seq, val_q3_seq],y_val_label.reshape(-1,1)))"
   ]
  },
  {
   "cell_type": "code",
   "execution_count": 167,
   "id": "8f587744",
   "metadata": {},
   "outputs": [
    {
     "data": {
      "image/png": "[encoded data removed]",
      "text/plain": [
       "<Figure size 432x288 with 1 Axes>"
      ]
     },
     "metadata": {
      "needs_background": "light"
     },
     "output_type": "display_data"
    }
   ],
   "source": [
    "\n",
    "plt.plot(history.history['loss'])\n",
    "plt.plot(history.history['val_loss'])\n",
    "plt.title('Training and Validation Losses',size = 12)\n",
    "plt.ylabel('loss')\n",
    "plt.xlabel('epoch')\n",
    "plt.legend(['train', 'val'], loc='upper right')\n",
    "plt.show()"
   ]
  },
  {
   "cell_type": "code",
   "execution_count": 168,
   "id": "9926a334",
   "metadata": {},
   "outputs": [],
   "source": [
    "# model_json = model.to_json()\n",
    "# with open(\"siamesemodel-triplet-loss.json\", \"w\") as json_file:\n",
    "#     json_file.write(model_json)\n",
    "# #serialize weights to HDF5\n",
    "# model.save_weights(\"siamesemodel-triplet-loss.h5\")\n",
    "# print(\"Saved model to disk\")"
   ]
  },
  {
   "cell_type": "code",
   "execution_count": 169,
   "id": "50ed38fe",
   "metadata": {},
   "outputs": [],
   "source": [
    "\n",
    "X_train_eval = base_model.predict(train_q1_seq)\n",
    "X_test_eval = base_model.predict(test_q1_seq)\n",
    "# The above embedding outputs will be used to predict. \n",
    "\n",
    "# TSNE - dimensionality reduction for data visualization\n",
    "tsne = TSNE()\n",
    "train_tsne_embeds = tsne.fit_transform(X_train_eval)"
   ]
  },
  {
   "cell_type": "code",
   "execution_count": 170,
   "id": "754a9577",
   "metadata": {},
   "outputs": [
    {
     "data": {
      "image/png": "[encoded data removed]",
      "text/plain": [
       "<Figure size 576x576 with 1 Axes>"
      ]
     },
     "metadata": {
      "needs_background": "light"
     },
     "output_type": "display_data"
    }
   ],
   "source": [
    "def scatter(x, labels, subtitle=None):\n",
    "    # Create a scatter plot of all the \n",
    "    # the embeddings of the model.\n",
    "    # We choose a color palette with seaborn.\n",
    "    palette = np.array(sns.color_palette(\"hls\", 2))\n",
    "    # We create a scatter plot.\n",
    "    f = plt.figure(figsize=(8, 8))\n",
    "    ax = plt.subplot(aspect='equal')\n",
    "    sc = ax.scatter(x[:,0], x[:,1], lw=0,alpha = 0.5, s=40,\n",
    "                    c=palette[labels.astype(np.int)] )\n",
    "    plt.xlim(-25, 25)\n",
    "    plt.ylim(-25, 25)\n",
    "    ax.axis('off')\n",
    "    ax.axis('tight')\n",
    "\n",
    "scatter(train_tsne_embeds, y_train_class)"
   ]
  },
  {
   "cell_type": "code",
   "execution_count": null,
   "id": "5bdd7564-88f1-44b6-8aec-b2f7c2c8bf2f",
   "metadata": {},
   "outputs": [],
   "source": []
  },
  {
   "cell_type": "code",
   "execution_count": 171,
   "id": "39efcd6c",
   "metadata": {},
   "outputs": [
    {
     "name": "stdout",
     "output_type": "stream",
     "text": [
      "Epoch 1/100\n",
      "49/49 [==============================] - 0s 4ms/step - loss: 0.6565 - accuracy: 0.9987 - val_loss: 0.6362 - val_accuracy: 0.9959\n",
      "Epoch 2/100\n",
      "49/49 [==============================] - 0s 2ms/step - loss: 0.6130 - accuracy: 0.9987 - val_loss: 0.5967 - val_accuracy: 0.9959\n",
      "Epoch 3/100\n",
      "49/49 [==============================] - 0s 2ms/step - loss: 0.5729 - accuracy: 0.9987 - val_loss: 0.5598 - val_accuracy: 0.9959\n",
      "Epoch 4/100\n",
      "49/49 [==============================] - 0s 2ms/step - loss: 0.5359 - accuracy: 0.9987 - val_loss: 0.5258 - val_accuracy: 0.9959\n",
      "Epoch 5/100\n",
      "49/49 [==============================] - 0s 2ms/step - loss: 0.5017 - accuracy: 0.9987 - val_loss: 0.4944 - val_accuracy: 0.9959\n",
      "Epoch 6/100\n",
      "49/49 [==============================] - 0s 2ms/step - loss: 0.4703 - accuracy: 0.9987 - val_loss: 0.4654 - val_accuracy: 0.9959\n",
      "Epoch 7/100\n",
      "49/49 [==============================] - 0s 2ms/step - loss: 0.4413 - accuracy: 0.9987 - val_loss: 0.4384 - val_accuracy: 0.9959\n",
      "Epoch 8/100\n",
      "49/49 [==============================] - 0s 2ms/step - loss: 0.4147 - accuracy: 0.9987 - val_loss: 0.4137 - val_accuracy: 0.9959\n",
      "Epoch 9/100\n",
      "49/49 [==============================] - 0s 2ms/step - loss: 0.3900 - accuracy: 0.9987 - val_loss: 0.3909 - val_accuracy: 0.9959\n",
      "Epoch 10/100\n",
      "49/49 [==============================] - 0s 2ms/step - loss: 0.3673 - accuracy: 0.9987 - val_loss: 0.3695 - val_accuracy: 0.9959\n",
      "Epoch 11/100\n",
      "49/49 [==============================] - 0s 2ms/step - loss: 0.3463 - accuracy: 0.9987 - val_loss: 0.3499 - val_accuracy: 0.9959\n",
      "Epoch 12/100\n",
      "49/49 [==============================] - 0s 2ms/step - loss: 0.3270 - accuracy: 0.9987 - val_loss: 0.3318 - val_accuracy: 0.9959\n",
      "Epoch 13/100\n",
      "49/49 [==============================] - 0s 2ms/step - loss: 0.3092 - accuracy: 0.9987 - val_loss: 0.3148 - val_accuracy: 0.9959\n",
      "Epoch 14/100\n",
      "49/49 [==============================] - 0s 2ms/step - loss: 0.2925 - accuracy: 0.9987 - val_loss: 0.2995 - val_accuracy: 0.9959\n",
      "Epoch 15/100\n",
      "49/49 [==============================] - 0s 2ms/step - loss: 0.2772 - accuracy: 0.9987 - val_loss: 0.2848 - val_accuracy: 0.9959\n",
      "Epoch 16/100\n",
      "49/49 [==============================] - 0s 2ms/step - loss: 0.2629 - accuracy: 0.9987 - val_loss: 0.2713 - val_accuracy: 0.9959\n",
      "Epoch 17/100\n",
      "49/49 [==============================] - 0s 2ms/step - loss: 0.2497 - accuracy: 0.9987 - val_loss: 0.2587 - val_accuracy: 0.9959\n",
      "Epoch 18/100\n",
      "49/49 [==============================] - 0s 2ms/step - loss: 0.2374 - accuracy: 0.9987 - val_loss: 0.2472 - val_accuracy: 0.9959\n",
      "Epoch 19/100\n",
      "49/49 [==============================] - 0s 2ms/step - loss: 0.2260 - accuracy: 0.9987 - val_loss: 0.2362 - val_accuracy: 0.9959\n",
      "Epoch 20/100\n",
      "49/49 [==============================] - 0s 2ms/step - loss: 0.2153 - accuracy: 0.9987 - val_loss: 0.2260 - val_accuracy: 0.9959\n",
      "Epoch 21/100\n",
      "49/49 [==============================] - 0s 2ms/step - loss: 0.2053 - accuracy: 0.9987 - val_loss: 0.2165 - val_accuracy: 0.9959\n",
      "Epoch 22/100\n",
      "49/49 [==============================] - 0s 2ms/step - loss: 0.1960 - accuracy: 0.9987 - val_loss: 0.2076 - val_accuracy: 0.9959\n",
      "Epoch 23/100\n",
      "49/49 [==============================] - 0s 2ms/step - loss: 0.1873 - accuracy: 0.9987 - val_loss: 0.1992 - val_accuracy: 0.9959\n",
      "Epoch 24/100\n",
      "49/49 [==============================] - 0s 2ms/step - loss: 0.1792 - accuracy: 0.9987 - val_loss: 0.1914 - val_accuracy: 0.9959\n",
      "Epoch 25/100\n",
      "49/49 [==============================] - 0s 2ms/step - loss: 0.1715 - accuracy: 0.9987 - val_loss: 0.1839 - val_accuracy: 0.9959\n",
      "Epoch 26/100\n",
      "49/49 [==============================] - 0s 2ms/step - loss: 0.1643 - accuracy: 0.9987 - val_loss: 0.1770 - val_accuracy: 0.9959\n",
      "Epoch 27/100\n",
      "49/49 [==============================] - 0s 2ms/step - loss: 0.1576 - accuracy: 0.9987 - val_loss: 0.1705 - val_accuracy: 0.9959\n",
      "Epoch 28/100\n",
      "49/49 [==============================] - 0s 2ms/step - loss: 0.1512 - accuracy: 0.9987 - val_loss: 0.1643 - val_accuracy: 0.9959\n",
      "Epoch 29/100\n",
      "49/49 [==============================] - 0s 2ms/step - loss: 0.1452 - accuracy: 0.9987 - val_loss: 0.1585 - val_accuracy: 0.9959\n",
      "Epoch 30/100\n",
      "49/49 [==============================] - 0s 2ms/step - loss: 0.1396 - accuracy: 0.9987 - val_loss: 0.1530 - val_accuracy: 0.9959\n",
      "Epoch 31/100\n",
      "49/49 [==============================] - 0s 2ms/step - loss: 0.1342 - accuracy: 0.9987 - val_loss: 0.1478 - val_accuracy: 0.9959\n",
      "Epoch 32/100\n",
      "49/49 [==============================] - 0s 2ms/step - loss: 0.1292 - accuracy: 0.9987 - val_loss: 0.1428 - val_accuracy: 0.9959\n",
      "Epoch 33/100\n",
      "49/49 [==============================] - 0s 2ms/step - loss: 0.1244 - accuracy: 0.9987 - val_loss: 0.1381 - val_accuracy: 0.9959\n",
      "Epoch 34/100\n",
      "49/49 [==============================] - 0s 2ms/step - loss: 0.1199 - accuracy: 0.9987 - val_loss: 0.1337 - val_accuracy: 0.9959\n",
      "Epoch 35/100\n",
      "49/49 [==============================] - 0s 2ms/step - loss: 0.1156 - accuracy: 0.9987 - val_loss: 0.1294 - val_accuracy: 0.9959\n",
      "Epoch 36/100\n",
      "49/49 [==============================] - 0s 2ms/step - loss: 0.1116 - accuracy: 0.9987 - val_loss: 0.1255 - val_accuracy: 0.9959\n",
      "Epoch 37/100\n",
      "49/49 [==============================] - 0s 2ms/step - loss: 0.1077 - accuracy: 0.9987 - val_loss: 0.1217 - val_accuracy: 0.9959\n",
      "Epoch 38/100\n",
      "49/49 [==============================] - 0s 2ms/step - loss: 0.1040 - accuracy: 0.9987 - val_loss: 0.1180 - val_accuracy: 0.9959\n",
      "Epoch 39/100\n",
      "49/49 [==============================] - 0s 2ms/step - loss: 0.1005 - accuracy: 0.9987 - val_loss: 0.1145 - val_accuracy: 0.9959\n",
      "Epoch 40/100\n",
      "49/49 [==============================] - 0s 2ms/step - loss: 0.0972 - accuracy: 0.9987 - val_loss: 0.1112 - val_accuracy: 0.9959\n",
      "Epoch 41/100\n",
      "49/49 [==============================] - 0s 2ms/step - loss: 0.0941 - accuracy: 0.9987 - val_loss: 0.1080 - val_accuracy: 0.9959\n",
      "Epoch 42/100\n",
      "49/49 [==============================] - 0s 2ms/step - loss: 0.0910 - accuracy: 0.9987 - val_loss: 0.1051 - val_accuracy: 0.9959\n",
      "Epoch 43/100\n",
      "49/49 [==============================] - 0s 2ms/step - loss: 0.0882 - accuracy: 0.9987 - val_loss: 0.1022 - val_accuracy: 0.9959\n",
      "Epoch 44/100\n",
      "49/49 [==============================] - 0s 2ms/step - loss: 0.0854 - accuracy: 0.9987 - val_loss: 0.0995 - val_accuracy: 0.9959\n",
      "Epoch 45/100\n",
      "49/49 [==============================] - 0s 2ms/step - loss: 0.0828 - accuracy: 0.9987 - val_loss: 0.0967 - val_accuracy: 0.9959\n",
      "Epoch 46/100\n",
      "49/49 [==============================] - 0s 2ms/step - loss: 0.0803 - accuracy: 0.9987 - val_loss: 0.0942 - val_accuracy: 0.9959\n",
      "Epoch 47/100\n",
      "49/49 [==============================] - 0s 2ms/step - loss: 0.0779 - accuracy: 0.9987 - val_loss: 0.0918 - val_accuracy: 0.9959\n",
      "Epoch 48/100\n",
      "49/49 [==============================] - 0s 2ms/step - loss: 0.0756 - accuracy: 0.9987 - val_loss: 0.0895 - val_accuracy: 0.9959\n",
      "Epoch 49/100\n",
      "49/49 [==============================] - 0s 2ms/step - loss: 0.0734 - accuracy: 0.9987 - val_loss: 0.0873 - val_accuracy: 0.9959\n",
      "Epoch 50/100\n",
      "49/49 [==============================] - 0s 2ms/step - loss: 0.0713 - accuracy: 0.9987 - val_loss: 0.0851 - val_accuracy: 0.9959\n",
      "Epoch 51/100\n",
      "49/49 [==============================] - 0s 2ms/step - loss: 0.0693 - accuracy: 0.9987 - val_loss: 0.0831 - val_accuracy: 0.9959\n",
      "Epoch 52/100\n",
      "49/49 [==============================] - 0s 2ms/step - loss: 0.0673 - accuracy: 0.9987 - val_loss: 0.0811 - val_accuracy: 0.9959\n",
      "Epoch 53/100\n",
      "49/49 [==============================] - 0s 2ms/step - loss: 0.0655 - accuracy: 0.9987 - val_loss: 0.0792 - val_accuracy: 0.9959\n",
      "Epoch 54/100\n",
      "49/49 [==============================] - 0s 2ms/step - loss: 0.0637 - accuracy: 0.9987 - val_loss: 0.0774 - val_accuracy: 0.9959\n",
      "Epoch 55/100\n",
      "49/49 [==============================] - 0s 2ms/step - loss: 0.0620 - accuracy: 0.9987 - val_loss: 0.0756 - val_accuracy: 0.9959\n",
      "Epoch 56/100\n",
      "49/49 [==============================] - 0s 2ms/step - loss: 0.0603 - accuracy: 0.9987 - val_loss: 0.0739 - val_accuracy: 0.9959\n",
      "Epoch 57/100\n",
      "49/49 [==============================] - 0s 2ms/step - loss: 0.0587 - accuracy: 0.9987 - val_loss: 0.0722 - val_accuracy: 0.9959\n",
      "Epoch 58/100\n",
      "49/49 [==============================] - 0s 2ms/step - loss: 0.0572 - accuracy: 0.9987 - val_loss: 0.0707 - val_accuracy: 0.9959\n",
      "Epoch 59/100\n",
      "49/49 [==============================] - 0s 2ms/step - loss: 0.0557 - accuracy: 0.9987 - val_loss: 0.0692 - val_accuracy: 0.9959\n",
      "Epoch 60/100\n",
      "49/49 [==============================] - 0s 2ms/step - loss: 0.0543 - accuracy: 0.9987 - val_loss: 0.0677 - val_accuracy: 0.9959\n",
      "Epoch 61/100\n",
      "49/49 [==============================] - 0s 2ms/step - loss: 0.0529 - accuracy: 0.9987 - val_loss: 0.0663 - val_accuracy: 0.9959\n",
      "Epoch 62/100\n",
      "49/49 [==============================] - 0s 2ms/step - loss: 0.0516 - accuracy: 0.9987 - val_loss: 0.0649 - val_accuracy: 0.9959\n",
      "Epoch 63/100\n",
      "49/49 [==============================] - 0s 2ms/step - loss: 0.0503 - accuracy: 0.9987 - val_loss: 0.0636 - val_accuracy: 0.9959\n",
      "Epoch 64/100\n",
      "49/49 [==============================] - 0s 2ms/step - loss: 0.0491 - accuracy: 0.9987 - val_loss: 0.0623 - val_accuracy: 0.9959\n",
      "Epoch 65/100\n",
      "49/49 [==============================] - 0s 2ms/step - loss: 0.0479 - accuracy: 0.9987 - val_loss: 0.0611 - val_accuracy: 0.9959\n",
      "Epoch 66/100\n",
      "49/49 [==============================] - 0s 2ms/step - loss: 0.0468 - accuracy: 0.9987 - val_loss: 0.0599 - val_accuracy: 0.9959\n",
      "Epoch 67/100\n",
      "49/49 [==============================] - 0s 2ms/step - loss: 0.0457 - accuracy: 0.9987 - val_loss: 0.0587 - val_accuracy: 0.9959\n",
      "Epoch 68/100\n",
      "49/49 [==============================] - 0s 2ms/step - loss: 0.0446 - accuracy: 0.9987 - val_loss: 0.0576 - val_accuracy: 0.9959\n",
      "Epoch 69/100\n",
      "49/49 [==============================] - 0s 2ms/step - loss: 0.0436 - accuracy: 0.9987 - val_loss: 0.0565 - val_accuracy: 0.9959\n",
      "Epoch 70/100\n",
      "49/49 [==============================] - 0s 2ms/step - loss: 0.0426 - accuracy: 0.9987 - val_loss: 0.0555 - val_accuracy: 0.9959\n",
      "Epoch 71/100\n",
      "49/49 [==============================] - 0s 2ms/step - loss: 0.0416 - accuracy: 0.9987 - val_loss: 0.0545 - val_accuracy: 0.9959\n",
      "Epoch 72/100\n",
      "49/49 [==============================] - 0s 2ms/step - loss: 0.0407 - accuracy: 0.9987 - val_loss: 0.0535 - val_accuracy: 0.9959\n",
      "Epoch 73/100\n",
      "49/49 [==============================] - 0s 2ms/step - loss: 0.0398 - accuracy: 0.9987 - val_loss: 0.0525 - val_accuracy: 0.9959\n",
      "Epoch 74/100\n",
      "49/49 [==============================] - 0s 2ms/step - loss: 0.0389 - accuracy: 0.9987 - val_loss: 0.0516 - val_accuracy: 0.9959\n",
      "Epoch 75/100\n",
      "49/49 [==============================] - 0s 2ms/step - loss: 0.0381 - accuracy: 0.9987 - val_loss: 0.0507 - val_accuracy: 0.9959\n",
      "Epoch 76/100\n",
      "49/49 [==============================] - 0s 2ms/step - loss: 0.0372 - accuracy: 0.9987 - val_loss: 0.0498 - val_accuracy: 0.9959\n",
      "Epoch 77/100\n",
      "49/49 [==============================] - 0s 2ms/step - loss: 0.0364 - accuracy: 0.9987 - val_loss: 0.0489 - val_accuracy: 0.9959\n",
      "Epoch 78/100\n",
      "49/49 [==============================] - 0s 2ms/step - loss: 0.0357 - accuracy: 0.9987 - val_loss: 0.0481 - val_accuracy: 0.9959\n",
      "Epoch 79/100\n",
      "49/49 [==============================] - 0s 2ms/step - loss: 0.0349 - accuracy: 0.9987 - val_loss: 0.0473 - val_accuracy: 0.9959\n",
      "Epoch 80/100\n",
      "49/49 [==============================] - 0s 2ms/step - loss: 0.0342 - accuracy: 0.9987 - val_loss: 0.0465 - val_accuracy: 0.9959\n",
      "Epoch 81/100\n",
      "49/49 [==============================] - 0s 2ms/step - loss: 0.0335 - accuracy: 0.9987 - val_loss: 0.0458 - val_accuracy: 0.9959\n",
      "Epoch 82/100\n",
      "49/49 [==============================] - 0s 2ms/step - loss: 0.0328 - accuracy: 0.9987 - val_loss: 0.0450 - val_accuracy: 0.9959\n",
      "Epoch 83/100\n",
      "49/49 [==============================] - 0s 2ms/step - loss: 0.0322 - accuracy: 0.9987 - val_loss: 0.0443 - val_accuracy: 0.9959\n",
      "Epoch 84/100\n",
      "49/49 [==============================] - 0s 2ms/step - loss: 0.0315 - accuracy: 0.9987 - val_loss: 0.0436 - val_accuracy: 0.9959\n",
      "Epoch 85/100\n",
      "49/49 [==============================] - 0s 2ms/step - loss: 0.0309 - accuracy: 0.9987 - val_loss: 0.0430 - val_accuracy: 0.9959\n",
      "Epoch 86/100\n",
      "49/49 [==============================] - 0s 2ms/step - loss: 0.0303 - accuracy: 0.9987 - val_loss: 0.0423 - val_accuracy: 0.9959\n",
      "Epoch 87/100\n",
      "49/49 [==============================] - 0s 2ms/step - loss: 0.0297 - accuracy: 0.9987 - val_loss: 0.0417 - val_accuracy: 0.9959\n",
      "Epoch 88/100\n",
      "49/49 [==============================] - 0s 2ms/step - loss: 0.0292 - accuracy: 0.9987 - val_loss: 0.0410 - val_accuracy: 0.9959\n",
      "Epoch 89/100\n",
      "49/49 [==============================] - 0s 2ms/step - loss: 0.0286 - accuracy: 0.9987 - val_loss: 0.0404 - val_accuracy: 0.9959\n",
      "Epoch 90/100\n",
      "49/49 [==============================] - 0s 2ms/step - loss: 0.0281 - accuracy: 0.9987 - val_loss: 0.0399 - val_accuracy: 0.9959\n",
      "Epoch 91/100\n",
      "49/49 [==============================] - 0s 2ms/step - loss: 0.0276 - accuracy: 0.9987 - val_loss: 0.0393 - val_accuracy: 0.9959\n",
      "Epoch 92/100\n",
      "49/49 [==============================] - 0s 2ms/step - loss: 0.0271 - accuracy: 0.9987 - val_loss: 0.0387 - val_accuracy: 0.9959\n",
      "Epoch 93/100\n",
      "49/49 [==============================] - 0s 2ms/step - loss: 0.0266 - accuracy: 0.9987 - val_loss: 0.0382 - val_accuracy: 0.9959\n",
      "Epoch 94/100\n",
      "49/49 [==============================] - 0s 2ms/step - loss: 0.0261 - accuracy: 0.9987 - val_loss: 0.0376 - val_accuracy: 0.9959\n",
      "Epoch 95/100\n",
      "49/49 [==============================] - 0s 2ms/step - loss: 0.0256 - accuracy: 0.9987 - val_loss: 0.0371 - val_accuracy: 0.9959\n",
      "Epoch 96/100\n",
      "49/49 [==============================] - 0s 2ms/step - loss: 0.0252 - accuracy: 0.9987 - val_loss: 0.0366 - val_accuracy: 0.9959\n",
      "Epoch 97/100\n",
      "49/49 [==============================] - 0s 2ms/step - loss: 0.0248 - accuracy: 0.9987 - val_loss: 0.0361 - val_accuracy: 0.9959\n",
      "Epoch 98/100\n",
      "49/49 [==============================] - 0s 2ms/step - loss: 0.0243 - accuracy: 0.9987 - val_loss: 0.0356 - val_accuracy: 0.9959\n",
      "Epoch 99/100\n",
      "49/49 [==============================] - 0s 2ms/step - loss: 0.0239 - accuracy: 0.9987 - val_loss: 0.0351 - val_accuracy: 0.9959\n",
      "Epoch 100/100\n",
      "49/49 [==============================] - 0s 2ms/step - loss: 0.0235 - accuracy: 0.9987 - val_loss: 0.0347 - val_accuracy: 0.9959\n"
     ]
    },
    {
     "data": {
      "text/plain": [
       "<keras.callbacks.History at 0x7f6a86320c40>"
      ]
     },
     "execution_count": 171,
     "metadata": {},
     "output_type": "execute_result"
    }
   ],
   "source": [
    "# classifier that computes the class of a specific embedding for prediction purposes\n",
    "classifier_input = Input(shape=(2,))\n",
    "classifier_output = Dense(2, activation='softmax')(classifier_input)\n",
    "classifier_model = Model(classifier_input, classifier_output)\n",
    "\n",
    "# onehot encoding vectors to 2 classes\n",
    "Y_train_onehot = np_utils.to_categorical(y_train_class, 2)\n",
    "Y_test_onehot = np_utils.to_categorical(y_test_class, 2)\n",
    "\n",
    "classifier_model.compile(optimizer='adam',loss='categorical_crossentropy',metrics=['accuracy'])\n",
    "classifier_model.fit(X_train_eval,Y_train_onehot, validation_data=(X_test_eval, Y_test_onehot),epochs=100)"
   ]
  },
  {
   "cell_type": "code",
   "execution_count": 172,
   "id": "aa8dafaf",
   "metadata": {},
   "outputs": [
    {
     "name": "stdout",
     "output_type": "stream",
     "text": [
      "Classification report on validation data \n",
      "               precision    recall  f1-score   support\n",
      "\n",
      "           0     0.9913    1.0000    0.9957       229\n",
      "           1     1.0000    0.9922    0.9961       255\n",
      "\n",
      "    accuracy                         0.9959       484\n",
      "   macro avg     0.9957    0.9961    0.9959       484\n",
      "weighted avg     0.9959    0.9959    0.9959       484\n",
      "\n"
     ]
    }
   ],
   "source": [
    "\n",
    "input = X_test_eval\n",
    "y_pred = classifier_model.predict(input)\n",
    "y_pred=np.argmax(y_pred, axis=1)\n",
    "y_test = np.argmax(Y_test_onehot,axis = 1)\n",
    "print(\"Classification report on validation data \\n\",classification_report(y_test, y_pred, digits=4))\n",
    "\n"
   ]
  },
  {
   "cell_type": "code",
   "execution_count": 173,
   "id": "0910b1d9-8a2c-4559-a36f-cdbebcf8fa42",
   "metadata": {},
   "outputs": [],
   "source": [
    "df_test = pd.DataFrame(columns=['text', 'label', 'stance'])\n",
    "\n",
    "for target in ['Donald Trump','Hillary Clinton']:\n",
    "    \n",
    "    with open(test_data_file_m, 'r') as testfile:\n",
    "        for line in testfile:\n",
    "            line = line.replace('#SemST', '').strip()\n",
    "            line = line.split('\\t')\n",
    "            if line[0].strip() != 'ID' and target in line[1].strip():\n",
    "                tweet = line[2]\n",
    "                df_test.loc[len(df_test)] = [str(tweet),0, line[3]]"
   ]
  },
  {
   "cell_type": "code",
   "execution_count": 174,
   "id": "38edcd0b-bf09-457b-a493-d4f9da213a28",
   "metadata": {},
   "outputs": [
    {
     "data": {
      "text/html": [
       "<div>\n",
       "<style scoped>\n",
       "    .dataframe tbody tr th:only-of-type {\n",
       "        vertical-align: middle;\n",
       "    }\n",
       "\n",
       "    .dataframe tbody tr th {\n",
       "        vertical-align: top;\n",
       "    }\n",
       "\n",
       "    .dataframe thead th {\n",
       "        text-align: right;\n",
       "    }\n",
       "</style>\n",
       "<table border=\"1\" class=\"dataframe\">\n",
       "  <thead>\n",
       "    <tr style=\"text-align: right;\">\n",
       "      <th></th>\n",
       "      <th>text</th>\n",
       "      <th>label</th>\n",
       "      <th>stance</th>\n",
       "    </tr>\n",
       "  </thead>\n",
       "  <tbody>\n",
       "    <tr>\n",
       "      <th>0</th>\n",
       "      <td>@chriswallace There may be 2000 nutjobs of tha...</td>\n",
       "      <td>0</td>\n",
       "      <td>NONE</td>\n",
       "    </tr>\n",
       "    <tr>\n",
       "      <th>1</th>\n",
       "      <td>@realDonaldTrump u talk a big bigoted talk &amp; y...</td>\n",
       "      <td>0</td>\n",
       "      <td>AGAINST</td>\n",
       "    </tr>\n",
       "    <tr>\n",
       "      <th>2</th>\n",
       "      <td>@ac360 @ananavarro @andersoncooper #AC360 HECK...</td>\n",
       "      <td>0</td>\n",
       "      <td>FAVOR</td>\n",
       "    </tr>\n",
       "    <tr>\n",
       "      <th>3</th>\n",
       "      <td>Watching what Donald Trump said about Mexicans...</td>\n",
       "      <td>0</td>\n",
       "      <td>AGAINST</td>\n",
       "    </tr>\n",
       "    <tr>\n",
       "      <th>4</th>\n",
       "      <td>\"Are people deaf to the word illegal? I'm all ...</td>\n",
       "      <td>0</td>\n",
       "      <td>NONE</td>\n",
       "    </tr>\n",
       "    <tr>\n",
       "      <th>...</th>\n",
       "      <td>...</td>\n",
       "      <td>...</td>\n",
       "      <td>...</td>\n",
       "    </tr>\n",
       "    <tr>\n",
       "      <th>467</th>\n",
       "      <td>.@HillaryClinton Looking 4ward 2 hearing your ...</td>\n",
       "      <td>0</td>\n",
       "      <td>FAVOR</td>\n",
       "    </tr>\n",
       "    <tr>\n",
       "      <th>468</th>\n",
       "      <td>@mataharikrishna I'm loving it too! Draw that ...</td>\n",
       "      <td>0</td>\n",
       "      <td>NONE</td>\n",
       "    </tr>\n",
       "    <tr>\n",
       "      <th>469</th>\n",
       "      <td>@finneyk Can't stand @msnbc anymore, but hope ...</td>\n",
       "      <td>0</td>\n",
       "      <td>FAVOR</td>\n",
       "    </tr>\n",
       "    <tr>\n",
       "      <th>470</th>\n",
       "      <td>Hillary can't create jobs! Last time she had a...</td>\n",
       "      <td>0</td>\n",
       "      <td>AGAINST</td>\n",
       "    </tr>\n",
       "    <tr>\n",
       "      <th>471</th>\n",
       "      <td>It's amazing to me how if you want a secure bo...</td>\n",
       "      <td>0</td>\n",
       "      <td>NONE</td>\n",
       "    </tr>\n",
       "  </tbody>\n",
       "</table>\n",
       "<p>472 rows × 3 columns</p>\n",
       "</div>"
      ],
      "text/plain": [
       "                                                  text label   stance\n",
       "0    @chriswallace There may be 2000 nutjobs of tha...     0     NONE\n",
       "1    @realDonaldTrump u talk a big bigoted talk & y...     0  AGAINST\n",
       "2    @ac360 @ananavarro @andersoncooper #AC360 HECK...     0    FAVOR\n",
       "3    Watching what Donald Trump said about Mexicans...     0  AGAINST\n",
       "4    \"Are people deaf to the word illegal? I'm all ...     0     NONE\n",
       "..                                                 ...   ...      ...\n",
       "467  .@HillaryClinton Looking 4ward 2 hearing your ...     0    FAVOR\n",
       "468  @mataharikrishna I'm loving it too! Draw that ...     0     NONE\n",
       "469  @finneyk Can't stand @msnbc anymore, but hope ...     0    FAVOR\n",
       "470  Hillary can't create jobs! Last time she had a...     0  AGAINST\n",
       "471  It's amazing to me how if you want a secure bo...     0     NONE\n",
       "\n",
       "[472 rows x 3 columns]"
      ]
     },
     "execution_count": 174,
     "metadata": {},
     "output_type": "execute_result"
    }
   ],
   "source": [
    "df_test"
   ]
  },
  {
   "cell_type": "code",
   "execution_count": 175,
   "id": "da4fa5d7-a7f1-4cd2-aee5-f2ed61013b3e",
   "metadata": {},
   "outputs": [
    {
     "data": {
      "text/html": [
       "<div>\n",
       "<style scoped>\n",
       "    .dataframe tbody tr th:only-of-type {\n",
       "        vertical-align: middle;\n",
       "    }\n",
       "\n",
       "    .dataframe tbody tr th {\n",
       "        vertical-align: top;\n",
       "    }\n",
       "\n",
       "    .dataframe thead th {\n",
       "        text-align: right;\n",
       "    }\n",
       "</style>\n",
       "<table border=\"1\" class=\"dataframe\">\n",
       "  <thead>\n",
       "    <tr style=\"text-align: right;\">\n",
       "      <th></th>\n",
       "      <th>text</th>\n",
       "      <th>label</th>\n",
       "      <th>stance</th>\n",
       "    </tr>\n",
       "  </thead>\n",
       "  <tbody>\n",
       "    <tr>\n",
       "      <th>0</th>\n",
       "      <td>@chriswallace There may be 2000 nutjobs of tha...</td>\n",
       "      <td>0</td>\n",
       "      <td>NONE</td>\n",
       "    </tr>\n",
       "    <tr>\n",
       "      <th>1</th>\n",
       "      <td>@realDonaldTrump u talk a big bigoted talk &amp; y...</td>\n",
       "      <td>0</td>\n",
       "      <td>AGAINST</td>\n",
       "    </tr>\n",
       "    <tr>\n",
       "      <th>2</th>\n",
       "      <td>@ac360 @ananavarro @andersoncooper #AC360 HECK...</td>\n",
       "      <td>0</td>\n",
       "      <td>FAVOR</td>\n",
       "    </tr>\n",
       "    <tr>\n",
       "      <th>3</th>\n",
       "      <td>Watching what Donald Trump said about Mexicans...</td>\n",
       "      <td>0</td>\n",
       "      <td>AGAINST</td>\n",
       "    </tr>\n",
       "    <tr>\n",
       "      <th>4</th>\n",
       "      <td>\"Are people deaf to the word illegal? I'm all ...</td>\n",
       "      <td>0</td>\n",
       "      <td>NONE</td>\n",
       "    </tr>\n",
       "    <tr>\n",
       "      <th>...</th>\n",
       "      <td>...</td>\n",
       "      <td>...</td>\n",
       "      <td>...</td>\n",
       "    </tr>\n",
       "    <tr>\n",
       "      <th>1595</th>\n",
       "      <td>Disney CEO Bob Iger To Reportedly Stay On To H...</td>\n",
       "      <td>1</td>\n",
       "      <td>comment</td>\n",
       "    </tr>\n",
       "    <tr>\n",
       "      <th>1596</th>\n",
       "      <td>If the Disney/Fox deal goes through, #Collider...</td>\n",
       "      <td>1</td>\n",
       "      <td>comment</td>\n",
       "    </tr>\n",
       "    <tr>\n",
       "      <th>1597</th>\n",
       "      <td>Check out CHILDRENS , VHS TAPES  LOT OF 26, In...</td>\n",
       "      <td>1</td>\n",
       "      <td>unrelated</td>\n",
       "    </tr>\n",
       "    <tr>\n",
       "      <th>1598</th>\n",
       "      <td>@SpencerMemes If Disney buys some of  Fox that...</td>\n",
       "      <td>1</td>\n",
       "      <td>comment</td>\n",
       "    </tr>\n",
       "    <tr>\n",
       "      <th>1599</th>\n",
       "      <td>Disney &amp;amp; Fox Deal Discussions Rumored to B...</td>\n",
       "      <td>1</td>\n",
       "      <td>support</td>\n",
       "    </tr>\n",
       "  </tbody>\n",
       "</table>\n",
       "<p>872 rows × 3 columns</p>\n",
       "</div>"
      ],
      "text/plain": [
       "                                                   text label     stance\n",
       "0     @chriswallace There may be 2000 nutjobs of tha...     0       NONE\n",
       "1     @realDonaldTrump u talk a big bigoted talk & y...     0    AGAINST\n",
       "2     @ac360 @ananavarro @andersoncooper #AC360 HECK...     0      FAVOR\n",
       "3     Watching what Donald Trump said about Mexicans...     0    AGAINST\n",
       "4     \"Are people deaf to the word illegal? I'm all ...     0       NONE\n",
       "...                                                 ...   ...        ...\n",
       "1595  Disney CEO Bob Iger To Reportedly Stay On To H...     1    comment\n",
       "1596  If the Disney/Fox deal goes through, #Collider...     1    comment\n",
       "1597  Check out CHILDRENS , VHS TAPES  LOT OF 26, In...     1  unrelated\n",
       "1598  @SpencerMemes If Disney buys some of  Fox that...     1    comment\n",
       "1599  Disney &amp; Fox Deal Discussions Rumored to B...     1    support\n",
       "\n",
       "[872 rows x 3 columns]"
      ]
     },
     "execution_count": 175,
     "metadata": {},
     "output_type": "execute_result"
    }
   ],
   "source": [
    "df_test_2 = pd.DataFrame()\n",
    "df_a = df_ent_train[df_ent_train['target'] == 'FOXA_DIS'][1200:1600]\n",
    "\n",
    "df_test_new = pd.DataFrame(columns=['text', 'label', 'stance'])\n",
    "df_test_new['text'] = df_a['tweet']\n",
    "df_test_new['label'] = 1\n",
    "df_test_new['stance'] = df_a['stance']\n",
    "\n",
    "df_test = df_test.append(df_test_new)\n",
    "df_test"
   ]
  },
  {
   "cell_type": "code",
   "execution_count": 122,
   "id": "a01918d3-873d-465d-b6a1-499dd9190f01",
   "metadata": {},
   "outputs": [
    {
     "data": {
      "text/plain": [
       "array(['AET_HUM', 'ANTM_CI', 'CI_ESRX', 'CVS_AET'], dtype=object)"
      ]
     },
     "execution_count": 122,
     "metadata": {},
     "output_type": "execute_result"
    }
   ],
   "source": [
    "# np.unique(df_hlt_train['target'])"
   ]
  },
  {
   "cell_type": "code",
   "execution_count": 176,
   "id": "85442232-8d04-4f9e-97b8-f1adbc4e443e",
   "metadata": {},
   "outputs": [],
   "source": [
    "# df_test_2 = pd.DataFrame()\n",
    "# df_a = df_hlt_train[df_hlt_train['target'] == 'AET_HUM'][300:400]\n",
    "# df_b = df_hlt_train[df_hlt_train['target'] == 'ANTM_CI'][300:400]\n",
    "# df_c = df_hlt_train[df_hlt_train['target'] == 'CI_ESRX'][300:400]\n",
    "# df_d = df_hlt_train[df_hlt_train['target'] == 'CVS_AET'][300:400]\n",
    "\n",
    "# df_test_2 = df_test_2.append(df_a, ignore_index=True)\n",
    "# df_test_2 = df_test_2.append(df_b, ignore_index=True)\n",
    "# df_test_2 = df_test_2.append(df_c, ignore_index=True)\n",
    "# df_test_2 = df_test_2.append(df_d, ignore_index=True)\n",
    "# df_test_new = pd.DataFrame(columns=['text', 'label', 'stance'])\n",
    "# df_test_new['text'] = df_test_2['tweet']\n",
    "# df_test_new['label'] = 1\n",
    "# df_test_new['stance'] = df_test_2['stance']\n",
    "\n",
    "# df_test = df_test.append(df_test_new)\n",
    "# df_test"
   ]
  },
  {
   "cell_type": "code",
   "execution_count": 177,
   "id": "31756d70-6dce-4d6e-a533-574a28b586a8",
   "metadata": {},
   "outputs": [
    {
     "ename": "SyntaxError",
     "evalue": "invalid syntax (3375635915.py, line 1)",
     "output_type": "error",
     "traceback": [
      "\u001b[0;36m  File \u001b[0;32m\"/tmp/ipykernel_77682/3375635915.py\"\u001b[0;36m, line \u001b[0;32m1\u001b[0m\n\u001b[0;31m    here---\u001b[0m\n\u001b[0m           ^\u001b[0m\n\u001b[0;31mSyntaxError\u001b[0m\u001b[0;31m:\u001b[0m invalid syntax\n"
     ]
    }
   ],
   "source": [
    "here---"
   ]
  },
  {
   "cell_type": "code",
   "execution_count": 178,
   "id": "2156e31f",
   "metadata": {},
   "outputs": [],
   "source": [
    "\n",
    "\n",
    "    \n",
    "df_test['clean_text'] = df_test['text'].apply(lambda x: remove_url(str(x)))\n",
    "df_test['clean_text'] = df_test['clean_text'].apply(lambda x: remove_emoji(str(x)))\n",
    "df_test['clean_text'] = df_test['clean_text'].apply(lambda x: remove_html(str(x)))\n",
    "df_test['clean_text'] = df_test['clean_text'].apply(lambda x: remove_punct(str(x)))\n",
    "df_test['clean_text'] = df_test['clean_text'].apply(word_tokenize)\n",
    "df_test['clean_text'] = df_test['clean_text'].apply(lambda x: [word.lower() for word in x])\n",
    "df_test['clean_text'] = df_test['clean_text'].apply(lambda x: [word for word in x if word not in stop])\n",
    "df_test['clean_text'] = df_test['clean_text'].apply(nltk.tag.pos_tag)\n",
    "\n",
    "def get_wordnet_pos(tag):\n",
    "    if tag.startswith('J'):\n",
    "        return wordnet.ADJ\n",
    "    elif tag.startswith('V'):\n",
    "        return wordnet.VERB\n",
    "    elif tag.startswith('N'):\n",
    "        return wordnet.NOUN\n",
    "    elif tag.startswith('R'):\n",
    "        return wordnet.ADV\n",
    "    else:\n",
    "        return wordnet.NOUN\n",
    "    \n",
    "df_test['clean_text'] = df_test['clean_text'].apply(\n",
    "    lambda x: [(word, get_wordnet_pos(pos_tag)) for (word, pos_tag) in x])\n",
    "wnl = WordNetLemmatizer()\n",
    "df_test['clean_text'] = df_test['clean_text'].apply(\n",
    "    lambda x: [wnl.lemmatize(word, tag) for word, tag in x])\n",
    "df_test['clean_text'] = df_test['clean_text'].apply(\n",
    "    lambda x: [word for word in x if word not in stop])\n",
    "df_test['clean_text'] = [' '.join(map(str, l)) for l in df_test['clean_text']]"
   ]
  },
  {
   "cell_type": "code",
   "execution_count": 179,
   "id": "2614ac42",
   "metadata": {},
   "outputs": [
    {
     "name": "stdout",
     "output_type": "stream",
     "text": [
      "\n",
      "Classification report on Test data \n",
      "               precision    recall  f1-score   support\n",
      "\n",
      "           0     0.9812    0.9958    0.9884       472\n",
      "           1     0.9949    0.9775    0.9861       400\n",
      "\n",
      "    accuracy                         0.9874       872\n",
      "   macro avg     0.9881    0.9866    0.9873       872\n",
      "weighted avg     0.9875    0.9874    0.9874       872\n",
      "\n"
     ]
    }
   ],
   "source": [
    "df_test['clean_text'] = df_test['clean_text'].astype(str)\n",
    "y_q1_seq = t.texts_to_sequences(df_test['clean_text'].values)\n",
    "\n",
    "\n",
    "y_q1_seq = pad_sequences(y_q1_seq, maxlen=max_len, padding='post')\n",
    "y_test_eval = base_model.predict(y_q1_seq)\n",
    "\n",
    "input_2 = y_test_eval\n",
    "y_pred_2 = classifier_model.predict(input_2)\n",
    "\n",
    "y2_test_class = np.asarray(df_test['label']).astype('float32')\n",
    "y2_test_onehot = np_utils.to_categorical(y2_test_class, 2)\n",
    "\n",
    "y_pred_2=np.argmax(y_pred_2, axis=1)\n",
    "y_test_2 = np.argmax(y2_test_onehot,axis = 1)\n",
    "print(\"\")\n",
    "print(\"Classification report on Test data \\n\",classification_report(y_test_2, y_pred_2, digits=4))"
   ]
  },
  {
   "cell_type": "code",
   "execution_count": null,
   "id": "f352a8f0",
   "metadata": {},
   "outputs": [],
   "source": []
  },
  {
   "cell_type": "code",
   "execution_count": null,
   "id": "b2d63e44",
   "metadata": {},
   "outputs": [],
   "source": []
  },
  {
   "cell_type": "code",
   "execution_count": null,
   "id": "1b2e8c43",
   "metadata": {},
   "outputs": [],
   "source": []
  },
  {
   "cell_type": "code",
   "execution_count": null,
   "id": "f288c20d-1cac-4160-aa4e-fbb7f8b42c1f",
   "metadata": {},
   "outputs": [],
   "source": []
  },
  {
   "cell_type": "code",
   "execution_count": null,
   "id": "6bac4379",
   "metadata": {},
   "outputs": [],
   "source": []
  },
  {
   "cell_type": "code",
   "execution_count": null,
   "id": "d9d31daf-26df-46ea-8bb8-ce70182afbd8",
   "metadata": {},
   "outputs": [],
   "source": []
  },
  {
   "cell_type": "code",
   "execution_count": null,
   "id": "d02a5278",
   "metadata": {},
   "outputs": [],
   "source": []
  },
  {
   "cell_type": "code",
   "execution_count": null,
   "id": "ad824d7d",
   "metadata": {},
   "outputs": [],
   "source": []
  },
  {
   "cell_type": "code",
   "execution_count": null,
   "id": "b13766df",
   "metadata": {},
   "outputs": [],
   "source": []
  },
  {
   "cell_type": "markdown",
   "id": "68204cb4",
   "metadata": {},
   "source": [
    "# predicting above model on other target and getting that data"
   ]
  },
  {
   "cell_type": "code",
   "execution_count": 180,
   "id": "09df8135-d10d-47ea-8dc7-a8bdedcce653",
   "metadata": {},
   "outputs": [
    {
     "name": "stdout",
     "output_type": "stream",
     "text": [
      "22101\n"
     ]
    }
   ],
   "source": [
    "print(len(df_hlt_train))"
   ]
  },
  {
   "cell_type": "code",
   "execution_count": 181,
   "id": "970a9ec7",
   "metadata": {},
   "outputs": [],
   "source": [
    "# df_oth = pd.DataFrame(columns=['text', 'label', 'stance'])\n",
    "\n",
    "df_oth = pd.DataFrame()\n",
    "#df_oth['text'] = df_ent_train['tweet']\n",
    "df_oth['text'] = df_hlt_train['tweet']\n",
    "df_oth['label'] = \"NA\"\n",
    "#df_oth['stance'] = df_ent_train['stance']\n",
    "df_oth['stance'] = df_hlt_train['stance']\n"
   ]
  },
  {
   "cell_type": "code",
   "execution_count": 182,
   "id": "25522757",
   "metadata": {},
   "outputs": [
    {
     "data": {
      "text/html": [
       "<div>\n",
       "<style scoped>\n",
       "    .dataframe tbody tr th:only-of-type {\n",
       "        vertical-align: middle;\n",
       "    }\n",
       "\n",
       "    .dataframe tbody tr th {\n",
       "        vertical-align: top;\n",
       "    }\n",
       "\n",
       "    .dataframe thead th {\n",
       "        text-align: right;\n",
       "    }\n",
       "</style>\n",
       "<table border=\"1\" class=\"dataframe\">\n",
       "  <thead>\n",
       "    <tr style=\"text-align: right;\">\n",
       "      <th></th>\n",
       "      <th>text</th>\n",
       "      <th>label</th>\n",
       "      <th>stance</th>\n",
       "    </tr>\n",
       "  </thead>\n",
       "  <tbody>\n",
       "    <tr>\n",
       "      <th>0</th>\n",
       "      <td>Deals , deals and more ...CVS buying Aetna for...</td>\n",
       "      <td>NA</td>\n",
       "      <td>support</td>\n",
       "    </tr>\n",
       "    <tr>\n",
       "      <th>1</th>\n",
       "      <td>Do investigating all the Chinese hacks: OPM wh...</td>\n",
       "      <td>NA</td>\n",
       "      <td>unrelated</td>\n",
       "    </tr>\n",
       "    <tr>\n",
       "      <th>2</th>\n",
       "      <td>INVESTMENT NEWS Zacks Industry Outlook Highlig...</td>\n",
       "      <td>NA</td>\n",
       "      <td>unrelated</td>\n",
       "    </tr>\n",
       "    <tr>\n",
       "      <th>3</th>\n",
       "      <td>#TSXVenture #stocks: #Merger #Acquisition: Ant...</td>\n",
       "      <td>NA</td>\n",
       "      <td>unrelated</td>\n",
       "    </tr>\n",
       "    <tr>\n",
       "      <th>4</th>\n",
       "      <td>#NTT #NipponTelegraph &amp;amp; #Telephone Corpora...</td>\n",
       "      <td>NA</td>\n",
       "      <td>unrelated</td>\n",
       "    </tr>\n",
       "    <tr>\n",
       "      <th>...</th>\n",
       "      <td>...</td>\n",
       "      <td>...</td>\n",
       "      <td>...</td>\n",
       "    </tr>\n",
       "    <tr>\n",
       "      <th>22096</th>\n",
       "      <td>Recent industry milestones like #Amazon, #Berk...</td>\n",
       "      <td>NA</td>\n",
       "      <td>comment</td>\n",
       "    </tr>\n",
       "    <tr>\n",
       "      <th>22097</th>\n",
       "      <td>How the CVS, Aetna Deal Will Overhaul Healthca...</td>\n",
       "      <td>NA</td>\n",
       "      <td>comment</td>\n",
       "    </tr>\n",
       "    <tr>\n",
       "      <th>22098</th>\n",
       "      <td>@berthacoombs Obama and DOJ must decide if the...</td>\n",
       "      <td>NA</td>\n",
       "      <td>comment</td>\n",
       "    </tr>\n",
       "    <tr>\n",
       "      <th>22099</th>\n",
       "      <td>Part ANIMA HUMANA: What is A listing Contract?...</td>\n",
       "      <td>NA</td>\n",
       "      <td>unrelated</td>\n",
       "    </tr>\n",
       "    <tr>\n",
       "      <th>22100</th>\n",
       "      <td>Anthem-Cigna's market doubters have a point ht...</td>\n",
       "      <td>NA</td>\n",
       "      <td>comment</td>\n",
       "    </tr>\n",
       "  </tbody>\n",
       "</table>\n",
       "<p>22101 rows × 3 columns</p>\n",
       "</div>"
      ],
      "text/plain": [
       "                                                    text label     stance\n",
       "0      Deals , deals and more ...CVS buying Aetna for...    NA    support\n",
       "1      Do investigating all the Chinese hacks: OPM wh...    NA  unrelated\n",
       "2      INVESTMENT NEWS Zacks Industry Outlook Highlig...    NA  unrelated\n",
       "3      #TSXVenture #stocks: #Merger #Acquisition: Ant...    NA  unrelated\n",
       "4      #NTT #NipponTelegraph &amp; #Telephone Corpora...    NA  unrelated\n",
       "...                                                  ...   ...        ...\n",
       "22096  Recent industry milestones like #Amazon, #Berk...    NA    comment\n",
       "22097  How the CVS, Aetna Deal Will Overhaul Healthca...    NA    comment\n",
       "22098  @berthacoombs Obama and DOJ must decide if the...    NA    comment\n",
       "22099  Part ANIMA HUMANA: What is A listing Contract?...    NA  unrelated\n",
       "22100  Anthem-Cigna's market doubters have a point ht...    NA    comment\n",
       "\n",
       "[22101 rows x 3 columns]"
      ]
     },
     "execution_count": 182,
     "metadata": {},
     "output_type": "execute_result"
    }
   ],
   "source": [
    "df_oth"
   ]
  },
  {
   "cell_type": "code",
   "execution_count": 183,
   "id": "4ee49ba6",
   "metadata": {},
   "outputs": [],
   "source": [
    "#  with open(train_data_file_m, 'r') as testfile:\n",
    "#         for line in testfile:\n",
    "            \n",
    "#             line = line.replace('#SemST', '').strip()\n",
    "#             line = line.split('\\t')\n",
    "            \n",
    "#             if line[0].strip() != 'ID' and test_on in line[1].strip():\n",
    "#                 tweet = line[2]\n",
    "#                 #print(tweet)\n",
    "#                 df_oth.loc[len(df_oth)] = [str(tweet),'NA',line[3]]\n",
    "                "
   ]
  },
  {
   "cell_type": "code",
   "execution_count": null,
   "id": "4a65a0e0",
   "metadata": {},
   "outputs": [],
   "source": []
  },
  {
   "cell_type": "code",
   "execution_count": 184,
   "id": "bef43359",
   "metadata": {},
   "outputs": [],
   "source": [
    "df_oth['clean_text'] = df_oth['text'].apply(lambda x: remove_url(str(x)))\n",
    "df_oth['clean_text'] = df_oth['clean_text'].apply(lambda x: remove_emoji(str(x)))\n",
    "df_oth['clean_text'] = df_oth['clean_text'].apply(lambda x: remove_html(str(x)))\n",
    "df_oth['clean_text'] = df_oth['clean_text'].apply(lambda x: remove_punct(str(x)))\n",
    "df_oth['clean_text'] = df_oth['clean_text'].apply(word_tokenize)\n",
    "df_oth['clean_text'] = df_oth['clean_text'].apply(lambda x: [word.lower() for word in x])\n",
    "df_oth['clean_text'] = df_oth['clean_text'].apply(lambda x: [word for word in x if word not in stop])\n",
    "df_oth['clean_text'] = df_oth['clean_text'].apply(nltk.tag.pos_tag)\n",
    "\n",
    "def get_wordnet_pos(tag):\n",
    "    if tag.startswith('J'):\n",
    "        return wordnet.ADJ\n",
    "    elif tag.startswith('V'):\n",
    "        return wordnet.VERB\n",
    "    elif tag.startswith('N'):\n",
    "        return wordnet.NOUN\n",
    "    elif tag.startswith('R'):\n",
    "        return wordnet.ADV\n",
    "    else:\n",
    "        return wordnet.NOUN\n",
    "    \n",
    "df_oth['clean_text'] = df_oth['clean_text'].apply(\n",
    "    lambda x: [(word, get_wordnet_pos(pos_tag)) for (word, pos_tag) in x])\n",
    "wnl = WordNetLemmatizer()\n",
    "df_oth['clean_text'] = df_oth['clean_text'].apply(\n",
    "    lambda x: [wnl.lemmatize(word, tag) for word, tag in x])\n",
    "df_oth['clean_text'] = df_oth['clean_text'].apply(\n",
    "    lambda x: [word for word in x if word not in stop])\n",
    "df_oth['clean_text'] = [' '.join(map(str, l)) for l in df_oth['clean_text']]"
   ]
  },
  {
   "cell_type": "code",
   "execution_count": 185,
   "id": "a37f8ca7",
   "metadata": {},
   "outputs": [
    {
     "data": {
      "text/plain": [
       "'comment'"
      ]
     },
     "execution_count": 185,
     "metadata": {},
     "output_type": "execute_result"
    }
   ],
   "source": [
    "df_oth['stance'][5]"
   ]
  },
  {
   "cell_type": "code",
   "execution_count": 186,
   "id": "d23d2b5a",
   "metadata": {},
   "outputs": [],
   "source": [
    "df_oth['clean_text'] = df_oth['clean_text'].astype(str)\n",
    "oth_q1_seq = t.texts_to_sequences(df_oth['clean_text'].values)"
   ]
  },
  {
   "cell_type": "code",
   "execution_count": 187,
   "id": "52b17e7d",
   "metadata": {},
   "outputs": [],
   "source": [
    "oth_q1_seq = pad_sequences(oth_q1_seq, maxlen=max_len, padding='post')\n",
    "oth_test_eval = base_model.predict(oth_q1_seq)"
   ]
  },
  {
   "cell_type": "code",
   "execution_count": 188,
   "id": "8513bbe8",
   "metadata": {},
   "outputs": [],
   "source": [
    "input_3 = oth_test_eval\n",
    "oth_pred_3 = classifier_model.predict(input_3)\n"
   ]
  },
  {
   "cell_type": "code",
   "execution_count": 189,
   "id": "91c15ac2-5048-433b-8c88-ff2114bc37b9",
   "metadata": {},
   "outputs": [
    {
     "data": {
      "text/plain": [
       "array([[0.01769373, 0.9823063 ],\n",
       "       [0.97473735, 0.02526271],\n",
       "       [0.9808865 , 0.01911353],\n",
       "       ...,\n",
       "       [0.12097012, 0.8790299 ],\n",
       "       [0.01264185, 0.9873582 ],\n",
       "       [0.9434776 , 0.05652239]], dtype=float32)"
      ]
     },
     "execution_count": 189,
     "metadata": {},
     "output_type": "execute_result"
    }
   ],
   "source": [
    "oth_pred_3"
   ]
  },
  {
   "cell_type": "code",
   "execution_count": null,
   "id": "077bf2b9-4bf9-45fb-8acc-3716642e2130",
   "metadata": {},
   "outputs": [],
   "source": []
  },
  {
   "cell_type": "code",
   "execution_count": null,
   "id": "302bb6a5-9230-41bb-8f38-d59f1ac15aaf",
   "metadata": {},
   "outputs": [],
   "source": []
  },
  {
   "cell_type": "code",
   "execution_count": 190,
   "id": "934c5b48",
   "metadata": {},
   "outputs": [
    {
     "data": {
      "text/plain": [
       "array([1, 0, 0, ..., 1, 1, 0])"
      ]
     },
     "execution_count": 190,
     "metadata": {},
     "output_type": "execute_result"
    }
   ],
   "source": [
    "oth_pred_4=np.argmax(oth_pred_3, axis=1)\n",
    "oth_pred_4"
   ]
  },
  {
   "cell_type": "code",
   "execution_count": 191,
   "id": "249959d0-cb8a-4010-b92a-aa8f56d93096",
   "metadata": {},
   "outputs": [
    {
     "data": {
      "text/plain": [
       "array([0.01769373, 0.9823063 ], dtype=float32)"
      ]
     },
     "execution_count": 191,
     "metadata": {},
     "output_type": "execute_result"
    }
   ],
   "source": [
    "oth_pred_3[0]"
   ]
  },
  {
   "cell_type": "code",
   "execution_count": 192,
   "id": "a76e5fe5",
   "metadata": {},
   "outputs": [
    {
     "data": {
      "text/plain": [
       "{0: 5645, 1: 16456}"
      ]
     },
     "execution_count": 192,
     "metadata": {},
     "output_type": "execute_result"
    }
   ],
   "source": [
    "unique,count = np.unique(oth_pred_4,return_counts=True)\n",
    "dict(zip(unique, count))"
   ]
  },
  {
   "cell_type": "markdown",
   "id": "b7913f01-aed4-4c9e-8f34-9092a4580d4d",
   "metadata": {
    "tags": []
   },
   "source": [
    "# Change the file name "
   ]
  },
  {
   "cell_type": "code",
   "execution_count": 140,
   "id": "94ed4734-8aaa-4225-b6b6-b6126ae52fb0",
   "metadata": {},
   "outputs": [
    {
     "data": {
      "text/plain": [
       "array([[0.9939083 , 0.00609171],\n",
       "       [0.02480351, 0.9751965 ],\n",
       "       [0.06026034, 0.9397397 ],\n",
       "       ...,\n",
       "       [0.99692506, 0.0030749 ],\n",
       "       [0.06324334, 0.9367567 ],\n",
       "       [0.02469326, 0.9753067 ]], dtype=float32)"
      ]
     },
     "execution_count": 140,
     "metadata": {},
     "output_type": "execute_result"
    }
   ],
   "source": [
    "oth_pred_3"
   ]
  },
  {
   "cell_type": "code",
   "execution_count": 193,
   "id": "f86ce53f",
   "metadata": {},
   "outputs": [],
   "source": [
    "import json\n",
    "threshold = [0.50, 0.60, 0.70, 0.80, 0.90]\n",
    "for th in threshold:\n",
    "    data = []\n",
    "    \n",
    "    for i in range(len(oth_pred_3)):\n",
    "        if oth_pred_3[i][1] >= th:\n",
    "            values = {}\n",
    "            values['tweet'] = df_oth['text'][i]\n",
    "            values[\"stance\"] = df_oth['stance'][i]\n",
    "            data.append(values)\n",
    "    jsonString = json.dumps(data)\n",
    "    with open(\"rich_data/ent_pol_hlt/ent_pol_hlt\" + str(th) + \".json\", \"w\") as jsonFile:\n",
    "        jsonFile.write(jsonString)\n",
    "        jsonFile.close()\n",
    "    \n",
    "# file_name = 'rich_data/hlt_pol_ent/hlt_pol_ent' + str(th) +'.txt'\n",
    "# with open(file_name,'w') as f:\n",
    "#     for i in range(len(oth_pred_3)):\n",
    "#         if oth_pred_4[i] == 1:\n",
    "#             if oth_pred_3[i][1] >= th:\n",
    "#                 c+= 1\n",
    "#                 f.write(str(df_oth['text'][i]).strip() + \"\\t\" + str(df_oth['stance'][i]).strip())\n",
    "#                 f.write('\\n')"
   ]
  },
  {
   "cell_type": "code",
   "execution_count": 71,
   "id": "5d92cc73-afac-4e6d-89b8-dc33830cda78",
   "metadata": {},
   "outputs": [
    {
     "data": {
      "text/plain": [
       "3458"
      ]
     },
     "execution_count": 71,
     "metadata": {},
     "output_type": "execute_result"
    }
   ],
   "source": [
    "c"
   ]
  },
  {
   "cell_type": "code",
   "execution_count": 83,
   "id": "9577c8d9",
   "metadata": {},
   "outputs": [
    {
     "data": {
      "text/plain": [
       "7022"
      ]
     },
     "execution_count": 83,
     "metadata": {},
     "output_type": "execute_result"
    }
   ],
   "source": [
    "c = 0\n",
    "with open(file_name,'r') as f:\n",
    "    for i in f:\n",
    "        c += 1\n",
    "c"
   ]
  },
  {
   "cell_type": "code",
   "execution_count": 78,
   "id": "10e20262-9020-47a1-8f15-5209bf7522de",
   "metadata": {},
   "outputs": [
    {
     "name": "stdout",
     "output_type": "stream",
     "text": [
      "rich_data/hlt_pol_ent/hlt_pol_ent0.5.txt\n"
     ]
    }
   ],
   "source": [
    "print(file_name)"
   ]
  },
  {
   "cell_type": "code",
   "execution_count": 71,
   "id": "58a212d2",
   "metadata": {},
   "outputs": [],
   "source": [
    "# with open('rich_data.txt','w') as f:\n",
    "#     for tweet in rich_data:\n",
    "#         f.write(tweet)\n",
    "#         f.write('\\n')"
   ]
  },
  {
   "cell_type": "code",
   "execution_count": 94,
   "id": "522621f5",
   "metadata": {},
   "outputs": [],
   "source": [
    "df_rich_data.to_csv('rich_data.csv',sep='\\t')\n"
   ]
  },
  {
   "cell_type": "code",
   "execution_count": null,
   "id": "23dc36b7",
   "metadata": {},
   "outputs": [],
   "source": []
  }
 ],
 "metadata": {
  "kernelspec": {
   "display_name": "nlpKernel",
   "language": "python",
   "name": "nlpkernel"
  },
  "language_info": {
   "codemirror_mode": {
    "name": "ipython",
    "version": 3
   },
   "file_extension": ".py",
   "mimetype": "text/x-python",
   "name": "python",
   "nbconvert_exporter": "python",
   "pygments_lexer": "ipython3",
   "version": "3.9.6"
  }
 },
 "nbformat": 4,
 "nbformat_minor": 5
}
