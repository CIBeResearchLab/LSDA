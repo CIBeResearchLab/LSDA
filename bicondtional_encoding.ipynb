{
 "cells": [
  {
   "cell_type": "code",
   "execution_count": 1,
   "id": "a47c95f5-c1ba-4a45-bf43-917fd3c30b38",
   "metadata": {},
   "outputs": [],
   "source": [
    "import string\n",
    "import re\n",
    "import os\n",
    "import nltk\n",
    "import pandas as pd\n",
    "import numpy as np\n",
    "import json\n",
    "import tensorflow as tf\n",
    "from tensorflow import keras\n",
    "SEED = 1013\n",
    "np.random.seed(SEED)\n",
    "#nltk.download('stopwords')\n",
    "from nltk.tokenize import TweetTokenizer\n",
    "from nltk.corpus import stopwords, twitter_samples \n",
    "from stance_utils import *\n",
    "#from parameters import *\n",
    "from nltk.stem import PorterStemmer\n",
    "from sklearn.metrics import classification_report\n",
    "from sklearn.feature_extraction.text import CountVectorizer\n",
    "from tensorflow.keras.preprocessing.text import Tokenizer\n",
    "from tensorflow.keras.preprocessing.sequence import pad_sequences\n",
    "from tensorflow.keras import Sequential\n",
    "#from tensorflow.keras.layers import Dropout,Concatenate,Dense, Embedding, SpatialDropout1D, Flatten, GRU, Bidirectional, Conv1D,MaxPooling1D\n",
    "\n",
    "from tensorflow.keras.layers import RNN, Dropout,Concatenate,Dense, Embedding,LSTMCell, LSTM, SpatialDropout1D, Flatten, GRU, Bidirectional, Conv1D, Input,MaxPooling1D\n",
    "from sklearn.model_selection import train_test_split\n",
    "from tensorflow.keras import Model\n",
    "from sklearn.model_selection import StratifiedKFold\n",
    "stemmer = PorterStemmer()\n",
    "tokenizer = TweetTokenizer(preserve_case=False, strip_handles=True, reduce_len=True)\n",
    "stopwords_english = stopwords.words('english')\n",
    "from sklearn.preprocessing import LabelEncoder\n",
    "import keras.backend as K\n",
    "from keras.layers import Lambda\n",
    "import random\n",
    "import matplotlib.pyplot as plt"
   ]
  },
  {
   "cell_type": "code",
   "execution_count": 2,
   "id": "ef1eb2ac-3c04-4226-ad5f-ae132b6fae72",
   "metadata": {},
   "outputs": [],
   "source": [
    "classes = {'FAVOR': np.array([1, 0, 0]), 'AGAINST': np.array([0, 1, 0]), 'NONE': np.array([0, 0, 1])}\n",
    "classes_ = np.array(['FAVOR', 'AGAINST', 'NONE'])"
   ]
  },
  {
   "cell_type": "code",
   "execution_count": 3,
   "id": "fdc10ac3",
   "metadata": {
    "scrolled": true
   },
   "outputs": [],
   "source": [
    "batch_size = 16\n",
    "setting = 'cross' #'in' or 'cross'\n",
    "units = 60"
   ]
  },
  {
   "cell_type": "code",
   "execution_count": 4,
   "id": "65230d80-7c1f-453d-a66c-c5043bf88588",
   "metadata": {},
   "outputs": [],
   "source": [
    "train_data_file_m = '/data/parush/stance_mohammed/new_train.txt'\n",
    "test_data_file_m = '/data/parush/stance_mohammed/new_test.txt'\n",
    "TARGETS_m = [ 'Atheism','Climate Change is a Real Concern', 'Feminist Movement','Hillary Clinton', 'Legalization of Abortion', 'Donald Trump']"
   ]
  },
  {
   "cell_type": "code",
   "execution_count": 5,
   "id": "9f08aad6-d353-4f23-82d6-034c785aaff3",
   "metadata": {},
   "outputs": [],
   "source": [
    "def train_and_test(train_file, test_file, target):\n",
    "    \n",
    "    sentence_maxlen = 0\n",
    "    target_maxlen = 0\n",
    "    x_s_token = []\n",
    "    x_t_token = []\n",
    "    y_train = []\n",
    "\n",
    "    print('Using', target)\n",
    "    with open(train_file, 'r') as trainfile:\n",
    "        for line in trainfile: \n",
    "            line = line.replace('#SemST', '').strip()\n",
    "            line = line.split('\\t')\n",
    "            \n",
    "            \n",
    "            if line[0].strip() != 'ID' and target in line[1].strip():\n",
    "                tweet = line[2]\n",
    "                tweet = process_tweet(tweet)\n",
    "                if len(tweet) > sentence_maxlen:\n",
    "                    sentence_maxlen = len(tweet)\n",
    "                x_s_token.append(tweet)\n",
    "                target_ = line[1].strip().lower().split()\n",
    "                if len(target_) > target_maxlen:\n",
    "                    target_maxlen = len(target_)\n",
    "                x_t_token.append(target_)\n",
    "                y_train.append(classes[line[3].strip()])\n",
    "    \n",
    "\n",
    "                               \n",
    "    \n",
    "    x_s_test_token = []\n",
    "    x_t_test_token = []\n",
    "    y_test = []\n",
    "    with open(test_file, 'r') as testfile:\n",
    "        for line in testfile:\n",
    "            line = line.replace('#SemST', '').strip()\n",
    "            line = line.split('\\t')\n",
    "        \n",
    "\n",
    "            \n",
    "            if line[0] != 'ID' and target in line[1].strip():\n",
    "                tweet = line[2]\n",
    "                tweet = process_tweet(tweet)\n",
    "                if len(tweet) > sentence_maxlen:\n",
    "                    sentence_maxlen = len(tweet)\n",
    "                x_s_test_token.append(tweet)\n",
    "                target_ = line[1].strip().lower().split()\n",
    "                if len(target_) > target_maxlen:\n",
    "                    target_maxlen = len(target_)\n",
    "                x_t_test_token.append(target_)\n",
    "                y_test.append(classes[line[3].strip()])\n",
    "\n",
    "\n",
    "    \n",
    "    return x_s_token, x_t_token, x_s_test_token, x_t_test_token, y_train, y_test, sentence_maxlen, target_maxlen"
   ]
  },
  {
   "cell_type": "code",
   "execution_count": 6,
   "id": "08ddd7e6-fbc1-4815-9486-7ec4fd80ddd8",
   "metadata": {},
   "outputs": [
    {
     "name": "stdout",
     "output_type": "stream",
     "text": [
      "Using Feminist Movement\n",
      "Using Legalization of Abortion\n"
     ]
    }
   ],
   "source": [
    "if setting == 'in':\n",
    "    x_s_token, x_t_token, x_s_test_token, x_t_test_token, y_train, y_test, sentence_maxlen, target_maxlen  = train_and_test(train_data_file_m, test_data_file_m, TARGETS_m[2])\n",
    "if setting == 'cross':\n",
    "    x_s_token, x_t_token, _, _, y_train, _, sentence_maxlen, target_maxlen  = train_and_test(train_data_file_m, test_data_file_m, TARGETS_m[2])\n",
    "    _, _, x_s_test_token, x_t_test_token, _, y_test, _, _  = train_and_test(train_data_file_m, test_data_file_m, TARGETS_m[4])\n",
    "    "
   ]
  },
  {
   "cell_type": "code",
   "execution_count": 7,
   "id": "b5668309-53e2-466c-b413-0df0aac2eecf",
   "metadata": {},
   "outputs": [
    {
     "name": "stdout",
     "output_type": "stream",
     "text": [
      "Total words in vocab are 2349\n"
     ]
    }
   ],
   "source": [
    "vocabulary = build_vocab(x_s_token + x_t_token )\n",
    "vocab_size = len(vocabulary)\n",
    "print(\"Total words in vocab are\",vocab_size)"
   ]
  },
  {
   "cell_type": "code",
   "execution_count": 8,
   "id": "946d2dd4",
   "metadata": {},
   "outputs": [],
   "source": [
    "y_train = np.asarray(y_train)\n",
    "_,balance = divmod(len(y_train),batch_size)\n",
    "balance = batch_size-balance\n",
    "y_train = list(y_train)\n",
    "for i in range(balance):\n",
    "    index = np.random.randint(1, len(y_train))\n",
    "    x_s_token.append(x_s_token[index])\n",
    "    y_train.append(y_train[index])\n",
    "    x_t_token.append(x_t_token[index])"
   ]
  },
  {
   "cell_type": "code",
   "execution_count": 9,
   "id": "c8215158-4421-4a4c-88c0-b60598dbf465",
   "metadata": {},
   "outputs": [],
   "source": [
    "x_s = [tweet_to_tensor(each_s,vocabulary) for each_s in x_s_token]\n",
    "x_s = pad_sequences(x_s, maxlen = sentence_maxlen, padding = 'post')\n",
    "x_s_test = [tweet_to_tensor(each_s,vocabulary) for each_s in x_s_test_token]\n",
    "x_s_test = pad_sequences(x_s_test, maxlen = sentence_maxlen, padding = 'post')\n",
    "\n",
    "x_t = [tweet_to_tensor(each_s,vocabulary) for each_s in x_t_token]\n",
    "x_t = pad_sequences(x_t, maxlen = sentence_maxlen, padding = 'post')\n",
    "x_t_test = [tweet_to_tensor(each_s,vocabulary) for each_s in x_t_test_token]\n",
    "x_t_test = pad_sequences(x_t_test, maxlen = sentence_maxlen, padding = 'post')"
   ]
  },
  {
   "cell_type": "code",
   "execution_count": null,
   "id": "0decbff1",
   "metadata": {},
   "outputs": [],
   "source": []
  },
  {
   "cell_type": "code",
   "execution_count": 10,
   "id": "b255d44e-796b-498e-9736-ecf96a732ff1",
   "metadata": {},
   "outputs": [],
   "source": [
    "shuffle_indices = np.random.permutation(np.arange(len(y_train)))\n",
    "x_s = x_s[shuffle_indices]\n",
    "x_t = x_t[shuffle_indices]\n",
    "y_train = np.asarray(y_train)\n",
    "y_train = y_train[shuffle_indices]\n",
    "y_test = np.asarray(y_test)"
   ]
  },
  {
   "cell_type": "code",
   "execution_count": 11,
   "id": "ef1fa903",
   "metadata": {},
   "outputs": [
    {
     "name": "stdout",
     "output_type": "stream",
     "text": [
      "[0. 0. 0. 0. 0. 0. 0. 0. 0. 0. 0. 0. 0. 0. 0. 0. 0. 0. 0. 0. 0. 0. 0. 0.\n",
      " 0. 0. 0. 0. 0. 0. 0. 0. 0. 0. 0. 0. 0. 0. 0. 0. 0. 0. 0. 0. 0. 0. 0. 0.\n",
      " 0. 0. 0. 0. 0. 0. 0. 0. 0. 0. 0. 0. 0. 0. 0. 0. 0. 0. 0. 0. 0. 0. 0. 0.\n",
      " 0. 0. 0. 0. 0. 0. 0. 0. 0. 0. 0. 0. 0. 0. 0. 0. 0. 0. 0. 0. 0. 0. 0. 0.\n",
      " 0. 0. 0. 0.]\n"
     ]
    }
   ],
   "source": [
    "embedding_matrix = get_embeddings('twitter',100,vocabulary)"
   ]
  },
  {
   "cell_type": "code",
   "execution_count": 12,
   "id": "2609d376",
   "metadata": {
    "scrolled": true
   },
   "outputs": [
    {
     "name": "stderr",
     "output_type": "stream",
     "text": [
      "2021-10-30 22:08:58.917886: W tensorflow/stream_executor/platform/default/dso_loader.cc:64] Could not load dynamic library 'libcuda.so.1'; dlerror: libcuda.so.1: cannot open shared object file: No such file or directory; LD_LIBRARY_PATH: /apps/cuda/cuda-11.2/lib64:/slurm/include\n",
      "2021-10-30 22:08:58.917940: W tensorflow/stream_executor/cuda/cuda_driver.cc:269] failed call to cuInit: UNKNOWN ERROR (303)\n",
      "2021-10-30 22:08:58.917971: I tensorflow/stream_executor/cuda/cuda_diagnostics.cc:156] kernel driver does not appear to be running on this host (gaivi2.cse.usf.edu): /proc/driver/nvidia/version does not exist\n",
      "2021-10-30 22:08:58.918580: I tensorflow/core/platform/cpu_feature_guard.cc:142] This TensorFlow binary is optimized with oneAPI Deep Neural Network Library (oneDNN) to use the following CPU instructions in performance-critical operations:  AVX2 FMA\n",
      "To enable them in other operations, rebuild TensorFlow with the appropriate compiler flags.\n"
     ]
    }
   ],
   "source": [
    "embedded_inputs = tf.nn.embedding_lookup(embedding_matrix, x_t)"
   ]
  },
  {
   "cell_type": "code",
   "execution_count": 13,
   "id": "2cf8efe0",
   "metadata": {},
   "outputs": [
    {
     "data": {
      "text/plain": [
       "TensorShape([672, 18, 100])"
      ]
     },
     "execution_count": 13,
     "metadata": {},
     "output_type": "execute_result"
    }
   ],
   "source": [
    "embedded_inputs.shape"
   ]
  },
  {
   "cell_type": "code",
   "execution_count": 14,
   "id": "34a2b7b6",
   "metadata": {},
   "outputs": [],
   "source": [
    "h_0 = tf.convert_to_tensor(np.zeros([batch_size, units]).astype(np.float32))\n",
    "c_0 = tf.convert_to_tensor(np.zeros([batch_size, units]).astype(np.float32))\n",
    "start_state = [h_0, c_0]"
   ]
  },
  {
   "cell_type": "code",
   "execution_count": 15,
   "id": "7a14e559",
   "metadata": {},
   "outputs": [],
   "source": [
    "inputs = embedded_inputs[:batch_size]\n"
   ]
  },
  {
   "cell_type": "code",
   "execution_count": 16,
   "id": "67dabd51",
   "metadata": {},
   "outputs": [
    {
     "data": {
      "text/plain": [
       "TensorShape([16, 18, 100])"
      ]
     },
     "execution_count": 16,
     "metadata": {},
     "output_type": "execute_result"
    }
   ],
   "source": [
    "inputs.shape"
   ]
  },
  {
   "cell_type": "code",
   "execution_count": 17,
   "id": "5d6ae32a",
   "metadata": {},
   "outputs": [],
   "source": [
    "\n",
    "\n",
    "lstm = LSTM(units, return_sequences=True, return_state=True)\n",
    "fw_output, fw_h_0, fw_c_0 = lstm(inputs,initial_state = [h_0, c_0])\n",
    "bw_output, bw_h_0, bw_c_0 = lstm(inputs[::-1],initial_state = [h_0, c_0]) # feeding data backwords\n",
    "\n"
   ]
  },
  {
   "cell_type": "code",
   "execution_count": 18,
   "id": "47ee7754",
   "metadata": {
    "scrolled": true
   },
   "outputs": [],
   "source": [
    "# opt = keras.optimizers.Adam(learning_rate=1e-3)\n",
    "# inputs2 = Input(shape=(sentence_maxlen), name = 'Input')\n",
    "\n",
    "# embedded_inputs = Embedding(embedding_matrix.shape[0], embedding_matrix.shape[1], weights=[embedding_matrix], name = 'Embedding')(inputs2)\n",
    "\n",
    "# lstm = LSTM(units,activation='tanh',dropout=0.1,name = 'lstm')(embedded_inputs, initial_state = [h_0, fw_c_0])\n",
    "# b_lstm = LSTM(units,activation='tanh',dropout=0.1, go_backwards = True,name = 'back_lstm')(embedded_inputs, initial_state = [h_0, bw_c_0])\n",
    "# cond_out = []\n",
    "# cond_out.append(lstm)\n",
    "# cond_out.append(b_lstm)\n",
    "# concat_output = Concatenate()(cond_out)\n",
    "# flat = Flatten(name = 'Flatten')(concat_output)\n",
    "# output = (Dense(3,activation='softmax',name = 'Dense'))(flat)\n",
    "# model2 = Model(inputs=inputs2, outputs=output)\n",
    "# model2.compile(loss = 'categorical_crossentropy', optimizer=opt, metrics = ['accuracy'])    \n",
    "# model2.summary()\n"
   ]
  },
  {
   "cell_type": "code",
   "execution_count": 19,
   "id": "0184e3d4",
   "metadata": {},
   "outputs": [
    {
     "name": "stdout",
     "output_type": "stream",
     "text": [
      "Model: \"model\"\n",
      "__________________________________________________________________________________________________\n",
      "Layer (type)                    Output Shape         Param #     Connected to                     \n",
      "==================================================================================================\n",
      "Input (InputLayer)              [(None, 18)]         0                                            \n",
      "__________________________________________________________________________________________________\n",
      "Embedding (Embedding)           (None, 18, 100)      234900      Input[0][0]                      \n",
      "__________________________________________________________________________________________________\n",
      "lstm (LSTM)                     (16, 32)             17024       Embedding[0][0]                  \n",
      "__________________________________________________________________________________________________\n",
      "back_lstm (LSTM)                (16, 32)             17024       Embedding[0][0]                  \n",
      "__________________________________________________________________________________________________\n",
      "concatenate (Concatenate)       (16, 64)             0           lstm[0][0]                       \n",
      "                                                                 back_lstm[0][0]                  \n",
      "__________________________________________________________________________________________________\n",
      "dropout (Dropout)               (16, 64)             0           concatenate[0][0]                \n",
      "__________________________________________________________________________________________________\n",
      "Flatten (Flatten)               (16, 64)             0           dropout[0][0]                    \n",
      "__________________________________________________________________________________________________\n",
      "dropout_1 (Dropout)             (16, 64)             0           Flatten[0][0]                    \n",
      "__________________________________________________________________________________________________\n",
      "Dense (Dense)                   (16, 3)              195         dropout_1[0][0]                  \n",
      "==================================================================================================\n",
      "Total params: 269,143\n",
      "Trainable params: 269,143\n",
      "Non-trainable params: 0\n",
      "__________________________________________________________________________________________________\n"
     ]
    }
   ],
   "source": [
    "opt = keras.optimizers.Adam(learning_rate=1e-3)\n",
    "inputs2 = Input(shape=(sentence_maxlen), name = 'Input')\n",
    "\n",
    "embedded_inputs = Embedding(embedding_matrix.shape[0], embedding_matrix.shape[1], weights=[embedding_matrix], name = 'Embedding')(inputs2)\n",
    "\n",
    "lstm = LSTM(units,activation='tanh',dropout=0.1,name = 'lstm')(embedded_inputs, initial_state = [h_0, fw_c_0])\n",
    "b_lstm = LSTM(units,activation='tanh',dropout=0.1, go_backwards = True,name = 'back_lstm')(embedded_inputs, initial_state = [h_0, bw_c_0])\n",
    "cond_out = []\n",
    "cond_out.append(lstm)\n",
    "cond_out.append(b_lstm)\n",
    "concat_output = Concatenate()(cond_out)\n",
    "concat_output = Dropout(0.5)(concat_output)\n",
    "flat = Flatten(name = 'Flatten')(concat_output)\n",
    "output = Dropout(0.5)(flat)\n",
    "output = (Dense(3,activation='softmax',name = 'Dense'))(output)\n",
    "model2 = Model(inputs=inputs2, outputs=output)\n",
    "model2.compile(loss = 'categorical_crossentropy', optimizer=opt, metrics = ['accuracy'])    \n",
    "model2.summary()\n"
   ]
  },
  {
   "cell_type": "code",
   "execution_count": 20,
   "id": "eabf7a4e",
   "metadata": {},
   "outputs": [
    {
     "data": {
      "text/plain": [
       "0.11904761904761904"
      ]
     },
     "execution_count": 20,
     "metadata": {},
     "output_type": "execute_result"
    }
   ],
   "source": [
    "v_num = len(y_train)//10 \n",
    "_, b3 = divmod(v_num,16)\n",
    "v_split = (v_num  + (batch_size-b3)) / len(y_train)\n",
    "v_split"
   ]
  },
  {
   "cell_type": "code",
   "execution_count": null,
   "id": "ca0f84be",
   "metadata": {},
   "outputs": [],
   "source": []
  },
  {
   "cell_type": "code",
   "execution_count": 21,
   "id": "26fc23fb",
   "metadata": {},
   "outputs": [
    {
     "name": "stderr",
     "output_type": "stream",
     "text": [
      "2021-10-30 22:09:00.757807: I tensorflow/compiler/mlir/mlir_graph_optimization_pass.cc:185] None of the MLIR Optimization Passes are enabled (registered 2)\n"
     ]
    },
    {
     "name": "stdout",
     "output_type": "stream",
     "text": [
      "Epoch 1/50\n",
      "37/37 [==============================] - 3s 25ms/step - loss: 1.0678 - accuracy: 0.4189 - val_loss: 1.0555 - val_accuracy: 0.4250\n",
      "Epoch 2/50\n",
      "37/37 [==============================] - 0s 6ms/step - loss: 1.0203 - accuracy: 0.4814 - val_loss: 1.0503 - val_accuracy: 0.4250\n",
      "Epoch 3/50\n",
      "37/37 [==============================] - 0s 6ms/step - loss: 0.9761 - accuracy: 0.5051 - val_loss: 1.0271 - val_accuracy: 0.4375\n",
      "Epoch 4/50\n",
      "37/37 [==============================] - 0s 6ms/step - loss: 0.9264 - accuracy: 0.5422 - val_loss: 1.0122 - val_accuracy: 0.4500\n",
      "Epoch 5/50\n",
      "37/37 [==============================] - 0s 6ms/step - loss: 0.8668 - accuracy: 0.5845 - val_loss: 0.9917 - val_accuracy: 0.5125\n",
      "Epoch 6/50\n",
      "37/37 [==============================] - 0s 6ms/step - loss: 0.7395 - accuracy: 0.6757 - val_loss: 1.0218 - val_accuracy: 0.5375\n",
      "Epoch 7/50\n",
      "37/37 [==============================] - 0s 6ms/step - loss: 0.5921 - accuracy: 0.7635 - val_loss: 1.1774 - val_accuracy: 0.5250\n",
      "Epoch 8/50\n",
      "37/37 [==============================] - 0s 6ms/step - loss: 0.4558 - accuracy: 0.8226 - val_loss: 1.2627 - val_accuracy: 0.5500\n",
      "Epoch 9/50\n",
      "37/37 [==============================] - 0s 6ms/step - loss: 0.3258 - accuracy: 0.9020 - val_loss: 1.4921 - val_accuracy: 0.5625\n",
      "Epoch 10/50\n",
      "37/37 [==============================] - 0s 6ms/step - loss: 0.2203 - accuracy: 0.9358 - val_loss: 1.5036 - val_accuracy: 0.5875\n",
      "Epoch 11/50\n",
      "37/37 [==============================] - 0s 6ms/step - loss: 0.1606 - accuracy: 0.9662 - val_loss: 1.7716 - val_accuracy: 0.5625\n",
      "Epoch 12/50\n",
      "37/37 [==============================] - 0s 6ms/step - loss: 0.1210 - accuracy: 0.9831 - val_loss: 2.0023 - val_accuracy: 0.5750\n",
      "Epoch 13/50\n",
      "37/37 [==============================] - 0s 6ms/step - loss: 0.1203 - accuracy: 0.9730 - val_loss: 1.8695 - val_accuracy: 0.5375\n",
      "Epoch 14/50\n",
      "37/37 [==============================] - 0s 6ms/step - loss: 0.1118 - accuracy: 0.9730 - val_loss: 1.9620 - val_accuracy: 0.5500\n",
      "Epoch 15/50\n",
      "37/37 [==============================] - 0s 6ms/step - loss: 0.0936 - accuracy: 0.9797 - val_loss: 2.0367 - val_accuracy: 0.5000\n",
      "Epoch 16/50\n",
      "37/37 [==============================] - 0s 6ms/step - loss: 0.0603 - accuracy: 0.9899 - val_loss: 2.1103 - val_accuracy: 0.5875\n",
      "Epoch 17/50\n",
      "37/37 [==============================] - 0s 6ms/step - loss: 0.0484 - accuracy: 0.9932 - val_loss: 2.1957 - val_accuracy: 0.5875\n",
      "Epoch 18/50\n",
      "37/37 [==============================] - 0s 6ms/step - loss: 0.0325 - accuracy: 0.9966 - val_loss: 2.5009 - val_accuracy: 0.5750\n",
      "Epoch 19/50\n",
      "37/37 [==============================] - 0s 6ms/step - loss: 0.0440 - accuracy: 0.9899 - val_loss: 2.3483 - val_accuracy: 0.6000\n",
      "Epoch 20/50\n",
      "37/37 [==============================] - 0s 6ms/step - loss: 0.0286 - accuracy: 0.9932 - val_loss: 2.7328 - val_accuracy: 0.5625\n",
      "Epoch 21/50\n",
      "37/37 [==============================] - 0s 6ms/step - loss: 0.0409 - accuracy: 0.9932 - val_loss: 2.6426 - val_accuracy: 0.5500\n",
      "Epoch 22/50\n",
      "37/37 [==============================] - 0s 6ms/step - loss: 0.0590 - accuracy: 0.9865 - val_loss: 2.4594 - val_accuracy: 0.5750\n",
      "Epoch 23/50\n",
      "37/37 [==============================] - 0s 6ms/step - loss: 0.0265 - accuracy: 0.9949 - val_loss: 2.8679 - val_accuracy: 0.5625\n",
      "Epoch 24/50\n",
      "37/37 [==============================] - 0s 6ms/step - loss: 0.0692 - accuracy: 0.9882 - val_loss: 2.3368 - val_accuracy: 0.5875\n",
      "Epoch 25/50\n",
      "37/37 [==============================] - 0s 6ms/step - loss: 0.0435 - accuracy: 0.9899 - val_loss: 2.5179 - val_accuracy: 0.5875\n",
      "Epoch 26/50\n",
      "37/37 [==============================] - 0s 6ms/step - loss: 0.0163 - accuracy: 1.0000 - val_loss: 2.6566 - val_accuracy: 0.5375\n",
      "Epoch 27/50\n",
      "37/37 [==============================] - 0s 6ms/step - loss: 0.0118 - accuracy: 0.9983 - val_loss: 2.7612 - val_accuracy: 0.5750\n",
      "Epoch 28/50\n",
      "37/37 [==============================] - 0s 6ms/step - loss: 0.0136 - accuracy: 0.9983 - val_loss: 2.8529 - val_accuracy: 0.5875\n",
      "Epoch 29/50\n",
      "37/37 [==============================] - 0s 6ms/step - loss: 0.0112 - accuracy: 0.9983 - val_loss: 2.7748 - val_accuracy: 0.5875\n",
      "Epoch 30/50\n",
      "37/37 [==============================] - 0s 6ms/step - loss: 0.0117 - accuracy: 0.9983 - val_loss: 3.0195 - val_accuracy: 0.5750\n",
      "Epoch 31/50\n",
      "37/37 [==============================] - 0s 6ms/step - loss: 0.0143 - accuracy: 0.9966 - val_loss: 2.8906 - val_accuracy: 0.5875\n",
      "Epoch 32/50\n",
      "37/37 [==============================] - 0s 6ms/step - loss: 0.0215 - accuracy: 0.9966 - val_loss: 3.0900 - val_accuracy: 0.5750\n",
      "Epoch 33/50\n",
      "37/37 [==============================] - 0s 6ms/step - loss: 0.0087 - accuracy: 1.0000 - val_loss: 3.0514 - val_accuracy: 0.5875\n",
      "Epoch 34/50\n",
      "37/37 [==============================] - 0s 6ms/step - loss: 0.0124 - accuracy: 0.9983 - val_loss: 3.1391 - val_accuracy: 0.5875\n",
      "Epoch 35/50\n",
      "37/37 [==============================] - 0s 6ms/step - loss: 0.0163 - accuracy: 0.9966 - val_loss: 3.0258 - val_accuracy: 0.6000\n",
      "Epoch 36/50\n",
      "37/37 [==============================] - 0s 6ms/step - loss: 0.0073 - accuracy: 1.0000 - val_loss: 2.9699 - val_accuracy: 0.6125\n",
      "Epoch 37/50\n",
      "37/37 [==============================] - 0s 6ms/step - loss: 0.0085 - accuracy: 0.9983 - val_loss: 3.2349 - val_accuracy: 0.5875\n",
      "Epoch 38/50\n",
      "37/37 [==============================] - 0s 6ms/step - loss: 0.0504 - accuracy: 0.9814 - val_loss: 2.9670 - val_accuracy: 0.5625\n",
      "Epoch 39/50\n",
      "37/37 [==============================] - 0s 6ms/step - loss: 0.0279 - accuracy: 0.9966 - val_loss: 2.8763 - val_accuracy: 0.6125\n",
      "Epoch 40/50\n",
      "37/37 [==============================] - 0s 6ms/step - loss: 0.0232 - accuracy: 0.9949 - val_loss: 2.6418 - val_accuracy: 0.6000\n",
      "Epoch 41/50\n",
      "37/37 [==============================] - 0s 6ms/step - loss: 0.0089 - accuracy: 0.9983 - val_loss: 2.6978 - val_accuracy: 0.6250\n",
      "Epoch 42/50\n",
      "37/37 [==============================] - 0s 6ms/step - loss: 0.0048 - accuracy: 1.0000 - val_loss: 2.7084 - val_accuracy: 0.6125\n",
      "Epoch 43/50\n",
      "37/37 [==============================] - 0s 6ms/step - loss: 0.0046 - accuracy: 1.0000 - val_loss: 2.7259 - val_accuracy: 0.6000\n",
      "Epoch 44/50\n",
      "37/37 [==============================] - 0s 6ms/step - loss: 0.0056 - accuracy: 1.0000 - val_loss: 2.8237 - val_accuracy: 0.6000\n",
      "Epoch 45/50\n",
      "37/37 [==============================] - 0s 6ms/step - loss: 0.0055 - accuracy: 1.0000 - val_loss: 2.8668 - val_accuracy: 0.6000\n",
      "Epoch 46/50\n",
      "37/37 [==============================] - 0s 6ms/step - loss: 0.0049 - accuracy: 1.0000 - val_loss: 2.9044 - val_accuracy: 0.6000\n",
      "Epoch 47/50\n",
      "37/37 [==============================] - 0s 6ms/step - loss: 0.0039 - accuracy: 1.0000 - val_loss: 2.9126 - val_accuracy: 0.6000\n",
      "Epoch 48/50\n",
      "37/37 [==============================] - 0s 6ms/step - loss: 0.0177 - accuracy: 0.9949 - val_loss: 2.9221 - val_accuracy: 0.5875\n",
      "Epoch 49/50\n",
      "37/37 [==============================] - 0s 6ms/step - loss: 0.0337 - accuracy: 0.9882 - val_loss: 2.7112 - val_accuracy: 0.6250\n",
      "Epoch 50/50\n",
      "37/37 [==============================] - 0s 6ms/step - loss: 0.0127 - accuracy: 0.9949 - val_loss: 2.9316 - val_accuracy: 0.6250\n"
     ]
    }
   ],
   "source": [
    "history = model2.fit(x_s, y_train, epochs = 50, batch_size = batch_size,validation_split = v_split,  verbose=1)"
   ]
  },
  {
   "cell_type": "code",
   "execution_count": 22,
   "id": "83413cc7",
   "metadata": {},
   "outputs": [
    {
     "data": {
      "image/png": "[encoded data removed]",
      "text/plain": [
       "<Figure size 432x288 with 1 Axes>"
      ]
     },
     "metadata": {
      "needs_background": "light"
     },
     "output_type": "display_data"
    }
   ],
   "source": [
    "plt.plot(history.history['loss'])\n",
    "plt.plot(history.history['val_loss'])\n",
    "plt.title('Training and Validation Losses',size = 12)\n",
    "plt.ylabel('loss')\n",
    "plt.xlabel('epoch')\n",
    "plt.legend(['train', 'val'], loc='upper right')\n",
    "plt.show()"
   ]
  },
  {
   "cell_type": "code",
   "execution_count": 22,
   "id": "9e1599c5",
   "metadata": {},
   "outputs": [
    {
     "name": "stdout",
     "output_type": "stream",
     "text": [
      "178\n",
      "179\n",
      "180\n",
      "181\n",
      "182\n",
      "183\n",
      "184\n",
      "185\n",
      "186\n",
      "187\n",
      "188\n",
      "189\n",
      "190\n",
      "191\n",
      "192\n"
     ]
    }
   ],
   "source": [
    "l = len(x_s_test)\n",
    "_, balance2 = divmod(l,batch_size)\n",
    "x_s_test = list(x_s_test)\n",
    "fill_number = batch_size - balance2\n",
    "for i in range(fill_number):\n",
    "    x_s_test.append(np.zeros(sentence_maxlen,))\n",
    "    print(len(x_s_test))\n",
    "x_s_test = np.array(x_s_test)"
   ]
  },
  {
   "cell_type": "code",
   "execution_count": null,
   "id": "4f925adf",
   "metadata": {},
   "outputs": [],
   "source": []
  },
  {
   "cell_type": "code",
   "execution_count": 23,
   "id": "bccbccbc",
   "metadata": {},
   "outputs": [
    {
     "name": "stdout",
     "output_type": "stream",
     "text": [
      "              precision    recall  f1-score   support\n",
      "\n",
      "           0     0.2963    0.2162    0.2500        37\n",
      "           1     0.4368    0.5067    0.4691        75\n",
      "\n",
      "   micro avg     0.4035    0.4107    0.4071       112\n",
      "   macro avg     0.3665    0.3614    0.3596       112\n",
      "weighted avg     0.3904    0.4107    0.3967       112\n",
      " samples avg     0.2599    0.2599    0.2599       112\n",
      "\n"
     ]
    },
    {
     "name": "stderr",
     "output_type": "stream",
     "text": [
      "/home/p/parush/.conda/envs/nlp/lib/python3.9/site-packages/sklearn/metrics/_classification.py:1248: UndefinedMetricWarning: Precision and F-score are ill-defined and being set to 0.0 in samples with no predicted labels. Use `zero_division` parameter to control this behavior.\n",
      "  _warn_prf(average, modifier, msg_start, len(result))\n",
      "/home/p/parush/.conda/envs/nlp/lib/python3.9/site-packages/sklearn/metrics/_classification.py:1248: UndefinedMetricWarning: Recall and F-score are ill-defined and being set to 0.0 in samples with no true labels. Use `zero_division` parameter to control this behavior.\n",
      "  _warn_prf(average, modifier, msg_start, len(result))\n"
     ]
    }
   ],
   "source": [
    "y_pred = np.round(model2.predict(x_s_test, batch_size = 16))\n",
    "print(classification_report(y_test, y_pred[:-fill_number], digits=4, labels = [0,1]))"
   ]
  },
  {
   "cell_type": "code",
   "execution_count": null,
   "id": "b9bf70af",
   "metadata": {},
   "outputs": [],
   "source": [
    "# kfold = StratifiedKFold(n_splits=5, shuffle=True, random_state=SEED)\n",
    "# cvscores = []\n",
    "\n",
    "# for train, val in kfold.split(x_s, classes_[y_train.argmax(1)]): \n",
    "#     model2.fit(x_s[train], y_train[train], epochs = 5, batch_size = 16, verbose=1)\n",
    "# #     scores = model2.evaluate(x_s[val], y_train[val], verbose=0)\n",
    "# #     print(\"%s: %.2f%%\" % (model2.metrics_names[1], scores[1]*100))\n",
    "# #     cvscores.append(scores[1] * 100)\n",
    "# # print(\"%.2f%% (+/- %.2f%%)\" % (np.mean(cvscores), np.std(cvscores)))\n",
    "\n",
    "\n",
    "\n"
   ]
  },
  {
   "cell_type": "code",
   "execution_count": null,
   "id": "ccd4d929",
   "metadata": {},
   "outputs": [],
   "source": [
    "#embeddings_weights = get_embeddings('wikipedia',300,vocabulary)\n"
   ]
  },
  {
   "cell_type": "code",
   "execution_count": null,
   "id": "6d3085bb",
   "metadata": {},
   "outputs": [],
   "source": [
    "# Do we have to do this?\n",
    "# x_s_ = tf.convert_to_tensor(\n",
    "#     x_s_, dtype=tf.float32, dtype_hint=None, name=None\n",
    "# )"
   ]
  },
  {
   "cell_type": "code",
   "execution_count": null,
   "id": "1dc757d7",
   "metadata": {},
   "outputs": [],
   "source": [
    "# i = 0\n",
    "# j = 16\n",
    "# while j<=640:\n",
    "#     inputs = x_t[i:j]\n",
    "#     lstm = LSTM(128, return_sequences=True, return_state=True)\n",
    "#     whole_seq_output, h_0, c_0 = lstm(inputs,initial_state = [h_0, c_0])\n",
    "#     i += 16\n",
    "#     j += 16\n",
    "\n"
   ]
  },
  {
   "cell_type": "code",
   "execution_count": null,
   "id": "478352ec",
   "metadata": {},
   "outputs": [],
   "source": [
    "# inputs = Input(batch_shape=(16,1,18))\n",
    "# lstm = LSTM(128, return_sequences=True, return_state=True)\n",
    "# whole_seq_output, h_0, c_0 = lstm(inputs)\n",
    "# model = Model(inputs=inputs, outputs=whole_seq_output)\n",
    "# k = model.predict(x_t[:640])"
   ]
  },
  {
   "cell_type": "code",
   "execution_count": null,
   "id": "1da6e126",
   "metadata": {},
   "outputs": [],
   "source": [
    "# final_memory_state = tf.reshape(\n",
    "#     final_memory_state, (16,1,128), name=None\n",
    "# )\n",
    "\n",
    "# final_carry_state = tf.reshape(\n",
    "#     final_carry_state, (16,1,128), name=None\n",
    "# )\n"
   ]
  },
  {
   "cell_type": "code",
   "execution_count": null,
   "id": "e375ad97",
   "metadata": {},
   "outputs": [],
   "source": [
    "\n",
    "# inputs2 = Input(shape=(1,sentence_maxlen,), name = 'Input')\n",
    "# #embedded_inputs = Embedding(embeddings_weights.shape[0], embeddings_weights.shape[1], weights=[embeddings_weights], name = 'Embedding')(inputs2)\n",
    "# #embedded_inputs2 = Dropout(0.2)(embedded_inputs)\n",
    "# lstm, s1,s2 = LSTM(128,return_sequences=True,return_state=True,dropout=0.3,name = 'lstm')(inputs2, initial_state = i_states)\n",
    "# #lstm = LSTM(128,return_sequences=True,dropout=0.3,name = 'lstm')(inputs2)\n",
    "# flat = Flatten(name = 'Flatten')(lstm)\n",
    "# output = (Dense(3,activation='softmax',name = 'Dense'))(flat)\n",
    "# model2 = Model(inputs=inputs2, outputs=output)\n",
    "# model2.compile(loss = 'categorical_crossentropy', optimizer='adam',metrics = ['accuracy'])    \n",
    "# model2.summary()\n"
   ]
  },
  {
   "cell_type": "code",
   "execution_count": null,
   "id": "59727728",
   "metadata": {},
   "outputs": [],
   "source": [
    "# x_t =np.array( [x.reshape(1,18) for x in x_t[:640]])\n",
    "\n",
    "# x_t = tf.convert_to_tensor(\n",
    "#     x_t, dtype=tf.float32, dtype_hint=None, name=None\n",
    "# )\n",
    "\n",
    "# inputs_list = [tf.squeeze(x) for x in\n",
    "#                 tf.split(1, sentence_maxlen, embedded_inputs)]"
   ]
  }
 ],
 "metadata": {
  "kernelspec": {
   "display_name": "nlpKernel",
   "language": "python",
   "name": "nlpkernel"
  },
  "language_info": {
   "codemirror_mode": {
    "name": "ipython",
    "version": 3
   },
   "file_extension": ".py",
   "mimetype": "text/x-python",
   "name": "python",
   "nbconvert_exporter": "python",
   "pygments_lexer": "ipython3",
   "version": "3.9.6"
  }
 },
 "nbformat": 4,
 "nbformat_minor": 5
}
